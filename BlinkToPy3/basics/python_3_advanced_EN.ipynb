{
 "cells": [
  {
   "cell_type": "markdown",
   "metadata": {
    "colab_type": "text",
    "id": "FJ-YA-zj4xkj"
   },
   "source": [
    "# The next level Py"
   ]
  },
  {
   "cell_type": "markdown",
   "metadata": {
    "colab_type": "text",
    "id": "Kwt2U0RN5k4d"
   },
   "source": [
    "69 minutes of Into have passed. Now you're in good condition to discover more powerful Py3 features.\n",
    "\n",
    "...\n",
    "\n",
    "Sounds challenging, right? So, let's get it started!"
   ]
  },
  {
   "cell_type": "markdown",
   "metadata": {
    "colab_type": "text",
    "id": "c0H6p82aEjOA"
   },
   "source": [
    "# Introspection (5 min)"
   ]
  },
  {
   "cell_type": "markdown",
   "metadata": {
    "colab_type": "text",
    "id": "2ZslUuj6EnQ4"
   },
   "source": [
    "What do you think introspection is? And what about in terms of Python? Let's discover!\n",
    "\n",
    "Python supports full **introspection** (reflection) of execution time, including introspection type (type introspection). This means that **for any object you can get all the information about its internal structure and execution environment** [[wiki](https://ru.wikipedia.org/wiki/%D0%98%D0%BD%D1%82%D1%80%D0%BE%D1%81%D0%BF%D0%B5%D0%BA%D1%86%D0%B8%D1%8F_%D0%B2_Python)].\n",
    "\n",
    "So, let's go through it from the basics to more advanced stuff via examples.\n",
    "\n"
   ]
  },
  {
   "cell_type": "code",
   "execution_count": null,
   "metadata": {
    "colab": {
     "base_uri": "https://localhost:8080/",
     "height": 158.0
    },
    "colab_type": "code",
    "id": "SLYD8Qo9UoP4",
    "outputId": "0ef1fc79-f69c-416a-bd61-cbb3170d84f6"
   },
   "outputs": [
    {
     "name": "stdout",
     "output_type": "stream",
     "text": [
      "<class 'int'>\n",
      "<class 'float'>\n",
      "<class 'list'>\n",
      "<class 'function'>\n",
      "<class '__main__.ex_class'>\n",
      "---------------------------\n",
      "ex_class_obj's parameters and their description: {'parameter_x': \"It's X, you know . . .\"}\n",
      "f's (function) bytecode: b'd\\x00S\\x00'\n"
     ]
    }
   ],
   "source": [
    "# There's a lot of cases when you need to know a type of an object, while you're programming in Py\n",
    "a = 3\n",
    "print(type(a))\n",
    "print(type(a/3.4))\n",
    "print(type([]))\n",
    "\n",
    "# what about more comples types? -> the same way\n",
    "def f():pass\n",
    "print(type(f))\n",
    "\n",
    "class ex_class(object):pass\n",
    "ex_class_obj = ex_class()\n",
    "print(type(ex_class_obj))\n",
    "print(\"---------------------------\")\n",
    "\n",
    "# we might also need to obtain info about all object's attributes. Let's create one and discover it\n",
    "ex_class_obj.parameter_x = \"It's X, you know . . .\"\n",
    "print(\"ex_class_obj's parameters and their description:\", ex_class_obj.__dict__)\n",
    "\n",
    "# and what if we wanna get bytecode of our function? -> use \"co_code\"\n",
    "print(\"f's (function) bytecode:\", f.__code__.co_code)"
   ]
  },
  {
   "cell_type": "markdown",
   "metadata": {
    "colab_type": "text",
    "id": "fw7ILv2eb446"
   },
   "source": [
    "That's the basics. And there're another useful parts undiscovered:\n",
    "\n"
   ]
  },
  {
   "cell_type": "code",
   "execution_count": null,
   "metadata": {
    "colab": {
     "base_uri": "https://localhost:8080/",
     "height": 544.0
    },
    "colab_type": "code",
    "id": "DzxPdS9Mbd5o",
    "outputId": "530f593c-5448-4819-ccef-42af59b2a71f"
   },
   "outputs": [
    {
     "name": "stdout",
     "output_type": "stream",
     "text": [
      "Help on built-in function dir in module builtins:\n",
      "\n",
      "dir(...)\n",
      "    dir([object]) -> list of strings\n",
      "    \n",
      "    If called without an argument, return the names in the current scope.\n",
      "    Else, return an alphabetized list of names comprising (some of) the attributes\n",
      "    of the given object, and of attributes reachable from it.\n",
      "    If the object supplies a method named __dir__, it will be used; otherwise\n",
      "    the default dir() logic is used and returns:\n",
      "      for a module object: the module's attributes.\n",
      "      for a class object:  its attributes, and recursively the attributes\n",
      "        of its bases.\n",
      "      for any other object: its attributes, its class's attributes, and\n",
      "        recursively the attributes of its class's base classes.\n",
      "\n",
      "Help on built-in function hasattr in module builtins:\n",
      "\n",
      "hasattr(obj, name, /)\n",
      "    Return whether the object has an attribute with the given name.\n",
      "    \n",
      "    This is done by calling getattr(obj, name) and catching AttributeError.\n",
      "\n",
      "Help on built-in function id in module builtins:\n",
      "\n",
      "id(obj, /)\n",
      "    Return the identity of an object.\n",
      "    \n",
      "    This is guaranteed to be unique among simultaneously existing objects.\n",
      "    (CPython uses the object's memory address.)\n",
      "\n"
     ]
    }
   ],
   "source": [
    "# we can use the help function to see what each function does\n",
    "# help() # when calling without arguments this command launches continuous prompt, where you can type command name\n",
    "       # you're able to leave it pressing Ctrl+D\n",
    "\n",
    "# let's see how help() describes some other introspection functions\n",
    "help(dir)\n",
    "help(hasattr)\n",
    "help(id)"
   ]
  },
  {
   "cell_type": "markdown",
   "metadata": {
    "colab_type": "text",
    "id": "SJYP24X5gqeE"
   },
   "source": [
    "We've successfully investigated what power is hiding behind introspection. But if your ardent mind asks for **even more** fuel, there're very good comprehensive sources to satisfy it:\n",
    "\n",
    "\n",
    "*   Introspection in Python [[by zetcode](http://zetcode.com/lang/python/introspection/)]: simple and clear, just what you need!\n",
    "*   Guide to Python introspection [[IBM](https://www.ibm.com/developerworks/library/l-pyint/index.html)]: very well detailed overview.\n",
    "*   Python Introspection [[wikidot](http://programmingexamples.wikidot.com/python-introspection)]: ready to be impressed? Here's some tricky examples for you.\n",
    "*   inspect — Inspect live objects [[py off doc](https://docs.python.org/3/library/inspect.html)]: for those, who can't imagine his(her) life without official docs 😎. This source describes specific Python module for introspection purposes, but not introspection in general.\n",
    "\n",
    "Hope you enjoy it 😏\n",
    "\n",
    "\n"
   ]
  },
  {
   "cell_type": "markdown",
   "metadata": {
    "colab_type": "text",
    "id": "ONTLkNn36nGX"
   },
   "source": [
    "# Slices (5 min)\n"
   ]
  },
  {
   "cell_type": "markdown",
   "metadata": {
    "colab_type": "text",
    "id": "q6-9FrUs6pIx"
   },
   "source": [
    "So you've got a list, tuple or an array. A-a-a-and you wanna get specific set of sub-elements from it. A-a-a-and you don't wanna suffer from that long, drawn out for loops. . . Sounds so.. familiar, right? Ye, ye, we know..\n",
    "\n",
    "Thanks God, Python has an amazing feature just for that! It's called **slicing**. And its mission is in releasing us from that kind of pain.\n",
    "\n",
    "The [slice](https://www.programiz.com/python-programming/methods/built-in/slice) object is used to slice a given sequence (your capt. obvious 😜). \n",
    "\n",
    "Slice represents the indices specified by **range(start, stop, step)**.\n",
    "\n",
    "?� **Keep in mind** 📌: Slicing is useful not only for lists, tuples or arrays ([interested? -> click!](https://www.pythoncentral.io/how-to-slice-listsarrays-and-tuples-in-python/)).\n",
    "\n",
    "Now we've well-enough starting mental model of slicing in our mind. So, time to improve it via practice!"
   ]
  },
  {
   "cell_type": "code",
   "execution_count": null,
   "metadata": {
    "colab": {
     "base_uri": "https://localhost:8080/",
     "height": 170.0
    },
    "colab_type": "code",
    "id": "51mk32xgzwLO",
    "outputId": "c2e9d807-bad0-43a8-9077-33a2871a6e31"
   },
   "outputs": [
    {
     "name": "stdout",
     "output_type": "stream",
     "text": [
      "thon\n",
      "Python is \n",
      "on is awesome!\n",
      "Python is awesome!\n",
      "wes\n",
      "Pto saeoe\n",
      "Posee\n",
      "!emosewa si nohtyP\n",
      "Python is awesome!\n"
     ]
    }
   ],
   "source": [
    "string = \"Python is awesome!\"\n",
    "# print string elements from 2 to 6\n",
    "print(string[2:6])\n",
    "\n",
    "# print all string element before 10 \n",
    "print(string[:10])\n",
    "\n",
    "# print from position 4 to the end of the string\n",
    "print(string[4:])\n",
    "\n",
    "# print all elements\n",
    "print(string[:9] + string[9:])\n",
    "\n",
    "# index -7 through index fourth from last.\n",
    "print(string[-7:-4])\n",
    "\n",
    "# print every second element\n",
    "print(string[0:18:2])\n",
    "\n",
    "# print every fourth element from beginning \n",
    "print(string[::4])\n",
    "\n",
    "# print reverse string\n",
    "print(string[::-1])\n",
    "\n",
    "# print all elements in string\n",
    "print(string[:])"
   ]
  },
  {
   "cell_type": "markdown",
   "metadata": {
    "colab_type": "text",
    "id": "yWWwrKm_vu-r"
   },
   "source": [
    "Awww, still hungry?\n",
    "\n",
    "Np, we have some more :P"
   ]
  },
  {
   "cell_type": "code",
   "execution_count": null,
   "metadata": {
    "colab": {
     "base_uri": "https://localhost:8080/",
     "height": 68.0
    },
    "colab_type": "code",
    "id": "7-WR5ge65l50",
    "outputId": "ca36d30b-fd4c-4d82-ce7c-88c486b1f3c2"
   },
   "outputs": [
    {
     "name": "stdout",
     "output_type": "stream",
     "text": [
      "[0, 1, 2, 3, 4, 5, 6, 7, 8, 9]\n",
      "[1, 3, 5, 7, 9]\n",
      "[0, 2, 4, 6, 8]\n"
     ]
    }
   ],
   "source": [
    "list = range(10)\n",
    "print(list)\n",
    "\n",
    "# delete every second element\n",
    "del list[::2]\n",
    "print(list)\n",
    "\n",
    "# You can also now pass slice objects to the __getitem__ methods \n",
    "# of the built-in sequences:\n",
    "print(range(10).__getitem__(slice(0, 10, 2)))"
   ]
  },
  {
   "cell_type": "markdown",
   "metadata": {
    "colab_type": "text",
    "id": "xhQpAkR48Ng4"
   },
   "source": [
    "These and another examples, carefully prepared for you ❤️, you can find [here](https://www.dotnetperls.com/slice-python)."
   ]
  },
  {
   "cell_type": "markdown",
   "metadata": {
    "colab_type": "text",
    "id": "garLwcgxs66W"
   },
   "source": [
    "# Recursion (3 min)\n"
   ]
  },
  {
   "cell_type": "markdown",
   "metadata": {
    "colab_type": "text",
    "id": "okKQi3FntBgX"
   },
   "source": [
    "[Recursion](https://www.programiz.com/python-programming/recursion) is the process of defining something in terms of itself.\n"
   ]
  },
  {
   "cell_type": "code",
   "execution_count": null,
   "metadata": {
    "colab": {},
    "colab_type": "code",
    "id": "cAs9QpNktCmR"
   },
   "outputs": [],
   "source": [
    "# simple sample of finding factorial number using recursion\n",
    "n = 10\n",
    "print(\"n =\", n)\n",
    "print(\"------\")\n",
    "def factorial(n):\n",
    "    if n == 0:\n",
    "        return 1\n",
    "    else:\n",
    "        return n * factorial(n - 1)\n",
    "\n",
    "factorial(n)        "
   ]
  },
  {
   "cell_type": "markdown",
   "metadata": {
    "colab_type": "text",
    "id": "AJk80SlZarW2"
   },
   "source": [
    "# Iterators and generators (7 min)\n"
   ]
  },
  {
   "cell_type": "markdown",
   "metadata": {
    "colab_type": "text",
    "id": "n--tykNHayGU"
   },
   "source": [
    "We usually use `for` statement for looping over an object. But, what if we say, that it's not the only one way? What if.. Python has prepared for us smth tasty? Well, he did.\n",
    "\n",
    "💣 Warning! Scientific explanations invasion is expected! 💣\n",
    "\n",
    "[Iterator](http://zetcode.com/lang/python/itergener/) is an object which allows a programmer to traverse through all the elements of a collection, regardless of its specific implementation.\n",
    "\n",
    "The [iterators protocol](https://medium.com/the-python-corner/iterators-and-generators-in-python-2c3929a144b) consists in two methods: the \"__iter__\" method, that returns the object we would to iterate over and the \"__next__\" method, that is called automatically on each iteration and that returns the value for the current iteration.\n",
    "\n",
    "\n",
    "The built-in function iter takes an iterable object and returns an iterator.\n",
    "\n",
    "💣 Survivor report: invasion successfully crushed brains of 97% people in the whole Earth! But those, who survived, became much more sustained to all that scientific-oriented and \"dry-explained\" stuff. There're no more pain in the . . . when they see that kind of text💣\n",
    "\n",
    "If you're one of them, let's dive further together 😉"
   ]
  },
  {
   "cell_type": "markdown",
   "metadata": {
    "colab_type": "text",
    "id": "5CvxyICfdbst"
   },
   "source": [
    "Iterators are [implemented as classes](https://anandology.com/python-practice-book/iterators.html).\n"
   ]
  },
  {
   "cell_type": "code",
   "execution_count": null,
   "metadata": {
    "colab": {},
    "colab_type": "code",
    "id": "9WWh7yBxdkvd"
   },
   "outputs": [],
   "source": [
    "class iteration:\n",
    "    def __init__(self, n):\n",
    "        self.i = 0\n",
    "        self.n = n\n",
    "\n",
    "    def __iter__(self):\n",
    "        return self\n",
    "\n",
    "    def next(self):\n",
    "        if self.i < self.n:\n",
    "            i = self.i\n",
    "            self.i += 1\n",
    "            return i\n",
    "        else:\n",
    "            raise StopIteration()\n",
    "            \n",
    "iter = iteration(10)\n",
    "print(iter.next())\n",
    "print(iter.next())\n",
    "print(iter.next())\n",
    "print(iter.next())"
   ]
  },
  {
   "cell_type": "markdown",
   "metadata": {
    "colab_type": "text",
    "id": "_UGse6o_zF9A"
   },
   "source": [
    "Just like a list comprehension, we can use expressions to create python **generators shorthand**. Let’s take a list for this:"
   ]
  },
  {
   "cell_type": "code",
   "execution_count": null,
   "metadata": {
    "colab": {
     "base_uri": "https://localhost:8080/",
     "height": 51.0
    },
    "colab_type": "code",
    "id": "DHEiTUKbxVRF",
    "outputId": "914e91ca-95b0-4aa6-ddb5-b4926c290a09"
   },
   "outputs": [
    {
     "name": "stdout",
     "output_type": "stream",
     "text": [
      "[1, 9, 36, 100]\n",
      "1\n"
     ]
    }
   ],
   "source": [
    "my_list = [1, 3, 6, 10]\n",
    "print([x**2 for x in my_list])\n",
    "print(next(x**2 for x in my_list))"
   ]
  },
  {
   "cell_type": "markdown",
   "metadata": {
    "colab_type": "text",
    "id": "rqa0xLE2hEkC"
   },
   "source": [
    "Generators allow us to create iterators simplier.\n",
    "\n",
    "**Generator** is just a function that return result sequence.\n",
    "\n",
    "To create a generator you just need to define a function and then use the ***yield ***keyword instead of return.\n",
    "\n",
    "`Return` sends a specified value back to its caller whereas `Yield ` can produce a sequence of values.\n",
    "\n",
    "When function sees ** return** - it stops, when **yield** - function countinue to work, until yield is executed."
   ]
  },
  {
   "cell_type": "code",
   "execution_count": null,
   "metadata": {
    "colab": {
     "base_uri": "https://localhost:8080/",
     "height": 221.0
    },
    "colab_type": "code",
    "id": "aiDHSPNyjFpZ",
    "outputId": "3fd11b79-6100-4046-b46e-886e859d15c0"
   },
   "outputs": [
    {
     "name": "stdout",
     "output_type": "stream",
     "text": [
      "begin\n",
      "before yield 0\n",
      "after yield 0\n",
      "end\n",
      "before yield 1\n",
      "after yield 1\n",
      "end\n",
      "before yield 2\n",
      "after yield 2\n",
      "end\n",
      "before yield 3\n"
     ]
    },
    {
     "data": {
      "text/plain": [
       "3"
      ]
     },
     "execution_count": 5,
     "metadata": {
      "tags": []
     },
     "output_type": "execute_result"
    }
   ],
   "source": [
    "def it(n):\n",
    "    print \"begin\"\n",
    "    for i in range(n):\n",
    "        print \"before yield\", i\n",
    "        yield i\n",
    "        print \"after yield\", i\n",
    "        print \"end\"\n",
    "        \n",
    "obj = it(10)\n",
    "obj.next()\n",
    "obj.next()\n",
    "obj.next()\n",
    "obj.next()"
   ]
  },
  {
   "cell_type": "markdown",
   "metadata": {
    "colab_type": "text",
    "id": "4SqspWf2yyIE"
   },
   "source": [
    "If you still don't understand this topic - ~~you are in those 97%!!!~~ - we recommend you so hard to read [this article](https://data-flair.training/blogs/python-generators/). \n"
   ]
  },
  {
   "cell_type": "markdown",
   "metadata": {
    "colab_type": "text",
    "id": "DBUGR1lBN62E"
   },
   "source": [
    "# Decorators (7 min)"
   ]
  },
  {
   "cell_type": "markdown",
   "metadata": {
    "colab_type": "text",
    "id": "9dYuSAr1N-A5"
   },
   "source": [
    "Decorators **make us able to add functionality to an existing code**. \n",
    "\n",
    "Okay, okay, you may say, why do we even need some stuff to add functionality? Can't we just add some new lines with new features to existing files? Well, more often **we can't**. Why? Let's think about..\n"
   ]
  },
  {
   "cell_type": "markdown",
   "metadata": {
    "colab_type": "text",
    "id": "HyKi7IIi1uHS"
   },
   "source": [
    "📌 **Cool story arrived** 📌: Imagine, that you've developed great library. Than you've shared it with your buddy, who incredibly appreciated it. He started to use it in his own project and suddenly realise that it misses some cool feature. What shoud he do? Yeah, he can call you and ask for adding that stuff. But . . \n",
    "\n",
    "What if you're too busy? \n",
    "\n",
    "What if he cant w8 for so long? \n",
    "\n",
    "What if there're ton of people, not just one, who want to modify your code for their own needs. \n",
    "\n",
    "Yeah, there's library development process with continuous improving and adding new features, but **it'll never cover the WHOLE amount of \"wannas\"** from your customers. But decorators can help them via providing an ability to customize an existing code without its modifying."
   ]
  },
  {
   "cell_type": "markdown",
   "metadata": {
    "colab_type": "text",
    "id": "2jF4ni7r1gWb"
   },
   "source": [
    "So, now let's dive through examples!\n",
    "\n",
    "Firstly, we all need to remember that everything in Python is an object.\n",
    "\n",
    "For example, you can assign function/procedure to a variable:"
   ]
  },
  {
   "cell_type": "code",
   "execution_count": null,
   "metadata": {
    "colab": {
     "base_uri": "https://localhost:8080/",
     "height": 51.0
    },
    "colab_type": "code",
    "id": "TI3SLu8NP9Ny",
    "outputId": "88d0273d-46e5-4de8-ef87-6405749b5071"
   },
   "outputs": [
    {
     "name": "stdout",
     "output_type": "stream",
     "text": [
      "hi\n",
      "None\n"
     ]
    }
   ],
   "source": [
    "def is_called():\n",
    "    print(\"hi\")\n",
    "\n",
    "# assigning\n",
    "new = is_called\n",
    "print(new()) # as is_called is procedure, it prints \"hi\" and returns None"
   ]
  },
  {
   "cell_type": "markdown",
   "metadata": {
    "colab_type": "text",
    "id": "JIEgB1j4RADK"
   },
   "source": [
    "Imagine that function can be passed as an argument to another function.\n",
    "\n",
    "And that is the key trick of decorators."
   ]
  },
  {
   "cell_type": "code",
   "execution_count": null,
   "metadata": {
    "colab": {
     "base_uri": "https://localhost:8080/",
     "height": 68.0
    },
    "colab_type": "code",
    "id": "c6iivbQcaSPx",
    "outputId": "42a8de84-e31c-4374-e0ab-f28c6a085cf6"
   },
   "outputs": [
    {
     "name": "stdout",
     "output_type": "stream",
     "text": [
      "I got decorated\n",
      "I am ordinary\n",
      "None\n"
     ]
    }
   ],
   "source": [
    "def make_pretty(func):\n",
    "    # inner() function is wrapping your personal-write func() and add some new functionality to it.\n",
    "    def inner():\n",
    "        print(\"I got decorated\")\n",
    "        func()\n",
    "    return inner\n",
    "\n",
    "\n",
    "def ordinary():\n",
    "    print(\"I am ordinary\")\n",
    "\n",
    "\n",
    "pretty = make_pretty(ordinary)\n",
    "print(pretty())"
   ]
  },
  {
   "cell_type": "code",
   "execution_count": null,
   "metadata": {
    "colab": {
     "base_uri": "https://localhost:8080/",
     "height": 68.0
    },
    "colab_type": "code",
    "id": "eRXjETrDcUVR",
    "outputId": "b53a2eb6-7a45-4306-9bee-984fc7250903"
   },
   "outputs": [
    {
     "name": "stdout",
     "output_type": "stream",
     "text": [
      "I got decorated\n",
      "I am ordinary\n",
      "None\n"
     ]
    }
   ],
   "source": [
    "@make_pretty\n",
    "def ordinary():\n",
    "    print(\"I am ordinary\")\n",
    "    \n",
    "print(ordinary())   "
   ]
  },
  {
   "cell_type": "markdown",
   "metadata": {
    "colab_type": "text",
    "id": "OJKkGfk7c8nQ"
   },
   "source": [
    "Decorators, written in this style (using only 1-5 lines of code!) work the same as 12 - 13 lines above."
   ]
  },
  {
   "cell_type": "markdown",
   "metadata": {
    "colab_type": "text",
    "id": "2VkR0YjWdXlM"
   },
   "source": [
    "They are just a pythonic variant of the decorator design pattern [[wiki](https://en.wikipedia.org/wiki/Decorator_pattern)], [[tutorialspoint](https://www.tutorialspoint.com/design_pattern/decorator_pattern.htm)].\n",
    "\n",
    "There are several classic design patterns embedded in Python to ease development (like [iterators](#scrollTo=AJk80SlZarW2)). \n",
    "\n",
    "And it's one another sufficient reason to ❤️ Python, isn't it?"
   ]
  },
  {
   "cell_type": "markdown",
   "metadata": {
    "colab_type": "text",
    "id": "TSgqiQDCdcmG"
   },
   "source": [
    "If you want to see one the best explanations of Python decorators and find answers to questions like \"Where can I use it?\" or \"Can I write multiple decorators?\" - [this topic](https://gist.github.com/Zearin/2f40b7b9cfc51132851a) will help you SO MUCH. Russian version of this article -> [link](https://habr.com/post/141411/)."
   ]
  },
  {
   "cell_type": "markdown",
   "metadata": {
    "colab_type": "text",
    "id": "FDBwOvXweT9p"
   },
   "source": [
    "# Closures (5 min)"
   ]
  },
  {
   "cell_type": "markdown",
   "metadata": {
    "colab_type": "text",
    "id": "rFyvqjfPeWua"
   },
   "source": [
    "A function defined inside another function is called a **nested function**. Functions written above are simple example of nested functions (inner()). \n",
    "\n",
    "But if you want to **hide some variables and functionality from user**, you need to declare variables inside the **enclosing scope**.\n",
    "\n",
    "Let's look at the example:"
   ]
  },
  {
   "cell_type": "code",
   "execution_count": null,
   "metadata": {
    "colab": {
     "base_uri": "https://localhost:8080/",
     "height": 68.0
    },
    "colab_type": "code",
    "id": "u0kOMqVYkSaa",
    "outputId": "945e4d79-1217-4f2b-87bc-88ee0289decb"
   },
   "outputs": [
    {
     "name": "stdout",
     "output_type": "stream",
     "text": [
      "8\n",
      "30\n",
      "90\n"
     ]
    }
   ],
   "source": [
    "# function multiplies two numbers and returns the result.\n",
    "def mul(a, b):\n",
    "    return a * b    \n",
    "\n",
    "print(mul(4, 2))\n",
    "\n",
    "# if you want to create function that multiplies the number by 10 - just write:\n",
    "\n",
    "def mul10(a):\n",
    "    return mul(10, a)\n",
    "    \n",
    "print(mul10(3))\n",
    "\n",
    "# this method is not very convenient, because every time when \n",
    "# you want to multiply by the new number, you need to make a new function\n",
    "# but we can perform this way:\n",
    "\n",
    "def mul(a):\n",
    "    def inside(b):\n",
    "        return a * b\n",
    "    return inside\n",
    "    \n",
    "print(mul(10)(9))"
   ]
  },
  {
   "cell_type": "code",
   "execution_count": null,
   "metadata": {
    "colab": {
     "base_uri": "https://localhost:8080/",
     "height": 34.0
    },
    "colab_type": "code",
    "id": "sn98jj1emvgd",
    "outputId": "b27baa42-df09-4e86-d25e-633a796ac4a0"
   },
   "outputs": [
    {
     "name": "stdout",
     "output_type": "stream",
     "text": [
      "280.6471228812421\n"
     ]
    }
   ],
   "source": [
    "import random \n",
    "\n",
    "def mul(y):\n",
    "    x = random.uniform(0,10) * y\n",
    "    def inside(b):\n",
    "        return x * b\n",
    "    return inside\n",
    "# print(x)\n",
    "print(mul(10)(3))"
   ]
  },
  {
   "cell_type": "markdown",
   "metadata": {
    "colab_type": "text",
    "id": "n2Lbaz4GoOtz"
   },
   "source": [
    "Look at the function above. It has special variable x, that is defined ONLY in this function. \n",
    "\n",
    "It means that outside x is not defined(hide from users), you can check it by uncommenting eighth line. "
   ]
  },
  {
   "cell_type": "markdown",
   "metadata": {
    "colab_type": "text",
    "id": "2WNkuBoirt5B"
   },
   "source": [
    "[When and why to use Closures](https://www.geeksforgeeks.org/python-closures/):\n",
    "\n",
    "1. As closures are used as callback functions, they provide some sort of data hiding. This helps us to reduce the use of global variables.\n",
    "2. When we have few functions in our code, closures prove to be efficient way. But if we need to have many functions, then go for class (OOP)."
   ]
  },
  {
   "cell_type": "markdown",
   "metadata": {
    "colab_type": "text",
    "id": "nxt7x1YYslmY"
   },
   "source": [
    "Why aren't python nested function called closures? - > stackoverflow users defenitely know the [answer](https://stackoverflow.com/questions/4020419/why-arent-python-nested-functions-called-closures)!"
   ]
  },
  {
   "cell_type": "markdown",
   "metadata": {
    "colab_type": "text",
    "id": "PcecevI8Oz9N"
   },
   "source": [
    "# Date and time  (10 min)"
   ]
  },
  {
   "cell_type": "markdown",
   "metadata": {
    "colab_type": "text",
    "id": "ZF0bHtD9Xyt6"
   },
   "source": [
    "## Datetime"
   ]
  },
  {
   "cell_type": "markdown",
   "metadata": {
    "colab_type": "text",
    "id": "UpOwiERsO2zu"
   },
   "source": [
    "In Python, [date, time and datetime classes](https://www.guru99.com/date-time-and-datetime-classes-in-python.html) provides a number of functions to deal with dates, times and time intervals. Date and datetime are objects in Python, so when you manipulate them, you are actually manipulating objects."
   ]
  },
  {
   "cell_type": "markdown",
   "metadata": {
    "colab_type": "text",
    "id": "Fu6IEdTJPL7D"
   },
   "source": [
    "**datetime** module contains functions and classes for working with dates and times.\n",
    "\n",
    "To start working with dates and times in Python all  you need is to run:"
   ]
  },
  {
   "cell_type": "code",
   "execution_count": null,
   "metadata": {
    "colab": {},
    "colab_type": "code",
    "id": "6BA92eelPgje"
   },
   "outputs": [],
   "source": [
    "import datetime"
   ]
  },
  {
   "cell_type": "markdown",
   "metadata": {
    "colab_type": "text",
    "id": "9TR-autwQMbl"
   },
   "source": [
    "Let's look at the first example \n",
    "\n",
    "**time** allow us to work only with times (hour, minute, second, microsecond).\n",
    "\n",
    "You can display information about each of these fields:"
   ]
  },
  {
   "cell_type": "code",
   "execution_count": 2,
   "metadata": {
    "colab": {
     "base_uri": "https://localhost:8080/",
     "height": 102.0
    },
    "colab_type": "code",
    "id": "eTaExN2CPyQT",
    "outputId": "c45bd8ea-d3c9-4b67-bc6f-f64f7c439e6b"
   },
   "outputs": [
    {
     "name": "stdout",
     "output_type": "stream",
     "text": [
      "23:15:56.000009\n",
      "23\n",
      "15\n",
      "56\n",
      "9\n"
     ]
    }
   ],
   "source": [
    "t_example = datetime.time(23, 15, 56, 9)\n",
    "print(t_example)\n",
    "\n",
    "print(t_example.hour)\n",
    "print(t_example.minute)\n",
    "print(t_example.second)\n",
    "print(t_example.microsecond)"
   ]
  },
  {
   "cell_type": "markdown",
   "metadata": {
    "colab_type": "text",
    "id": "Z3GRctuoRamY"
   },
   "source": [
    "Calendar date values are represented with the **date** class. \n",
    "\n",
    "One of the most convenient features of this class is the ability to show today's date:\n"
   ]
  },
  {
   "cell_type": "code",
   "execution_count": 3,
   "metadata": {
    "colab": {
     "base_uri": "https://localhost:8080/",
     "height": 85.0
    },
    "colab_type": "code",
    "id": "hyqdV2b-R9qn",
    "outputId": "051defea-354d-4500-d8d9-e47c2c950cbf"
   },
   "outputs": [
    {
     "name": "stdout",
     "output_type": "stream",
     "text": [
      "2018-07-17\n",
      "2018\n",
      "7\n",
      "17\n"
     ]
    }
   ],
   "source": [
    "today_date = datetime.date.today()\n",
    "print(today_date)\n",
    "\n",
    "print(today_date.year)\n",
    "print(today_date.month)\n",
    "print(today_date.day)"
   ]
  },
  {
   "cell_type": "markdown",
   "metadata": {
    "colab_type": "text",
    "id": "rPjvwX9mUPnq"
   },
   "source": [
    "datetime module has special function to format date/time output:"
   ]
  },
  {
   "cell_type": "code",
   "execution_count": 4,
   "metadata": {
    "colab": {
     "base_uri": "https://localhost:8080/",
     "height": 85.0
    },
    "colab_type": "code",
    "id": "CVrvY6grUZiA",
    "outputId": "1ee141a7-dfbd-413b-83ef-b2bb73ad9196"
   },
   "outputs": [
    {
     "name": "stdout",
     "output_type": "stream",
     "text": [
      "2018/07/17\n",
      "07/17/2018\n",
      "2018-07-17-00.00.00\n",
      "18-07-17-Jul.07.1531785600\n"
     ]
    }
   ],
   "source": [
    "# m - month \n",
    "# Y - year \n",
    "# d - date\n",
    "# H - hour \n",
    "# M - month \n",
    "# S - seconds\n",
    "print(today_date.strftime(\"%Y/%m/%d\"))\n",
    "\n",
    "print(today_date.strftime(\"%m/%d/%Y\"))\n",
    "\n",
    "print(today_date.strftime(\"%Y-%m-%d-%H.%M.%S\"))\n",
    "\n",
    "print(today_date.strftime(\"%y-%m-%d-%h.%m.%s\"))"
   ]
  },
  {
   "cell_type": "markdown",
   "metadata": {
    "colab_type": "text",
    "id": "SjgVSVF7V4mn"
   },
   "source": [
    "If you want to know difference between %m and %M or how to display date correctly -> go to:\n",
    "1. [Python's strftime directives](http://strftime.org/)\n",
    "2. [Date Formatting In Python](https://blog.ipswitch.com/date-formatting-in-python)\n"
   ]
  },
  {
   "cell_type": "markdown",
   "metadata": {
    "colab_type": "text",
    "id": "GSZduxSbX1Ub"
   },
   "source": [
    "## Pendulum"
   ]
  },
  {
   "cell_type": "markdown",
   "metadata": {
    "colab_type": "text",
    "id": "ND6Q3o7ZX5gR"
   },
   "source": [
    "**[Pendulum](https://pendulum.eustace.io/)** is a Python library to make your life **easier** when it comes down to [work with date/time](https://simpleisbetterthancomplex.com/packages/2016/08/18/pendulum.html).\n",
    "\n"
   ]
  },
  {
   "cell_type": "code",
   "execution_count": 5,
   "metadata": {
    "colab": {
     "base_uri": "https://localhost:8080/",
     "height": 292.0
    },
    "colab_type": "code",
    "id": "88bZ_gACYJe7",
    "outputId": "d3bab815-7fc3-41aa-ad42-7ec5fa6c3ec1"
   },
   "outputs": [
    {
     "name": "stdout",
     "output_type": "stream",
     "text": [
      "Collecting pendulum\n",
      "\u001b[?25l  Downloading https://files.pythonhosted.org/packages/b1/cb/56de72fc5ea6dc9089ccb673d37c18d98c151004675e273da46ab89a4378/pendulum-2.0.2-cp36-cp36m-manylinux1_x86_64.whl (139kB)\n",
      "\u001b[K    100% |████████████████████████████████| 143kB 1.9MB/s \n",
      "\u001b[?25hCollecting python-dateutil<3.0,>=2.6 (from pendulum)\n",
      "\u001b[?25l  Downloading https://files.pythonhosted.org/packages/cf/f5/af2b09c957ace60dcfac112b669c45c8c97e32f94aa8b56da4c6d1682825/python_dateutil-2.7.3-py2.py3-none-any.whl (211kB)\n",
      "\u001b[K    100% |████████████████████████████████| 215kB 2.0MB/s \n",
      "\u001b[?25hCollecting pytzdata>=2018.3 (from pendulum)\n",
      "\u001b[?25l  Downloading https://files.pythonhosted.org/packages/2b/b8/a007eedc118838b27247da7c31f25c2b9e68e68ed2ffafed3d340d379e84/pytzdata-2018.5-py2.py3-none-any.whl (981kB)\n",
      "\u001b[K    100% |████████████████████████████████| 983kB 3.1MB/s \n",
      "\u001b[?25hRequirement already satisfied: six>=1.5 in /usr/local/lib/python3.6/dist-packages (from python-dateutil<3.0,>=2.6->pendulum) (1.11.0)\n",
      "Installing collected packages: python-dateutil, pytzdata, pendulum\n",
      "  Found existing installation: python-dateutil 2.5.3\n",
      "    Uninstalling python-dateutil-2.5.3:\n",
      "      Successfully uninstalled python-dateutil-2.5.3\n",
      "Successfully installed pendulum-2.0.2 python-dateutil-2.7.3 pytzdata-2018.5\n"
     ]
    }
   ],
   "source": [
    "!pip install pendulum\n",
    "\n",
    "import pendulum"
   ]
  },
  {
   "cell_type": "code",
   "execution_count": 6,
   "metadata": {
    "colab": {
     "base_uri": "https://localhost:8080/",
     "height": 85.0
    },
    "colab_type": "code",
    "id": "uiiSR6RcZPY5",
    "outputId": "8f14806e-577b-4f7a-f8d8-2ab94627c110"
   },
   "outputs": [
    {
     "name": "stdout",
     "output_type": "stream",
     "text": [
      "2018-07-17T19:08:16.659635+00:00\n",
      "2018-07-17T22:08:16.662718+03:00\n",
      "2018-07-18T00:00:00+01:00\n",
      "1995-04-14T00:00:00+00:00\n"
     ]
    }
   ],
   "source": [
    "# print current time/date and right timezone\n",
    "now = pendulum.now()\n",
    "print(now)\n",
    "\n",
    "# print current date and time in timezone 'Europe/Kiev'\n",
    "now1 = pendulum.now('Europe/Kiev')\n",
    "print(now1)\n",
    "\n",
    "# print time that will be tomorrow in London\n",
    "tomorrow = pendulum.tomorrow('Europe/London')\n",
    "print(tomorrow)\n",
    "\n",
    "\n",
    "dt = pendulum.from_format('1995-04-14', 'YYYY-MM-DD')\n",
    "print(dt)"
   ]
  },
  {
   "cell_type": "markdown",
   "metadata": {
    "colab_type": "text",
    "id": "rnAv0ennc6Go"
   },
   "source": [
    "Simple topic about formating in Pendulum: [link](https://pendulum.eustace.io/docs/#formatter)"
   ]
  },
  {
   "cell_type": "code",
   "execution_count": 7,
   "metadata": {
    "colab": {
     "base_uri": "https://localhost:8080/",
     "height": 34.0
    },
    "colab_type": "code",
    "id": "sxxYKp2CdLZ4",
    "outputId": "a4d6ce00-7f08-4443-f926-ab6317e1146f"
   },
   "outputs": [
    {
     "name": "stdout",
     "output_type": "stream",
     "text": [
      "Dienstag 11 Mai 1999\n"
     ]
    }
   ],
   "source": [
    "# print date/time data in locale language\n",
    "dt = pendulum.datetime(1999, 5, 11)\n",
    "print(dt.format('dddd DD MMMM YYYY', locale='de'))"
   ]
  },
  {
   "cell_type": "code",
   "execution_count": 8,
   "metadata": {
    "colab": {
     "base_uri": "https://localhost:8080/",
     "height": 34.0
    },
    "colab_type": "code",
    "id": "yZPKz81_dhR2",
    "outputId": "4ab0682a-8bd7-4385-de03-719827ce1192"
   },
   "outputs": [
    {
     "name": "stdout",
     "output_type": "stream",
     "text": [
      "in 4 years\n"
     ]
    }
   ],
   "source": [
    "pendulum.set_locale('en')\n",
    "# add 4 years to current date and display difference in years\n",
    "print(pendulum.now().add(years=4).diff_for_humans())"
   ]
  },
  {
   "cell_type": "code",
   "execution_count": 9,
   "metadata": {
    "colab": {
     "base_uri": "https://localhost:8080/",
     "height": 119.0
    },
    "colab_type": "code",
    "id": "tF7XyOVYd7_y",
    "outputId": "c681d1ae-4620-46fe-e397-33ebc571c3ec"
   },
   "outputs": [
    {
     "name": "stdout",
     "output_type": "stream",
     "text": [
      "3\n",
      "249\n",
      "36\n",
      "30\n",
      "5\n",
      "3\n"
     ]
    }
   ],
   "source": [
    "# Pendulum gives access to more attributes and properties than the default datetime class.\n",
    "dt = pendulum.parse('2012-09-05T23:26:11.123789')\n",
    "print(dt.day_of_week)\n",
    "print(dt.day_of_year)\n",
    "print(dt.week_of_year)\n",
    "print(dt.days_in_month)\n",
    "print(dt.age)\n",
    "print(dt.quarter)"
   ]
  },
  {
   "cell_type": "code",
   "execution_count": 10,
   "metadata": {
    "colab": {
     "base_uri": "https://localhost:8080/",
     "height": 34.0
    },
    "colab_type": "code",
    "id": "7nCXRqwKegQ7",
    "outputId": "68e9bb6c-69f8-4ba8-d75a-59e9af53f0a6"
   },
   "outputs": [
    {
     "name": "stdout",
     "output_type": "stream",
     "text": [
      "Wed, 21 May 1975 23:26:11 +0000\n"
     ]
    }
   ],
   "source": [
    "# set date/time\n",
    "print(dt.set(year=1975, month=5, day=21).to_rfc1123_string())"
   ]
  },
  {
   "cell_type": "markdown",
   "metadata": {
    "colab_type": "text",
    "id": "DrucigH0e8eP"
   },
   "source": [
    "Read more about common formats [here](https://pendulum.eustace.io/docs/#common-formats)."
   ]
  },
  {
   "cell_type": "markdown",
   "metadata": {
    "colab_type": "text",
    "id": "nprYL9dRfH8N"
   },
   "source": [
    "Addition and Subtraction:"
   ]
  },
  {
   "cell_type": "code",
   "execution_count": 11,
   "metadata": {
    "colab": {
     "base_uri": "https://localhost:8080/",
     "height": 102.0
    },
    "colab_type": "code",
    "id": "MsCxxpSGfMno",
    "outputId": "5920f597-777c-4a17-c3d6-e1d6c6c1c0b5"
   },
   "outputs": [
    {
     "name": "stdout",
     "output_type": "stream",
     "text": [
      "2012-01-31T00:00:00+00:00\n",
      "2017-01-31T00:00:00+00:00\n",
      "2017-01-31T00:00:00+00:00\n",
      "2012-01-02T00:00:00+00:00\n",
      "2008-11-23T11:28:17+00:00\n"
     ]
    }
   ],
   "source": [
    "dt = pendulum.datetime(2012, 1, 31)\n",
    "print(dt)\n",
    "print(dt.add(years=5))\n",
    "print(dt.add(months=60))\n",
    "print(dt.subtract(days=29))\n",
    "print(dt.subtract(years=3, months=2, days=6, hours=12, minutes=31, seconds=43))"
   ]
  },
  {
   "cell_type": "code",
   "execution_count": 12,
   "metadata": {
    "colab": {
     "base_uri": "https://localhost:8080/",
     "height": 34.0
    },
    "colab_type": "code",
    "id": "r-J3-WXQgKaH",
    "outputId": "6e9b4d5c-7b93-4b3c-fe82-0cb395157e0a"
   },
   "outputs": [
    {
     "name": "stdout",
     "output_type": "stream",
     "text": [
      "3\n"
     ]
    }
   ],
   "source": [
    "# see difference between timezones in hours \n",
    "dt_ottawa = pendulum.datetime(2000, 1, 1, tz='America/Toronto')\n",
    "dt_vancouver = pendulum.datetime(2000, 1, 1, tz='America/Vancouver')\n",
    "print(dt_ottawa.diff(dt_vancouver).in_hours())"
   ]
  },
  {
   "cell_type": "markdown",
   "metadata": {
    "colab_type": "text",
    "id": "B2IZ_xAEgdQe"
   },
   "source": [
    "About date/time difference - > [link](https://pendulum.eustace.io/docs/#difference)."
   ]
  },
  {
   "cell_type": "markdown",
   "metadata": {
    "colab_type": "text",
    "id": "oxZD4JIogwsX"
   },
   "source": [
    "These and a lot of another features with simple examples for better work with date and time in Python shown on [this official Pendulum documentation](https://pendulum.eustace.io/docs/).\n"
   ]
  },
  {
   "cell_type": "markdown",
   "metadata": {
    "colab_type": "text",
    "id": "_viOyns0xnhZ"
   },
   "source": [
    "# Epilogue"
   ]
  },
  {
   "cell_type": "markdown",
   "metadata": {
    "colab_type": "text",
    "id": "_1yHW79BxL8G"
   },
   "source": [
    "Isn't all this stuff cool? Of course it is! \n",
    "\n",
    "That's how Py 3 shines!\n",
    "\n",
    "We have **strong confidence**, that all knowledge, obtained via this notebook, will be very impactful in your future project-based progress."
   ]
  },
  {
   "cell_type": "markdown",
   "metadata": {
    "colab_type": "text",
    "id": "NjjI7-jL4iD1"
   },
   "source": [
    "# Authors & License\n",
    "---\n",
    "Authors: Alex Orlovskyi ([t.me](https://t.me/@NeshkoO)) ([mail](mailto:orlovskyi.alex@gmail.com)), Kate Pereverzeva ([t.me](https://t.me/@katarine)) ([mail](mailto:katya.pereverzeva2109@gmail.com))\n",
    "\n",
    "OSS code license: MIT License\n",
    "\n",
    "General notebook license: <a rel=\"license\" href=\"http://creativecommons.org/licenses/by-nc-sa/4.0/\"><img alt=\"Creative Commons License\" style=\"border-width:0\" src=\"https://i.creativecommons.org/l/by-nc-sa/4.0/80x15.png\" /></a><br />This work is licensed under a <a rel=\"license\" href=\"http://creativecommons.org/licenses/by-nc-sa/4.0/\">Creative Commons Attribution-NonCommercial-ShareAlike 4.0 International License</a>."
   ]
  }
 ],
 "metadata": {
  "accelerator": "GPU",
  "colab": {
   "name": "Python 3 Advanced",
   "provenance": [],
   "toc_visible": true,
   "version": "0.3.2"
  },
  "kernelspec": {
   "display_name": "Python 3",
   "language": "python",
   "name": "python3"
  },
  "language_info": {
   "codemirror_mode": {
    "name": "ipython",
    "version": 3
   },
   "file_extension": ".py",
   "mimetype": "text/x-python",
   "name": "python",
   "nbconvert_exporter": "python",
   "pygments_lexer": "ipython3",
   "version": "3.6.6"
  }
 },
 "nbformat": 4,
 "nbformat_minor": 2
}
