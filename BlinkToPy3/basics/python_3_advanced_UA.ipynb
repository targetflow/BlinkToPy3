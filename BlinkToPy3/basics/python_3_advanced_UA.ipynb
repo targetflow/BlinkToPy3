{
 "cells": [
  {
   "cell_type": "markdown",
   "metadata": {
    "colab_type": "text",
    "id": "FJ-YA-zj4xkj"
   },
   "source": [
    "# Наступний Py рівень"
   ]
  },
  {
   "cell_type": "markdown",
   "metadata": {
    "colab_type": "text",
    "id": "Kwt2U0RN5k4d"
   },
   "source": [
    "69 хвилин базових знань промайнули швидко :smile: . Тепер ви готові до серйозних звершень, використовуючи потужні інструменти Python.\n",
    "\n",
    "...\n",
    "\n",
    "Звучить захоплююче, чи не так? Отже, розпочнемо!"
   ]
  },
  {
   "cell_type": "markdown",
   "metadata": {
    "colab_type": "text",
    "id": "c0H6p82aEjOA"
   },
   "source": [
    "# Інтроспекція (5 хв)"
   ]
  },
  {
   "cell_type": "markdown",
   "metadata": {
    "colab_type": "text",
    "id": "2ZslUuj6EnQ4"
   },
   "source": [
    "Як ти гадаєш, що таке інтроспекція? Давай дізнаємось.\n",
    "\n",
    "Мова Python підтримує ***повну інтроспекцію*** (рефлексію, відображення) часу виконання, в тому числі інтроспекцію типу (type introspection). Що це означає? Це означає те, що до будь-якого об'єкта ***ти можеш отримати інформацію про його внутрішню структуру та середовище виконання*** [[wiki](https://ru.wikipedia.org/wiki/%D0%98%D0%BD%D1%82%D1%80%D0%BE%D1%81%D0%BF%D0%B5%D0%BA%D1%86%D0%B8%D1%8F_%D0%B2_Python)].\n",
    "\n",
    "Підтягнемо ваші знання за допомогою прикладів до більш високого рівня."
   ]
  },
  {
   "cell_type": "code",
   "execution_count": 1,
   "metadata": {
    "colab": {
     "base_uri": "https://localhost:8080/",
     "height": 158.0
    },
    "colab_type": "code",
    "id": "SLYD8Qo9UoP4",
    "outputId": "0ef1fc79-f69c-416a-bd61-cbb3170d84f6"
   },
   "outputs": [
    {
     "name": "stdout",
     "output_type": "stream",
     "text": [
      "<class 'int'>\n",
      "<class 'float'>\n",
      "<class 'list'>\n",
      "<class 'function'>\n",
      "<class '__main__.ex_class'>\n",
      "---------------------------\n",
      "ex_class_obj's parameters and their description: {'parameter_x': \"It's X, you know . . .\"}\n",
      "f's (function) bytecode: b'd\\x00S\\x00'\n"
     ]
    }
   ],
   "source": [
    "# Існує багато випадків, коли вам потрібно знати тип об'єкта, поки ви програмуєте на Py\n",
    "a = 3\n",
    "print(type(a))\n",
    "print(type(a/3.4))\n",
    "print(type([]))\n",
    "\n",
    "# а що на рахунок складних типів? -> все виконується так само\n",
    "def f():pass\n",
    "print(type(f))\n",
    "\n",
    "class ex_class(object):pass\n",
    "ex_class_obj = ex_class()\n",
    "print(type(ex_class_obj))\n",
    "print(\"---------------------------\")\n",
    "\n",
    "# нам також може знадобитися інформація про всі атрибути об'єкта. \n",
    "# Давайте створимо якийсь об'єкт та навчимося це робити на прикладі\n",
    "ex_class_obj.parameter_x = \"It's X, you know . . .\"\n",
    "print(\"ex_class_obj's parameters and their description:\", ex_class_obj.__dict__)\n",
    "\n",
    "# а що, якщо нам потрібно дізнатись байт-код деякої функції? -> використовуй \"co_code\"\n",
    "print(\"f's (function) bytecode:\", f.__code__.co_code)"
   ]
  },
  {
   "cell_type": "markdown",
   "metadata": {
    "colab_type": "text",
    "id": "fw7ILv2eb446"
   },
   "source": [
    "Це були основи. А ось і інші, не менш важливі і корисні методи:\n"
   ]
  },
  {
   "cell_type": "code",
   "execution_count": 3,
   "metadata": {
    "colab": {
     "base_uri": "https://localhost:8080/",
     "height": 544.0
    },
    "colab_type": "code",
    "id": "DzxPdS9Mbd5o",
    "outputId": "530f593c-5448-4819-ccef-42af59b2a71f"
   },
   "outputs": [
    {
     "name": "stdout",
     "output_type": "stream",
     "text": [
      "Help on built-in function dir in module builtins:\n",
      "\n",
      "dir(...)\n",
      "    dir([object]) -> list of strings\n",
      "    \n",
      "    If called without an argument, return the names in the current scope.\n",
      "    Else, return an alphabetized list of names comprising (some of) the attributes\n",
      "    of the given object, and of attributes reachable from it.\n",
      "    If the object supplies a method named __dir__, it will be used; otherwise\n",
      "    the default dir() logic is used and returns:\n",
      "      for a module object: the module's attributes.\n",
      "      for a class object:  its attributes, and recursively the attributes\n",
      "        of its bases.\n",
      "      for any other object: its attributes, its class's attributes, and\n",
      "        recursively the attributes of its class's base classes.\n",
      "\n",
      "Help on built-in function hasattr in module builtins:\n",
      "\n",
      "hasattr(obj, name, /)\n",
      "    Return whether the object has an attribute with the given name.\n",
      "    \n",
      "    This is done by calling getattr(obj, name) and catching AttributeError.\n",
      "\n",
      "Help on built-in function id in module builtins:\n",
      "\n",
      "id(obj, /)\n",
      "    Return the identity of an object.\n",
      "    \n",
      "    This is guaranteed to be unique among simultaneously existing objects.\n",
      "    (CPython uses the object's memory address.)\n",
      "\n"
     ]
    }
   ],
   "source": [
    "# ми використовуємо help функцію, щоб побачити що кожна функція виконує\n",
    "# help() \n",
    "# коли ви викликаєте вищезгадану функцію без аргументів, ця команда запускає постійний запит, \n",
    "# де ви можете ввести назву команди, що потрібно викликати\n",
    "       # можна також завершити дію програми, нажавши Ctrl+D\n",
    "\n",
    "# давайте поглянемо, як help() описує деякі ф-ції інтроспекції\n",
    "help(dir)\n",
    "help(hasattr)\n",
    "help(id)"
   ]
  },
  {
   "cell_type": "markdown",
   "metadata": {
    "colab_type": "text",
    "id": "SJYP24X5gqeE"
   },
   "source": [
    "Щойно ми дослідили, яка сила криється за інтроспекцією. Проте, якщо ви загорілись бажанням дізнатись більше, ми вже підготували декілька найбільш корисних посилань спеціально для вас:\n",
    "\n",
    "\n",
    "*   Інтроспекція в Python [[by zetcode](http://zetcode.com/lang/python/introspection/)]: просто і зрозуміло, саме те, що нам потрібно!\n",
    "*   Гайд по Python інтроспекції [[IBM](https://www.ibm.com/developerworks/library/l-pyint/index.html)]: неймовірно детальний опис.\n",
    "*   Python інстроспекція [[wikidot](http://programmingexamples.wikidot.com/python-introspection)]: готові бути враженими? Ось декілька каверзних прикладів для вас.\n",
    "*   [[py off doc](https://docs.python.org/3/library/inspect.html)]: для тих, хто не може собі уявити життя без офіційної документації 😎. Дане посилання описує специфічні модулі Python для різних цілей в інтроспекції.\n",
    "\n",
    "Насолоджуйтесь 😏\n",
    "\n",
    "\n"
   ]
  },
  {
   "cell_type": "markdown",
   "metadata": {
    "colab_type": "text",
    "id": "ONTLkNn36nGX"
   },
   "source": [
    "# Слайси (5 хв)\n"
   ]
  },
  {
   "cell_type": "markdown",
   "metadata": {
    "colab_type": "text",
    "id": "q6-9FrUs6pIx"
   },
   "source": [
    "Уявіть, що у вас є список, котреж або масив. І ви хочете спеціально дістати специфічний набір з даної послідовності або якусь підмножину. І ви не хочете довго гратись з циклами, виводячи потрібну інформацію. Знайома ситуація? У нас є рішення :wink:\n",
    "\n",
    "\n",
    "Python як завжди все продумав, тому для таких речей існують ***слайси***. І його місія полягає в економії вашого часу.\n",
    "\n",
    "\n",
    "\n",
    "[Слайси](https://www.programiz.com/python-programming/methods/built-in/slice) використовуються для того, щоб обрізати деяку послідовність.\n",
    "\n",
    "Слайси являють собою індекси, задані діапазоном **(початок, зупинка, крок)**.\n",
    "\n",
    "**Запам'ятай** 📌: Слайси використовуються не тільки в списках, кортежах і масивах, як ми згадували раніше ([а де ще? -> дізнайся ось тут!](https://www.pythoncentral.io/how-to-slice-listsarrays-and-tuples-in-python/)).\n",
    "\n",
    "Тепер ми знаємо достатньо багато, щоб перейти до практики, а може і взагалі почати писати власні приклади, правда?:yum:"
   ]
  },
  {
   "cell_type": "code",
   "execution_count": 4,
   "metadata": {
    "colab": {
     "base_uri": "https://localhost:8080/",
     "height": 170.0
    },
    "colab_type": "code",
    "id": "51mk32xgzwLO",
    "outputId": "c2e9d807-bad0-43a8-9077-33a2871a6e31"
   },
   "outputs": [
    {
     "name": "stdout",
     "output_type": "stream",
     "text": [
      "thon\n",
      "Python is \n",
      "on is awesome!\n",
      "Python is awesome!\n",
      "wes\n",
      "Pto saeoe\n",
      "Posee\n",
      "!emosewa si nohtyP\n",
      "Python is awesome!\n"
     ]
    }
   ],
   "source": [
    "string = \"Python is awesome!\"\n",
    "# вивести елементи від 2 до 6\n",
    "print(string[2:6])\n",
    "\n",
    "# вивести всі елементи до 10 \n",
    "print(string[:10])\n",
    "\n",
    "# вивести всі елементи, що стоять після 4 елемента\n",
    "print(string[4:])\n",
    "\n",
    "# вивести всі елементи строки\n",
    "print(string[:9] + string[9:])\n",
    "\n",
    "# вивести всі елементи від 7 з кінця індексу до 4 з кінця\n",
    "print(string[-7:-4])\n",
    "\n",
    "# вивести кожен другий елемент\n",
    "print(string[0:18:2])\n",
    "\n",
    "# вивести кожний четвертий елемент починаючи з нульового\n",
    "print(string[::4])\n",
    "\n",
    "# вивести строку в зворотньому порядку\n",
    "print(string[::-1])\n",
    "\n",
    "# вивести всі елементи строки\n",
    "print(string[:])"
   ]
  },
  {
   "cell_type": "markdown",
   "metadata": {
    "colab_type": "text",
    "id": "yWWwrKm_vu-r"
   },
   "source": [
    "Трішки складніших прикладів ніколи не завадить :grin: :"
   ]
  },
  {
   "cell_type": "code",
   "execution_count": 17,
   "metadata": {
    "colab": {
     "base_uri": "https://localhost:8080/",
     "height": 68.0
    },
    "colab_type": "code",
    "id": "7-WR5ge65l50",
    "outputId": "ca36d30b-fd4c-4d82-ce7c-88c486b1f3c2"
   },
   "outputs": [
    {
     "name": "stdout",
     "output_type": "stream",
     "text": [
      "range(0, 10)\n",
      "range(0, 10, 2)\n"
     ]
    }
   ],
   "source": [
    "list = range(10)\n",
    "print(list)\n",
    "\n",
    "# ви також можете передавати об'єкти-слайси методам __getitem__ у вбудовані послідовності\n",
    "print(range(10).__getitem__(slice(0, 10, 2)))"
   ]
  },
  {
   "cell_type": "markdown",
   "metadata": {
    "colab_type": "text",
    "id": "xhQpAkR48Ng4"
   },
   "source": [
    "Ці та інші приклади, підготовлені для вас ❤️, ви можете знайти [тут](https://www.dotnetperls.com/slice-python)."
   ]
  },
  {
   "cell_type": "markdown",
   "metadata": {
    "colab_type": "text",
    "id": "garLwcgxs66W"
   },
   "source": [
    "# Рекурсія (3 хв)\n"
   ]
  },
  {
   "cell_type": "markdown",
   "metadata": {
    "colab_type": "text",
    "id": "okKQi3FntBgX"
   },
   "source": [
    "[Рекурсія](https://www.programiz.com/python-programming/recursion) це спосіб організації обчислювального процесу , при якому метод в ході виконання обчислення звертається сам до себе.\n"
   ]
  },
  {
   "cell_type": "code",
   "execution_count": 7,
   "metadata": {
    "colab": {},
    "colab_type": "code",
    "id": "cAs9QpNktCmR"
   },
   "outputs": [
    {
     "name": "stdout",
     "output_type": "stream",
     "text": [
      "n = 10\n",
      "------\n"
     ]
    },
    {
     "data": {
      "text/plain": [
       "3628800"
      ]
     },
     "execution_count": 7,
     "metadata": {},
     "output_type": "execute_result"
    }
   ],
   "source": [
    "# простий приклад того, як знайти факторіал числа, використовуючи рекурсію\n",
    "n = 10\n",
    "print(\"n =\", n)\n",
    "print(\"------\")\n",
    "def factorial(n):\n",
    "    if n == 0:\n",
    "        return 1\n",
    "    else:\n",
    "        return n * factorial(n - 1)\n",
    "\n",
    "factorial(n)        "
   ]
  },
  {
   "cell_type": "markdown",
   "metadata": {
    "colab_type": "text",
    "id": "AJk80SlZarW2"
   },
   "source": [
    "# Ітератори та генератори (7 хв)\n"
   ]
  },
  {
   "cell_type": "markdown",
   "metadata": {
    "colab_type": "text",
    "id": "n--tykNHayGU"
   },
   "source": [
    "Зазвичай ми використовуємо цикл for щоб пройтись по елементам деякого об'єкту. Проте що буде, якщо ми скажемо вам, що це не єдиний спосіб виконання цієї дії?\n",
    "\n",
    "Тепер переглянемо наукове пояснення цього явища, яке нам підготував Python :relieved:\n",
    " \n",
    "[Ітератор](http://zetcode.com/lang/python/itergener/) - це об'єкт, який дозволяє програмісту пройти через всі елементи певної колекції, незалежно від його конкретної реалізації.\n",
    "\n",
    "\n",
    "[Протокол ітераторів ](https://medium.com/the-python-corner/iterators-and-generators-in-python-2c3929a144b)складається з двох методів: метод **\"iter\"**, який повертає об'єкт, який ми будемо перебирати, і **\"next\"** метод, який автоматично викликається на кожну ітерацію і який повертає значення для поточної ітерації.   \n",
    "\n",
    "Вбудована функція **iter** приймає ітеративний об'єкт і повертає ітератор.\n",
    "\n",
    "\n",
    "Тепер давайте розглянемо роботу ітераторів на простих прикладах 😉"
   ]
  },
  {
   "cell_type": "markdown",
   "metadata": {
    "colab_type": "text",
    "id": "5CvxyICfdbst"
   },
   "source": [
    "Ітератори [реалізуються в вигляді класів](https://anandology.com/python-practice-book/iterators.html).\n"
   ]
  },
  {
   "cell_type": "code",
   "execution_count": null,
   "metadata": {
    "colab": {},
    "colab_type": "code",
    "id": "9WWh7yBxdkvd"
   },
   "outputs": [],
   "source": [
    "class iteration:\n",
    "    def __init__(self, n):\n",
    "        self.i = 0\n",
    "        self.n = n\n",
    "\n",
    "    def __iter__(self):\n",
    "        return self\n",
    "\n",
    "    def next(self):\n",
    "        if self.i < self.n:\n",
    "            i = self.i\n",
    "            self.i += 1\n",
    "            return i\n",
    "        else:\n",
    "            raise StopIteration()\n",
    "            \n",
    "iter = iteration(10)\n",
    "print(iter.next())\n",
    "print(iter.next())\n",
    "print(iter.next())\n",
    "print(iter.next())"
   ]
  },
  {
   "cell_type": "markdown",
   "metadata": {
    "colab_type": "text",
    "id": "_UGse6o_zF9A"
   },
   "source": [
    "Так само як ми застосовували техніку list comprehension з списками, можна застосувати **generators shorthand**. Погляньте, наскільки зрозумілішим став код:\n",
    ":hushed:"
   ]
  },
  {
   "cell_type": "code",
   "execution_count": null,
   "metadata": {
    "colab": {
     "base_uri": "https://localhost:8080/",
     "height": 51.0
    },
    "colab_type": "code",
    "id": "DHEiTUKbxVRF",
    "outputId": "914e91ca-95b0-4aa6-ddb5-b4926c290a09"
   },
   "outputs": [
    {
     "name": "stdout",
     "output_type": "stream",
     "text": [
      "[1, 9, 36, 100]\n",
      "1\n"
     ]
    }
   ],
   "source": [
    "my_list = [1, 3, 6, 10]\n",
    "print([x**2 for x in my_list])\n",
    "print(next(x**2 for x in my_list))"
   ]
  },
  {
   "cell_type": "markdown",
   "metadata": {
    "colab_type": "text",
    "id": "rqa0xLE2hEkC"
   },
   "source": [
    "А ось генератори дозволяють нам створювати ітератори простіше, аніж показано в попередньому прикладі.:boom:\n",
    "\n",
    "***Генератор*** - це функція, яка повертає деяку послідовність.\n",
    "\n",
    "Щоб створити генератор, потрібно лише визначити функцію, і ***замість return використати yield***.\n",
    "\n",
    "`Return` повертає потрібне значення , тоді як` Yield` може повернути послідовність значень.\n",
    "\n",
    "Для легкого запам'ятовування варто лише знати, що коли функція бачить **return** - вона зупиняється, а коли **yield** - продовжує працювати, поки yield виконується."
   ]
  },
  {
   "cell_type": "code",
   "execution_count": null,
   "metadata": {
    "colab": {
     "base_uri": "https://localhost:8080/",
     "height": 221.0
    },
    "colab_type": "code",
    "id": "aiDHSPNyjFpZ",
    "outputId": "3fd11b79-6100-4046-b46e-886e859d15c0"
   },
   "outputs": [
    {
     "name": "stdout",
     "output_type": "stream",
     "text": [
      "begin\n",
      "before yield 0\n",
      "after yield 0\n",
      "end\n",
      "before yield 1\n",
      "after yield 1\n",
      "end\n",
      "before yield 2\n",
      "after yield 2\n",
      "end\n",
      "before yield 3\n"
     ]
    },
    {
     "data": {
      "text/plain": [
       "3"
      ]
     },
     "execution_count": 5,
     "metadata": {
      "tags": []
     },
     "output_type": "execute_result"
    }
   ],
   "source": [
    "def it(n):\n",
    "    print \"begin\"\n",
    "    for i in range(n):\n",
    "        print \"before yield\", i\n",
    "        yield i\n",
    "        print \"after yield\", i\n",
    "        print \"end\"\n",
    "        \n",
    "obj = it(10)\n",
    "obj.next()\n",
    "obj.next()\n",
    "obj.next()\n",
    "obj.next()"
   ]
  },
  {
   "cell_type": "markdown",
   "metadata": {
    "colab_type": "text",
    "id": "4SqspWf2yyIE"
   },
   "source": [
    "Якщо тема з ітераторами та генераторами досі у тумані - не хвилюйтесь, ви не одні :frowning:, та ознайомтесь [з посиланням](https://data-flair.training/blogs/python-generators/). \n"
   ]
  },
  {
   "cell_type": "markdown",
   "metadata": {
    "colab_type": "text",
    "id": "DBUGR1lBN62E"
   },
   "source": [
    "# Декоратори (7 хв)"
   ]
  },
  {
   "cell_type": "markdown",
   "metadata": {
    "colab_type": "text",
    "id": "9dYuSAr1N-A5"
   },
   "source": [
    "Декоратори дають нам змогу **додавати функціоналу до існуючого коду**.\n",
    "\n",
    "Все ще вважаєте, що легше написати ще пару строчок нового коду до існуючого файлу? Зазвичай це не ефективно, і ми пояснимо чому.\n",
    "\n"
   ]
  },
  {
   "cell_type": "markdown",
   "metadata": {
    "colab_type": "text",
    "id": "HyKi7IIi1uHS"
   },
   "source": [
    "📌 **Уявіть ситуацію** 📌: Ви розробили чудову бібліотеку та поділились нею з вашим другом, який чудово прийняв та оцінив її. Він почав використовувати бібліотеку у своєму власному проекті, і раптом зрозумів, що йому не вистачає крутої функції. Що він робить? Так, він може зателефонувати вам і попросити додати цю функцію. Проте ...\n",
    "\n",
    "Що якщо ви дуже зайняті?\n",
    "\n",
    "Що якщо друг не може чекати дуже довго?\n",
    "\n",
    "А що якщо він не єдиний, хто хоче модифікувати ваш код під свої власні потреби.\n",
    "\n",
    "\n",
    "Звичайно, процес розробки бібліотек - це постійне вдосконалення та додавання нових функцій, проте ***це не буде покривати величезну кількість \"хотелок\" від ваших клієнтів*** .Але декоратори можуть допомогти їм через надання можливості налаштовувати існуючий код так, як їм треба, без його модифікації."
   ]
  },
  {
   "cell_type": "markdown",
   "metadata": {
    "colab_type": "text",
    "id": "2jF4ni7r1gWb"
   },
   "source": [
    "А тепер давайте поринем в приклади!\n",
    "\n",
    "Нагадаймо ще раз, що все в Python являється об'єктами.\n",
    "\n",
    "Наприклад, ти можеш визначити функцію/метод як змінну:"
   ]
  },
  {
   "cell_type": "code",
   "execution_count": 8,
   "metadata": {
    "colab": {
     "base_uri": "https://localhost:8080/",
     "height": 51.0
    },
    "colab_type": "code",
    "id": "TI3SLu8NP9Ny",
    "outputId": "88d0273d-46e5-4de8-ef87-6405749b5071"
   },
   "outputs": [
    {
     "name": "stdout",
     "output_type": "stream",
     "text": [
      "hi\n",
      "None\n"
     ]
    }
   ],
   "source": [
    "def is_called():\n",
    "    print(\"hi\")\n",
    "\n",
    "# визначення \n",
    "new = is_called\n",
    "print(new()) #  is_called є процедурою, вона друкує \"hi\" і нічого не повертає"
   ]
  },
  {
   "cell_type": "markdown",
   "metadata": {
    "colab_type": "text",
    "id": "JIEgB1j4RADK"
   },
   "source": [
    "Уявіть, що цю функцію можна передавати як аргумент для іншої функції.\n",
    "\n",
    "І це ***ключовий трюк декораторів***."
   ]
  },
  {
   "cell_type": "code",
   "execution_count": 19,
   "metadata": {
    "colab": {
     "base_uri": "https://localhost:8080/",
     "height": 68.0
    },
    "colab_type": "code",
    "id": "c6iivbQcaSPx",
    "outputId": "42a8de84-e31c-4374-e0ab-f28c6a085cf6"
   },
   "outputs": [
    {
     "name": "stdout",
     "output_type": "stream",
     "text": [
      "I got decorated\n",
      "I am ordinary\n",
      "None\n"
     ]
    }
   ],
   "source": [
    "def make_pretty(func):\n",
    "    # inner() function обгортає твою персонально написану func() і додає до неї деякий функціонал.\n",
    "    def inner():\n",
    "        print(\"I got decorated\")\n",
    "        func()\n",
    "    return inner\n",
    "\n",
    "\n",
    "def ordinary():\n",
    "    print(\"I am ordinary\")\n",
    "\n",
    "\n",
    "pretty = make_pretty(ordinary)\n",
    "print(pretty())"
   ]
  },
  {
   "cell_type": "code",
   "execution_count": null,
   "metadata": {
    "colab": {
     "base_uri": "https://localhost:8080/",
     "height": 68.0
    },
    "colab_type": "code",
    "id": "eRXjETrDcUVR",
    "outputId": "b53a2eb6-7a45-4306-9bee-984fc7250903"
   },
   "outputs": [
    {
     "name": "stdout",
     "output_type": "stream",
     "text": [
      "I got decorated\n",
      "I am ordinary\n",
      "None\n"
     ]
    }
   ],
   "source": [
    "@make_pretty\n",
    "def ordinary():\n",
    "    print(\"I am ordinary\")\n",
    "    \n",
    "print(ordinary())   "
   ]
  },
  {
   "cell_type": "markdown",
   "metadata": {
    "colab_type": "text",
    "id": "OJKkGfk7c8nQ"
   },
   "source": [
    "Декоратори, написані в такому стилі (використовуючи всього 1-5 строк коду!) працюють так само як 12-13 строчок коду, представлених зверху.:anguished: \n",
    "\n",
    "Круто! Чи не так?:smirk:"
   ]
  },
  {
   "cell_type": "markdown",
   "metadata": {
    "colab_type": "text",
    "id": "2VkR0YjWdXlM"
   },
   "source": [
    "\n",
    "Це просто Python варіант оформлення декораторів [[wiki](https://en.wikipedia.org/wiki/Decorator_pattern)], [[tutorialspoint](https://www.tutorialspoint.com/design_pattern/decorator_pattern.htm)].\n",
    "\n",
    "Є кілька класичних шаблонів, вбудованих в Python для полегшення розробки (наприклад [ітератори](#scrollTo=AJk80SlZarW2)). \n",
    "\n",
    "І це ще одна підстава, щоб полюбити Python ще більше :blush:\n",
    "\n"
   ]
  },
  {
   "cell_type": "markdown",
   "metadata": {
    "colab_type": "text",
    "id": "TSgqiQDCdcmG"
   },
   "source": [
    "Якщо ви хочете побачити одне із найкращих пояснень Python декораторів та знайти віпдповідь на питання типу \"де я можу їх застосовувати?\" чи \"а я можу написати багаторазові декоратори?\" - [прошу звернутись до цієї статті](https://gist.github.com/Zearin/2f40b7b9cfc51132851a) і вона справді покриє величезну кількість прогалин в знаннях про декоратори. Російська версія даної статті -> [посилання](https://habr.com/post/141411/).\n"
   ]
  },
  {
   "cell_type": "markdown",
   "metadata": {
    "colab_type": "text",
    "id": "FDBwOvXweT9p"
   },
   "source": [
    "# Замикання (5 хв)"
   ]
  },
  {
   "cell_type": "markdown",
   "metadata": {
    "colab_type": "text",
    "id": "rFyvqjfPeWua"
   },
   "source": [
    "Функція, визначена всередині іншої функції, зветься вкладеною функцією.\n",
    "Наведена вище функція є простим прикладом вкладеної функції (inner()).\n",
    "\n",
    "Проте іноді потрібно сховати деякі змінні і функціонал від користувача, тому ти можеш оголосити функцію всередині ***області видимості***.\n",
    "\n",
    "\n",
    "Розглянемо приклади:"
   ]
  },
  {
   "cell_type": "code",
   "execution_count": 20,
   "metadata": {
    "colab": {
     "base_uri": "https://localhost:8080/",
     "height": 68.0
    },
    "colab_type": "code",
    "id": "u0kOMqVYkSaa",
    "outputId": "945e4d79-1217-4f2b-87bc-88ee0289decb"
   },
   "outputs": [
    {
     "name": "stdout",
     "output_type": "stream",
     "text": [
      "8\n",
      "30\n",
      "90\n"
     ]
    }
   ],
   "source": [
    "# ф-ція множить два числа і повертає результат.\n",
    "def mul(a, b):\n",
    "    return a * b    \n",
    "\n",
    "print(mul(4, 2))\n",
    "\n",
    "# якщо ти хочеш створити ф-цію, яка множить на 10, просто напиши:\n",
    "\n",
    "def mul10(a):\n",
    "    return mul(10, a)\n",
    "    \n",
    "print(mul10(3))\n",
    "\n",
    "\n",
    "# цей метод є не найзручнішим тому, що кожного разу коли ти захочеш помножити на нове число, муситимеш створити і нову ф-цію.\n",
    "# але в Python можна написати і так:\n",
    "\n",
    "def mul(a):\n",
    "    def inside(b):\n",
    "        return a * b\n",
    "    return inside\n",
    "    \n",
    "print(mul(10)(9))"
   ]
  },
  {
   "cell_type": "code",
   "execution_count": null,
   "metadata": {
    "colab": {
     "base_uri": "https://localhost:8080/",
     "height": 34.0
    },
    "colab_type": "code",
    "id": "sn98jj1emvgd",
    "outputId": "b27baa42-df09-4e86-d25e-633a796ac4a0"
   },
   "outputs": [
    {
     "name": "stdout",
     "output_type": "stream",
     "text": [
      "280.6471228812421\n"
     ]
    }
   ],
   "source": [
    "import random \n",
    "\n",
    "def mul(y):\n",
    "    x = random.uniform(0,10) * y\n",
    "    def inside(b):\n",
    "        return x * b\n",
    "    return inside\n",
    "# print(x)\n",
    "print(mul(10)(3))"
   ]
  },
  {
   "cell_type": "markdown",
   "metadata": {
    "colab_type": "text",
    "id": "n2Lbaz4GoOtz"
   },
   "source": [
    "Поглянь на функцію зверху. Вона містить спеціальну змінну x, яка визначена ЛИШЕ в цій функції. \n",
    "\n",
    "Це означає, що ***ззовні цього методу змінна x не визначена і схована від користувача***.\n",
    "Засумнівались?:smile: Розкоментуйте 8 строку коду зверху, щоб впевнитись в наданій інформації."
   ]
  },
  {
   "cell_type": "markdown",
   "metadata": {
    "colab_type": "text",
    "id": "2WNkuBoirt5B"
   },
   "source": [
    "[Коли і навіщо використовують замикання](https://www.geeksforgeeks.org/python-closures/):\n",
    "\n",
    "1. Оскільки замикання використовуються як функції зворотного виклику, вони надають певний вид приховування даних. Це допомагає нам зменшити використання глобальних змінних.\n",
    "2. Якщо у нашому коді функцій небагато, замикання стануть ефективним рішенням. Але якщо нам потрібно багато функцій, варто використати класи (OOП)."
   ]
  },
  {
   "cell_type": "markdown",
   "metadata": {
    "colab_type": "text",
    "id": "nxt7x1YYslmY"
   },
   "source": [
    "Чому в Python вкладені функції не називаються замиканнями? - > користувачі stackoverflow знайшли [відповідь](https://stackoverflow.com/questions/4020419/why-arent-python-nested-functions-called-closures)!"
   ]
  },
  {
   "cell_type": "markdown",
   "metadata": {
    "colab_type": "text",
    "id": "PcecevI8Oz9N"
   },
   "source": [
    "# Дата і час  (10 хв)"
   ]
  },
  {
   "cell_type": "markdown",
   "metadata": {
    "colab_type": "text",
    "id": "ZF0bHtD9Xyt6"
   },
   "source": [
    "## Datetime"
   ]
  },
  {
   "cell_type": "markdown",
   "metadata": {
    "colab_type": "text",
    "id": "UpOwiERsO2zu"
   },
   "source": [
    "В Python, [date, time та datetime класи](https://www.guru99.com/date-time-and-datetime-classes-in-python.html) надає ряд функцій для роботи з датами, часом та інтервалами часу. Дата та datetime - це об'єкти в Python, тому, коли ви маніпулюєте ними, ви насправді маніпулюєте об'єктами."
   ]
  },
  {
   "cell_type": "markdown",
   "metadata": {
    "colab_type": "text",
    "id": "Fu6IEdTJPL7D"
   },
   "source": [
    "**datetime** модуль містить в собі функції та класи для роботи з датою і часом.\n",
    "\n",
    "Для того щоб розпочати роботу з датою і часом в Python все що тобі потрібно це запустити . . ."
   ]
  },
  {
   "cell_type": "code",
   "execution_count": null,
   "metadata": {
    "colab": {},
    "colab_type": "code",
    "id": "6BA92eelPgje"
   },
   "outputs": [],
   "source": [
    "import datetime"
   ]
  },
  {
   "cell_type": "markdown",
   "metadata": {
    "colab_type": "text",
    "id": "9TR-autwQMbl"
   },
   "source": [
    "А тепер поглянемо на перший приклад.\n",
    "\n",
    "**time** дозволяє нам працювати виключно з часом (години, хвилини, секунду, мілісекунди).\n",
    "\n",
    "Ти також можеш вивести конкретну потрібну інформацію про кожне із цих полів:\n",
    "\n"
   ]
  },
  {
   "cell_type": "code",
   "execution_count": 2,
   "metadata": {
    "colab": {
     "base_uri": "https://localhost:8080/",
     "height": 102.0
    },
    "colab_type": "code",
    "id": "eTaExN2CPyQT",
    "outputId": "c45bd8ea-d3c9-4b67-bc6f-f64f7c439e6b"
   },
   "outputs": [
    {
     "name": "stdout",
     "output_type": "stream",
     "text": [
      "23:15:56.000009\n",
      "23\n",
      "15\n",
      "56\n",
      "9\n"
     ]
    }
   ],
   "source": [
    "t_example = datetime.time(23, 15, 56, 9)\n",
    "print(t_example)\n",
    "\n",
    "print(t_example.hour)\n",
    "print(t_example.minute)\n",
    "print(t_example.second)\n",
    "print(t_example.microsecond)"
   ]
  },
  {
   "cell_type": "markdown",
   "metadata": {
    "colab_type": "text",
    "id": "Z3GRctuoRamY"
   },
   "source": [
    "Календарні дати представлені класом **date**\n",
    "\n",
    "Одною із найзручніших особливостей цього класу є можливість відобразити сьогоднішню дату з усіма уточнюючими полями:\n"
   ]
  },
  {
   "cell_type": "code",
   "execution_count": 3,
   "metadata": {
    "colab": {
     "base_uri": "https://localhost:8080/",
     "height": 85.0
    },
    "colab_type": "code",
    "id": "hyqdV2b-R9qn",
    "outputId": "051defea-354d-4500-d8d9-e47c2c950cbf"
   },
   "outputs": [
    {
     "name": "stdout",
     "output_type": "stream",
     "text": [
      "2018-07-17\n",
      "2018\n",
      "7\n",
      "17\n"
     ]
    }
   ],
   "source": [
    "today_date = datetime.date.today()\n",
    "print(today_date)\n",
    "\n",
    "print(today_date.year)\n",
    "print(today_date.month)\n",
    "print(today_date.day)"
   ]
  },
  {
   "cell_type": "markdown",
   "metadata": {
    "colab_type": "text",
    "id": "rPjvwX9mUPnq"
   },
   "source": [
    "datetime модуль збагачений спеціальними функціями для виведення часу/дати в різному вигляді: "
   ]
  },
  {
   "cell_type": "code",
   "execution_count": 4,
   "metadata": {
    "colab": {
     "base_uri": "https://localhost:8080/",
     "height": 85.0
    },
    "colab_type": "code",
    "id": "CVrvY6grUZiA",
    "outputId": "1ee141a7-dfbd-413b-83ef-b2bb73ad9196"
   },
   "outputs": [
    {
     "name": "stdout",
     "output_type": "stream",
     "text": [
      "2018/07/17\n",
      "07/17/2018\n",
      "2018-07-17-00.00.00\n",
      "18-07-17-Jul.07.1531785600\n"
     ]
    }
   ],
   "source": [
    "# m - month \n",
    "# Y - year \n",
    "# d - date\n",
    "# H - hour \n",
    "# M - month \n",
    "# S - seconds\n",
    "print(today_date.strftime(\"%Y/%m/%d\"))\n",
    "\n",
    "print(today_date.strftime(\"%m/%d/%Y\"))\n",
    "\n",
    "print(today_date.strftime(\"%Y-%m-%d-%H.%M.%S\"))\n",
    "\n",
    "print(today_date.strftime(\"%y-%m-%d-%h.%m.%s\"))"
   ]
  },
  {
   "cell_type": "markdown",
   "metadata": {
    "colab_type": "text",
    "id": "SjgVSVF7V4mn"
   },
   "source": [
    "Необхідно також знати різницю між позначеннями %m та %M, знати як коректно виводити дату та спробувати ще більше прикладів -> в цьому тобі допоможуть:\n",
    "1. [Python's strftime інструкції](http://strftime.org/)\n",
    "2. [Форматування дати в Python](https://blog.ipswitch.com/date-formatting-in-python)\n"
   ]
  },
  {
   "cell_type": "markdown",
   "metadata": {
    "colab_type": "text",
    "id": "GSZduxSbX1Ub"
   },
   "source": [
    "## Pendulum"
   ]
  },
  {
   "cell_type": "markdown",
   "metadata": {
    "colab_type": "text",
    "id": "ND6Q3o7ZX5gR"
   },
   "source": [
    "**[Pendulum](https://pendulum.eustace.io/)** це Python бібліотека, яка спрощує твоє життя, коли наступає час працювати з [часом і датою](https://simpleisbetterthancomplex.com/packages/2016/08/18/pendulum.html).\n",
    "\n"
   ]
  },
  {
   "cell_type": "code",
   "execution_count": 11,
   "metadata": {
    "colab": {
     "base_uri": "https://localhost:8080/",
     "height": 292.0
    },
    "colab_type": "code",
    "id": "88bZ_gACYJe7",
    "outputId": "d3bab815-7fc3-41aa-ad42-7ec5fa6c3ec1"
   },
   "outputs": [
    {
     "name": "stdout",
     "output_type": "stream",
     "text": [
      "Collecting pendulum\n",
      "\u001b[?25l  Downloading https://files.pythonhosted.org/packages/b0/2b/1699eb626ce9bb79dcf710349b0eb45318cd38ad1c1dda3c95802fa0570f/pendulum-2.0.3-cp36-cp36m-manylinux1_x86_64.whl (139kB)\n",
      "\u001b[K    100% |████████████████████████████████| 143kB 2.0MB/s \n",
      "\u001b[?25hCollecting pytzdata>=2018.3 (from pendulum)\n",
      "\u001b[?25l  Downloading https://files.pythonhosted.org/packages/2b/b8/a007eedc118838b27247da7c31f25c2b9e68e68ed2ffafed3d340d379e84/pytzdata-2018.5-py2.py3-none-any.whl (981kB)\n",
      "\u001b[K    100% |████████████████████████████████| 983kB 976kB/s \n",
      "\u001b[?25hRequirement already satisfied: python-dateutil<3.0,>=2.6 in /home/katharine/.local/share/virtualenvs/BlinkToPy3-bqjRrDR6/lib/python3.6/site-packages (from pendulum) (2.7.3)\n",
      "Requirement already satisfied: six>=1.5 in /home/katharine/.local/share/virtualenvs/BlinkToPy3-bqjRrDR6/lib/python3.6/site-packages (from python-dateutil<3.0,>=2.6->pendulum) (1.11.0)\n",
      "Installing collected packages: pytzdata, pendulum\n",
      "Successfully installed pendulum-2.0.3 pytzdata-2018.5\n"
     ]
    }
   ],
   "source": [
    "!pip install pendulum\n",
    "\n",
    "import pendulum"
   ]
  },
  {
   "cell_type": "code",
   "execution_count": 12,
   "metadata": {
    "colab": {
     "base_uri": "https://localhost:8080/",
     "height": 85.0
    },
    "colab_type": "code",
    "id": "uiiSR6RcZPY5",
    "outputId": "8f14806e-577b-4f7a-f8d8-2ab94627c110"
   },
   "outputs": [
    {
     "name": "stdout",
     "output_type": "stream",
     "text": [
      "2018-08-14T21:58:22.432179+03:00\n",
      "2018-08-14T21:58:22.433143+03:00\n",
      "2018-08-15T00:00:00+01:00\n",
      "1995-04-14T00:00:00+00:00\n"
     ]
    }
   ],
   "source": [
    "# вивести поточний час та часовий пояс\n",
    "now = pendulum.now()\n",
    "print(now)\n",
    "\n",
    "# вивести поточну дату та час в часовому поясі 'Europe/Kiev'\n",
    "now1 = pendulum.now('Europe/Kiev')\n",
    "print(now1)\n",
    "\n",
    "# вивести час, який буде завтра в Лондоні\n",
    "tomorrow = pendulum.tomorrow('Europe/London')\n",
    "print(tomorrow)\n",
    "\n",
    "\n",
    "dt = pendulum.from_format('1995-04-14', 'YYYY-MM-DD')\n",
    "print(dt)"
   ]
  },
  {
   "cell_type": "markdown",
   "metadata": {
    "colab_type": "text",
    "id": "rnAv0ennc6Go"
   },
   "source": [
    "Надзвичайно проста та зрозуміла стаття про Pendulum: [клік](https://pendulum.eustace.io/docs/#formatter)"
   ]
  },
  {
   "cell_type": "code",
   "execution_count": 13,
   "metadata": {
    "colab": {
     "base_uri": "https://localhost:8080/",
     "height": 34.0
    },
    "colab_type": "code",
    "id": "sxxYKp2CdLZ4",
    "outputId": "a4d6ce00-7f08-4443-f926-ab6317e1146f"
   },
   "outputs": [
    {
     "name": "stdout",
     "output_type": "stream",
     "text": [
      "Dienstag 11 Mai 1999\n"
     ]
    }
   ],
   "source": [
    "# вивести час/дату на локальній мові\n",
    "dt = pendulum.datetime(1999, 5, 11)\n",
    "print(dt.format('dddd DD MMMM YYYY', locale='de'))"
   ]
  },
  {
   "cell_type": "code",
   "execution_count": 14,
   "metadata": {
    "colab": {
     "base_uri": "https://localhost:8080/",
     "height": 34.0
    },
    "colab_type": "code",
    "id": "yZPKz81_dhR2",
    "outputId": "4ab0682a-8bd7-4385-de03-719827ce1192"
   },
   "outputs": [
    {
     "name": "stdout",
     "output_type": "stream",
     "text": [
      "in 4 years\n"
     ]
    }
   ],
   "source": [
    "pendulum.set_locale('en')\n",
    "# додати 4 роки до теперішньої дати і вивести різницю\n",
    "print(pendulum.now().add(years=4).diff_for_humans())"
   ]
  },
  {
   "cell_type": "code",
   "execution_count": 9,
   "metadata": {
    "colab": {
     "base_uri": "https://localhost:8080/",
     "height": 119.0
    },
    "colab_type": "code",
    "id": "tF7XyOVYd7_y",
    "outputId": "c681d1ae-4620-46fe-e397-33ebc571c3ec"
   },
   "outputs": [
    {
     "name": "stdout",
     "output_type": "stream",
     "text": [
      "3\n",
      "249\n",
      "36\n",
      "30\n",
      "5\n",
      "3\n"
     ]
    }
   ],
   "source": [
    "# Pendulum дає можливість скористатися більшою кількістю атрибутів, ніж клас datetime.\n",
    "dt = pendulum.parse('2012-09-05T23:26:11.123789')\n",
    "print(dt.day_of_week)\n",
    "print(dt.day_of_year)\n",
    "print(dt.week_of_year)\n",
    "print(dt.days_in_month)\n",
    "print(dt.age)\n",
    "print(dt.quarter)"
   ]
  },
  {
   "cell_type": "code",
   "execution_count": 10,
   "metadata": {
    "colab": {
     "base_uri": "https://localhost:8080/",
     "height": 34.0
    },
    "colab_type": "code",
    "id": "7nCXRqwKegQ7",
    "outputId": "68e9bb6c-69f8-4ba8-d75a-59e9af53f0a6"
   },
   "outputs": [
    {
     "name": "stdout",
     "output_type": "stream",
     "text": [
      "Wed, 21 May 1975 23:26:11 +0000\n"
     ]
    }
   ],
   "source": [
    "# встановити час/дату\n",
    "print(dt.set(year=1975, month=5, day=21).to_rfc1123_string())"
   ]
  },
  {
   "cell_type": "markdown",
   "metadata": {
    "colab_type": "text",
    "id": "DrucigH0e8eP"
   },
   "source": [
    "Прочитати більше про загальні формати часу і дати можна [тут](https://pendulum.eustace.io/docs/#common-formats)."
   ]
  },
  {
   "cell_type": "markdown",
   "metadata": {
    "colab_type": "text",
    "id": "nprYL9dRfH8N"
   },
   "source": [
    "Додавання і віднімання:\n"
   ]
  },
  {
   "cell_type": "code",
   "execution_count": 11,
   "metadata": {
    "colab": {
     "base_uri": "https://localhost:8080/",
     "height": 102.0
    },
    "colab_type": "code",
    "id": "MsCxxpSGfMno",
    "outputId": "5920f597-777c-4a17-c3d6-e1d6c6c1c0b5"
   },
   "outputs": [
    {
     "name": "stdout",
     "output_type": "stream",
     "text": [
      "2012-01-31T00:00:00+00:00\n",
      "2017-01-31T00:00:00+00:00\n",
      "2017-01-31T00:00:00+00:00\n",
      "2012-01-02T00:00:00+00:00\n",
      "2008-11-23T11:28:17+00:00\n"
     ]
    }
   ],
   "source": [
    "dt = pendulum.datetime(2012, 1, 31)\n",
    "print(dt)\n",
    "print(dt.add(years=5))\n",
    "print(dt.add(months=60))\n",
    "print(dt.subtract(days=29))\n",
    "print(dt.subtract(years=3, months=2, days=6, hours=12, minutes=31, seconds=43))"
   ]
  },
  {
   "cell_type": "code",
   "execution_count": 15,
   "metadata": {
    "colab": {
     "base_uri": "https://localhost:8080/",
     "height": 34.0
    },
    "colab_type": "code",
    "id": "r-J3-WXQgKaH",
    "outputId": "6e9b4d5c-7b93-4b3c-fe82-0cb395157e0a"
   },
   "outputs": [
    {
     "name": "stdout",
     "output_type": "stream",
     "text": [
      "3\n"
     ]
    }
   ],
   "source": [
    "# побачити різницю між часовими поясами в годинах\n",
    "dt_ottawa = pendulum.datetime(2000, 1, 1, tz='America/Toronto')\n",
    "dt_vancouver = pendulum.datetime(2000, 1, 1, tz='America/Vancouver')\n",
    "print(dt_ottawa.diff(dt_vancouver).in_hours())"
   ]
  },
  {
   "cell_type": "markdown",
   "metadata": {
    "colab_type": "text",
    "id": "B2IZ_xAEgdQe"
   },
   "source": [
    "Про різницю в годинах/датах - > [посилання](https://pendulum.eustace.io/docs/#difference)."
   ]
  },
  {
   "cell_type": "markdown",
   "metadata": {
    "colab_type": "text",
    "id": "oxZD4JIogwsX"
   },
   "source": [
    "Ці та багато інших корисних функцій з простими прикладами для полегшеного розуміння та кращої роботи з Pendulum показані тут -> [в офіційній документації Pendulum](https://pendulum.eustace.io/docs/).\n"
   ]
  },
  {
   "cell_type": "markdown",
   "metadata": {
    "colab_type": "text",
    "id": "_viOyns0xnhZ"
   },
   "source": [
    "# Епілог"
   ]
  },
  {
   "cell_type": "markdown",
   "metadata": {
    "colab_type": "text",
    "id": "_1yHW79BxL8G"
   },
   "source": [
    "Класні речі, правда?:smiling_imp:\n",
    "\n",
    "І це лише частина від того, що дійсно можна зробити за допомогою сили Python 3!\n",
    "\n",
    "\n",
    "Ми впевнені у тому, що всі знання, отримані через цей ноутбук, вплинуть на ваш майбутній проектний прогрес."
   ]
  },
  {
   "cell_type": "markdown",
   "metadata": {
    "colab_type": "text",
    "id": "NjjI7-jL4iD1"
   },
   "source": [
    "# Authors & License\n",
    "---\n",
    "Authors: Alex Orlovskyi ([t.me](https://t.me/@NeshkoO)) ([mail](mailto:orlovskyi.alex@gmail.com)), Kate Pereverzeva ([t.me](https://t.me/@katarine)) ([mail](mailto:katya.pereverzeva2109@gmail.com))\n",
    "\n",
    "OSS code license: MIT License\n",
    "\n",
    "General notebook license: <a rel=\"license\" href=\"http://creativecommons.org/licenses/by-nc-sa/4.0/\"><img alt=\"Creative Commons License\" style=\"border-width:0\" src=\"https://i.creativecommons.org/l/by-nc-sa/4.0/80x15.png\" /></a><br />This work is licensed under a <a rel=\"license\" href=\"http://creativecommons.org/licenses/by-nc-sa/4.0/\">Creative Commons Attribution-NonCommercial-ShareAlike 4.0 International License</a>."
   ]
  }
 ],
 "metadata": {
  "accelerator": "GPU",
  "colab": {
   "name": "Python 3 Advanced",
   "provenance": [],
   "toc_visible": true,
   "version": "0.3.2"
  },
  "kernelspec": {
   "display_name": "Python 3",
   "language": "python",
   "name": "python3"
  },
  "language_info": {
   "codemirror_mode": {
    "name": "ipython",
    "version": 3
   },
   "file_extension": ".py",
   "mimetype": "text/x-python",
   "name": "python",
   "nbconvert_exporter": "python",
   "pygments_lexer": "ipython3",
   "version": "3.6.6"
  }
 },
 "nbformat": 4,
 "nbformat_minor": 2
}
