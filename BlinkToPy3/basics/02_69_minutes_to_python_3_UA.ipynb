{
 "cells": [
  {
   "cell_type": "markdown",
   "metadata": {
    "colab_type": "text",
    "id": "GsxJ4MzgDo4g"
   },
   "source": [
    "##### Copyright 2018 The BlinkToPy3 Authors: Alex Orlovskyi ([t.me](https://bit.ly/alex_orlovskyi_tg)) ([mail](mailto:orlovskyi.alex@gmail.com)), Kate Pereverzeva ([t.me](https://bit.ly/kate_pereverzeva_tg)) ([mail](mailto:katya.pereverzeva2109@gmail.com))\n",
    "\n",
    "Licensed under the Apache License, Version 2.0 (the \"License\").\n",
    "\n",
    "# 69 хвилин Python 3\n",
    "\n",
    "<table class=\"tfo-notebook-buttons\" align=\"left\">\n",
    "    <td>\n",
    "        <a target=\"_blank\"  href=\"https://bit.ly/69MinsToPy3\">\n",
    "            <img src=\"https://www.tensorflow.org/images/colab_logo_32px.png\" />Блокнот в Google Colab</a>  \n",
    "        </td>\n",
    "    <td>\n",
    "        <a target=\"_blank\"  href=\"https://bit.ly/69MinsToPy3Github\"><img width=32px src=\"https://www.tensorflow.org/images/GitHub-Mark-32px.png\" />Наші матеріали на GitHub</a>\n",
    "    </td>\n",
    "</table>"
   ]
  },
  {
   "cell_type": "markdown",
   "metadata": {
    "colab_type": "text",
    "id": "Tfywy0xM1A3O"
   },
   "source": [
    "В цьому блокноті ми будем досліджувати найпростіші речі, з яких можна побудувати те, що **зробить світ кращим** 😎\n",
    "\n",
    "Не забувай запускати усі клітинки коду, щоб побачити результат завдяки [Google Colab](https://bit.ly/69MinsToPy3). Важливо експериментувати та модифікувати код, створюючи власні приклади **в ігровому режимі** (playground mode) для покращення власних навичок.\n",
    "\n",
    "Отож, розпочнемо!\n",
    "\n",
    "---\n",
    "\n",
    "**Приблизний час освоєння матеріалу**: 69 хвилин\n"
   ]
  },
  {
   "cell_type": "markdown",
   "metadata": {
    "colab_type": "text",
    "id": "AsyDaRqkltO2"
   },
   "source": [
    "# Дзен Python, PEP (10 хв)\n"
   ]
  },
  {
   "cell_type": "markdown",
   "metadata": {
    "colab_type": "text",
    "id": "3mdZ7vEPmFsM"
   },
   "source": [
    "Коли ми починаємо досліджувати цей світ, незалежно від того, в якому напрямку рухаємся, ми так чи інакше зустрічаємо на своєму шляху деяку філософію. Так само і в світі Python - він має свою філософію, що зветься \"**Zen of Python**\".\n",
    "\n",
    "Як пише у [Вікіпедії](http://bit.ly/zenOfPy): Дзен Python - це збірка 20 програмних принципів, які описують стиль написання коду. Її текст видається інтерпретатором Python по команді import this (працює один раз за сесію), або можете ознайомитись з даними принципами тут: [official Python website](http://bit.ly/PyPEP20)"
   ]
  },
  {
   "cell_type": "code",
   "execution_count": null,
   "metadata": {
    "colab": {
     "autoexec": {
      "startup": false,
      "wait_interval": 0
     },
     "base_uri": "https://localhost:8080/",
     "height": 384
    },
    "colab_type": "code",
    "executionInfo": {
     "elapsed": 2943,
     "status": "ok",
     "timestamp": 1531154843579,
     "user": {
      "displayName": "Катерина В`ячеславівна Переверзева",
      "photoUrl": "//lh6.googleusercontent.com/-9dwrULxIzZI/AAAAAAAAAAI/AAAAAAAAAAs/X3ZeZ0JEvAw/s50-c-k-no/photo.jpg",
      "userId": "117674908900817098526"
     },
     "user_tz": -180
    },
    "id": "QWn54mvnmGQM",
    "outputId": "96a10319-2523-4cd8-b8d3-a4e3201a678a"
   },
   "outputs": [
    {
     "name": "stdout",
     "output_type": "stream",
     "text": [
      "The Zen of Python, by Tim Peters\n",
      "\n",
      "Beautiful is better than ugly.\n",
      "Explicit is better than implicit.\n",
      "Simple is better than complex.\n",
      "Complex is better than complicated.\n",
      "Flat is better than nested.\n",
      "Sparse is better than dense.\n",
      "Readability counts.\n",
      "Special cases aren't special enough to break the rules.\n",
      "Although practicality beats purity.\n",
      "Errors should never pass silently.\n",
      "Unless explicitly silenced.\n",
      "In the face of ambiguity, refuse the temptation to guess.\n",
      "There should be one-- and preferably only one --obvious way to do it.\n",
      "Although that way may not be obvious at first unless you're Dutch.\n",
      "Now is better than never.\n",
      "Although never is often better than *right* now.\n",
      "If the implementation is hard to explain, it's a bad idea.\n",
      "If the implementation is easy to explain, it may be a good idea.\n",
      "Namespaces are one honking great idea -- let's do more of those!\n"
     ]
    }
   ],
   "source": [
    "import this"
   ]
  },
  {
   "cell_type": "markdown",
   "metadata": {
    "colab_type": "text",
    "id": "8JXUC5iDpbI9"
   },
   "source": [
    "Що й казати, якщо ці принципи об'єднують **основне бачення** розробки програмного забезпечення, завдяки чому Python отримав чимало прихильників. Це й пояснює величезну кількість чудових проектів, створених саме з Py."
   ]
  },
  {
   "cell_type": "markdown",
   "metadata": {
    "colab_type": "text",
    "id": "tNFiGF1aq_-k"
   },
   "source": [
    "Час біжить незворотньо, прогрес готує нам все більше нових складних завдань і постійно потрібно швидко опановувати та вдосконалювати нові інструменти. Це правдиво і для Python. Нові функції та вдосконалення тепер проходять через реєстр [**PEP**](https://bit.ly/PyPEPsOfficial). Наприклад [docstring conventions](https://bit.ly/PyPEPDocstringConv).\n",
    "\n",
    "Якщо ти хочеш стати справжнім **гуру Пайтона**, твоїм вправним помічником має стати **PEP8** - стиль написання коду для Python. Ось декілька посилань для ознайомлення, щоб стати ще ближче до створення неймовірних речей: \n",
    "\n",
    "*   [PEP 8 — the Style Guide for Python Code](https://bit.ly/PEP8Org) [EN]\n",
    "*   [PEP 8 — стиль кода в языке Python](https://bit.ly/PEP8ru) [RU]\n",
    "\n"
   ]
  },
  {
   "cell_type": "markdown",
   "metadata": {
    "colab_type": "text",
    "id": "oNs5er3L4RY2"
   },
   "source": [
    "# Python змінні (4 хв)\n"
   ]
  },
  {
   "cell_type": "markdown",
   "metadata": {
    "colab_type": "text",
    "id": "0RG150ISBWPf"
   },
   "source": [
    "Декларація змінної відбувається автоматично, коли ви надаєте значення змінній."
   ]
  },
  {
   "cell_type": "code",
   "execution_count": null,
   "metadata": {
    "colab": {
     "autoexec": {
      "startup": false,
      "wait_interval": 0
     }
    },
    "colab_type": "code",
    "id": "j-jnbrGpB7Hy"
   },
   "outputs": [],
   "source": [
    "a = 1"
   ]
  },
  {
   "cell_type": "markdown",
   "metadata": {
    "colab_type": "text",
    "id": "rus5bV-hB6XO"
   },
   "source": [
    "Python дозволяє одночасно привласнювати одне значення багатьом змінним "
   ]
  },
  {
   "cell_type": "code",
   "execution_count": null,
   "metadata": {
    "colab": {
     "autoexec": {
      "startup": false,
      "wait_interval": 0
     }
    },
    "colab_type": "code",
    "id": "Ga3UCogACTdm"
   },
   "outputs": [],
   "source": [
    "a = b = c = 45"
   ]
  },
  {
   "cell_type": "markdown",
   "metadata": {
    "colab_type": "text",
    "id": "_3NOU7apCdJd"
   },
   "source": [
    "Також в 1 строчку коду ти можеш надати різного значення послідовно багатьом змінним:"
   ]
  },
  {
   "cell_type": "code",
   "execution_count": 2,
   "metadata": {
    "colab": {
     "autoexec": {
      "startup": false,
      "wait_interval": 0
     },
     "base_uri": "https://localhost:8080/",
     "height": 68
    },
    "colab_type": "code",
    "executionInfo": {
     "elapsed": 995,
     "status": "ok",
     "timestamp": 1530610509707,
     "user": {
      "displayName": "Олександр Валер'янович Орловський",
      "photoUrl": "//lh4.googleusercontent.com/-aNlpDuZUFYA/AAAAAAAAAAI/AAAAAAAAAAo/pMzStuOMp0s/s50-c-k-no/photo.jpg",
      "userId": "115227064507961374760"
     },
     "user_tz": -180
    },
    "id": "58dXkv8kCjpA",
    "outputId": "8d94cb2f-96c9-4c11-e26c-e0677efa5fbc"
   },
   "outputs": [
    {
     "name": "stdout",
     "output_type": "stream",
     "text": [
      "a = 3\n",
      "b = python\n",
      "c = ['string', 3]\n"
     ]
    }
   ],
   "source": [
    "a, b, c = 3, \"python\", ['string', 3]\n",
    "print('a =', a)\n",
    "print('b =', b)\n",
    "print('c =', c)"
   ]
  },
  {
   "cell_type": "markdown",
   "metadata": {
    "colab_type": "text",
    "id": "I5tQMVMYnZEZ"
   },
   "source": [
    "Python - мова з [динамічною типізацією](https://bit.ly/PyProgLang). Тому не потрібно вказувати тип на стадії описування змінної (в порівнянні з C/C++/Java). \n",
    "\n",
    "Поглянемо на типи змінних, які ми ініціалізували раніше:"
   ]
  },
  {
   "cell_type": "code",
   "execution_count": 4,
   "metadata": {
    "colab": {
     "autoexec": {
      "startup": false,
      "wait_interval": 0
     },
     "base_uri": "https://localhost:8080/",
     "height": 68
    },
    "colab_type": "code",
    "executionInfo": {
     "elapsed": 595,
     "status": "ok",
     "timestamp": 1530610510998,
     "user": {
      "displayName": "Олександр Валер'янович Орловський",
      "photoUrl": "//lh4.googleusercontent.com/-aNlpDuZUFYA/AAAAAAAAAAI/AAAAAAAAAAo/pMzStuOMp0s/s50-c-k-no/photo.jpg",
      "userId": "115227064507961374760"
     },
     "user_tz": -180
    },
    "id": "MYx4tYNBnK4C",
    "outputId": "cec5203e-2f35-4009-ea47-407e592c50a5"
   },
   "outputs": [
    {
     "name": "stdout",
     "output_type": "stream",
     "text": [
      "<class 'int'>\n",
      "<class 'str'>\n",
      "<class 'list'>\n"
     ]
    }
   ],
   "source": [
    "print(type(a))\n",
    "print(type(b))\n",
    "print(type(c))"
   ]
  },
  {
   "cell_type": "markdown",
   "metadata": {
    "colab_type": "text",
    "id": "ABGF0wJY8A0q"
   },
   "source": [
    "#### Обмін значень двох змінних"
   ]
  },
  {
   "cell_type": "markdown",
   "metadata": {
    "colab_type": "text",
    "id": "S0FUMJmleDH7"
   },
   "source": [
    "Для того щоб поміняти значення двох зміних, традиційно застосовується третя змінна,впевнений в також таким займались 😀\n",
    "\n",
    "Перший метод: застосовуючи базові арифметичні операції:"
   ]
  },
  {
   "cell_type": "code",
   "execution_count": null,
   "metadata": {
    "colab": {
     "autoexec": {
      "startup": false,
      "wait_interval": 0
     }
    },
    "colab_type": "code",
    "id": "7iOdWGCmeiWm"
   },
   "outputs": [],
   "source": [
    "print (\"starter values:\")\n",
    "a = int(input(\"a = \"))\n",
    "b = int(input(\"b = \"))\n",
    "# swap, using arithmetic operations\n",
    "a = a + b\n",
    "b = a - b\n",
    "a = a - b\n",
    "print (\"swapping . . .\")\n",
    "print (\"new values:\")\n",
    "print (\"a = \", a)\n",
    "print (\"b = \", b)"
   ]
  },
  {
   "cell_type": "markdown",
   "metadata": {
    "colab_type": "text",
    "id": "UGHJtHb1fdXC"
   },
   "source": [
    "Другий метод простіший, аніж перший і ефективніший, оскільки працює з усіма типами даних в Python.\n",
    "\n",
    "Даний спосіб називається \"паралельне призначення\" або parallel assignment:\n",
    "\n"
   ]
  },
  {
   "cell_type": "code",
   "execution_count": null,
   "metadata": {
    "colab": {
     "autoexec": {
      "startup": false,
      "wait_interval": 0
     }
    },
    "colab_type": "code",
    "id": "_uBjmXyLhejM"
   },
   "outputs": [],
   "source": [
    "print(\"starter values:\")\n",
    "x = int(input(\"x = \"))\n",
    "y = int(input(\"y = \"))\n",
    "# swap\n",
    "x, y = y, x\n",
    "print (\"swapping . . .\")\n",
    "print(\"new values:\")\n",
    "print (\"x = \", x)\n",
    "print (\"y = \", y)"
   ]
  },
  {
   "cell_type": "markdown",
   "metadata": {
    "colab_type": "text",
    "id": "VwBeqBrgiGjg"
   },
   "source": [
    "Хочеш стати справжнім хакером?😏 [Є й інші варіанти](https://bit.ly/PySwap2Variables), які можуть тебе також зацікавити."
   ]
  },
  {
   "cell_type": "markdown",
   "metadata": {
    "colab_type": "text",
    "id": "fxhMPZUuJyCV"
   },
   "source": [
    "# Оператори (6 хв)\n"
   ]
  },
  {
   "cell_type": "markdown",
   "metadata": {
    "colab_type": "text",
    "id": "_lVGejnrKCFN"
   },
   "source": [
    "## Арифметичні оператори"
   ]
  },
  {
   "cell_type": "markdown",
   "metadata": {
    "colab_type": "text",
    "id": "qobsC4aJKKz_"
   },
   "source": [
    "Ці [оператори](https://bit.ly/PyBasicOperatorsTutPoint) використовуються для виконання простих матератичних операцій, таких як:\n",
    "\n",
    "1.  \"+\" унарний плюс\n",
    "2.  \"-\" унарний мінус\n",
    "3.   \"*\" множення двох операндів\n",
    "4.   \"/\" ділення лівого операнда на правий ( результатом є змінна типу float)\n",
    "5.  \"%\" модуль - залишок від ділення\n",
    "6. \"//\" цілочисленне ділення\n",
    "7.  \"**\" експонента\n",
    "\n",
    "\n",
    "\n",
    "Не забудь переглянути найпростіші [приклади](https://bit.ly/PyBasicOperatorsGFG) нижче:"
   ]
  },
  {
   "cell_type": "code",
   "execution_count": 17,
   "metadata": {
    "colab": {
     "autoexec": {
      "startup": false,
      "wait_interval": 0
     },
     "base_uri": "https://localhost:8080/",
     "height": 174
    },
    "colab_type": "code",
    "executionInfo": {
     "elapsed": 519,
     "status": "ok",
     "timestamp": 1530820564612,
     "user": {
      "displayName": "Катерина В`ячеславівна Переверзева",
      "photoUrl": "//lh6.googleusercontent.com/-9dwrULxIzZI/AAAAAAAAAAI/AAAAAAAAAAs/X3ZeZ0JEvAw/s50-c-k-no/photo.jpg",
      "userId": "117674908900817098526"
     },
     "user_tz": -180
    },
    "id": "DlQOvpLkbdMC",
    "outputId": "7c017668-2831-4f24-e0d7-b539e6047fb9"
   },
   "outputs": [
    {
     "name": "stdout",
     "output_type": "stream",
     "text": [
      "q = 3 w = 10\n",
      "------------\n",
      "q + w = 13\n",
      "q - w = -7\n",
      "q * w = 30\n",
      "q / w = 0.3\n",
      "q % w = 3\n",
      "w // q = 3\n",
      "q ** w = 59049\n"
     ]
    }
   ],
   "source": [
    "q = 3\n",
    "w = 10\n",
    "print('q =', q, 'w =', w)\n",
    "print('------------')\n",
    "print('q + w =', q + w)\n",
    "print('q - w =', q - w)\n",
    "print('q * w =', q * w)\n",
    "print('q / w =', q / w)\n",
    "print('q % w =', q % w)\n",
    "print('w // q =', w // q)\n",
    "print('q ** w =', q ** w)"
   ]
  },
  {
   "cell_type": "markdown",
   "metadata": {
    "colab_type": "text",
    "id": "FB-0VVI9dV80"
   },
   "source": [
    "## Comparison & Logical operators"
   ]
  },
  {
   "cell_type": "markdown",
   "metadata": {
    "colab_type": "text",
    "id": "NIOXzJFsda9F"
   },
   "source": [
    "Comparison operators return ***True*** or ***False*** due to comparing values.\n",
    "\n",
    "1. \">\" Greater that ------------------------------------------------ True if left operand is greater than the right\t\n",
    "2. \"<\"\tLess that ---------------------------------------------------- True if left operand is less than the right\t\n",
    "3. \"==\" Equal to ---------------------------------------------------- True if both operands are equal\t\n",
    "4. \"!=\"\tNot equal to -----------------------------------------------True if operands are not equal\t\n",
    "5. \">=\"\tGreater than or equal to ----------------------------True if left operand is greater than or equal to the right\t\n",
    "6. \"<=\"\tLess than or equal to ------------------------------- True if left operand is less than or equal to the right\t"
   ]
  },
  {
   "cell_type": "code",
   "execution_count": 24,
   "metadata": {
    "colab": {
     "autoexec": {
      "startup": false,
      "wait_interval": 0
     },
     "base_uri": "https://localhost:8080/",
     "height": 153
    },
    "colab_type": "code",
    "executionInfo": {
     "elapsed": 639,
     "status": "ok",
     "timestamp": 1530613515342,
     "user": {
      "displayName": "Олександр Валер'янович Орловський",
      "photoUrl": "//lh4.googleusercontent.com/-aNlpDuZUFYA/AAAAAAAAAAI/AAAAAAAAAAo/pMzStuOMp0s/s50-c-k-no/photo.jpg",
      "userId": "115227064507961374760"
     },
     "user_tz": -180
    },
    "id": "2Vgpgokyfnud",
    "outputId": "6b016c4c-0dd0-4923-cb69-3e0d0a30e207"
   },
   "outputs": [
    {
     "name": "stdout",
     "output_type": "stream",
     "text": [
      " r = 10 t = 12\n",
      " -------------\n",
      " Is r > t ? False\n",
      " Is r < t ? True\n",
      " Is r == t ? False\n",
      " Is r != t ? True\n",
      " Is r >= t ? False\n",
      " Is r <= t ? True\n"
     ]
    }
   ],
   "source": [
    "r = 10\n",
    "t = 12\n",
    "print(\" r =\", r, \"t =\", t)\n",
    "print(' -------------')\n",
    "\n",
    "print(' Is r > t ?', r > t)\n",
    "print(' Is r < t ?', r < t)\n",
    "print(' Is r == t ?', r == t)\n",
    "print(' Is r != t ?', r != t)\n",
    "print(' Is r >= t ?', r >= t)\n",
    "print(' Is r <= t ?', r <= t)"
   ]
  },
  {
   "cell_type": "markdown",
   "metadata": {
    "colab_type": "text",
    "id": "R3bflrQXi3x7"
   },
   "source": [
    "Logical operators 'and', 'or', 'not'\n",
    "\n",
    "\n",
    "1. 'and' - return True if both statements are True\n",
    "2. 'or' - return True if either of the statements is True\n",
    "3. 'not' - this operator complements the operand\n"
   ]
  },
  {
   "cell_type": "code",
   "execution_count": 25,
   "metadata": {
    "colab": {
     "autoexec": {
      "startup": false,
      "wait_interval": 0
     },
     "base_uri": "https://localhost:8080/",
     "height": 102
    },
    "colab_type": "code",
    "executionInfo": {
     "elapsed": 623,
     "status": "ok",
     "timestamp": 1530613549010,
     "user": {
      "displayName": "Олександр Валер'янович Орловський",
      "photoUrl": "//lh4.googleusercontent.com/-aNlpDuZUFYA/AAAAAAAAAAI/AAAAAAAAAAo/pMzStuOMp0s/s50-c-k-no/photo.jpg",
      "userId": "115227064507961374760"
     },
     "user_tz": -180
    },
    "id": "U02oNG0hj7mH",
    "outputId": "9b2a64b4-12ff-42ea-fea7-140a43700084"
   },
   "outputs": [
    {
     "name": "stdout",
     "output_type": "stream",
     "text": [
      "me = True you = False\n",
      "---------------------\n",
      "If me = True and you = False. We`ll be False\n",
      "If me = True or you = False. We`ll be True\n",
      "If you`ll be changed, you`ll become True\n"
     ]
    }
   ],
   "source": [
    "me = True\n",
    "you = False\n",
    "print(\"me =\", me, \"you =\", you)\n",
    "print(\"---------------------\")\n",
    "\n",
    "print('If me = True and you = False. We`ll be', me and you)\n",
    "print('If me = True or you = False. We`ll be', me or you)\n",
    "print('If you`ll be changed, you`ll become', not you)"
   ]
  },
  {
   "cell_type": "markdown",
   "metadata": {
    "colab_type": "text",
    "id": "fPOf-4b0K8rQ"
   },
   "source": [
    "##Assignment Operators"
   ]
  },
  {
   "cell_type": "markdown",
   "metadata": {
    "colab_type": "text",
    "id": "8wQYLeyoLIGy"
   },
   "source": [
    "1. \"=\"--------------------------------------------------------------------------------------Assignment operator\n",
    "2. \"+=\"------------------------------------------------------------------------------------Assign sum of operands to left operand\n",
    "3. \"-= \"------------------------------------------------------------------------------------Assing difference between operands to left operand\n",
    "4. \"*=\"------------------------------------------------------------------------------------Assing  multiplication of operands to left operand\n",
    "5. \"/= \"-----------------------------------------------------------------------------------Assing the result of division to left operand\n",
    "6. \"%=\"-----------------------------------------------------------------------------------It takes modulus using two operands and assign the result to left operand\n",
    "7. \"**= \"----------------------------------------------------------------------------------Performs exponential calculation on operators and assign value to the left operand\n",
    "8. \"//=\"-----------------------------------------------------------------------------------Assing the result of floor division to left operand"
   ]
  },
  {
   "cell_type": "code",
   "execution_count": 8,
   "metadata": {
    "colab": {
     "autoexec": {
      "startup": false,
      "wait_interval": 0
     },
     "base_uri": "https://localhost:8080/",
     "height": 170
    },
    "colab_type": "code",
    "executionInfo": {
     "elapsed": 623,
     "status": "ok",
     "timestamp": 1530610516027,
     "user": {
      "displayName": "Олександр Валер'янович Орловський",
      "photoUrl": "//lh4.googleusercontent.com/-aNlpDuZUFYA/AAAAAAAAAAI/AAAAAAAAAAo/pMzStuOMp0s/s50-c-k-no/photo.jpg",
      "userId": "115227064507961374760"
     },
     "user_tz": -180
    },
    "id": "aux0jMmeN4Uu",
    "outputId": "f15d9cd4-c846-4418-dcda-ecfe6109b66d"
   },
   "outputs": [
    {
     "name": "stdout",
     "output_type": "stream",
     "text": [
      "a = 10 b = 5\n",
      "------------\n",
      "a += b: 15\n",
      "b -= a: -10\n",
      "a *= b: -150\n",
      "a /= b: 15.0\n",
      "b %= a: 5.0\n",
      "b **= a: 30517578125.0\n",
      "a = b: 30517578125.0\n"
     ]
    }
   ],
   "source": [
    "a = 10\n",
    "b = 5\n",
    "print(\"a =\", a, \"b =\", b)\n",
    "print('------------')\n",
    "\n",
    "a += b\n",
    "print(\"a += b:\", a)\n",
    "\n",
    "b -= a \n",
    "print(\"b -= a:\", b)\n",
    "\n",
    "a *= b \n",
    "print(\"a *= b:\", a)\n",
    "\n",
    "a /= b \n",
    "print(\"a /= b:\", a)\n",
    "\n",
    "b %= a \n",
    "print(\"b %= a:\", b)\n",
    "\n",
    "b **= a \n",
    "print(\"b **= a:\", b)\n",
    "\n",
    "a = b\n",
    "print(\"a = b:\", a)"
   ]
  },
  {
   "cell_type": "markdown",
   "metadata": {
    "colab_type": "text",
    "id": "e6szihcz188x"
   },
   "source": [
    "**Tip**: if you need some float value to be printed with given precision, you might perform one of these actions:"
   ]
  },
  {
   "cell_type": "code",
   "execution_count": 1,
   "metadata": {
    "colab": {
     "autoexec": {
      "startup": false,
      "wait_interval": 0
     },
     "base_uri": "https://localhost:8080/",
     "height": 102
    },
    "colab_type": "code",
    "executionInfo": {
     "elapsed": 586,
     "status": "ok",
     "timestamp": 1531086898077,
     "user": {
      "displayName": "Олександр Валер'янович Орловський",
      "photoUrl": "//lh4.googleusercontent.com/-aNlpDuZUFYA/AAAAAAAAAAI/AAAAAAAAAAo/pMzStuOMp0s/s50-c-k-no/photo.jpg",
      "userId": "115227064507961374760"
     },
     "user_tz": -180
    },
    "id": "1fjS49-H2Q-M",
    "outputId": "0d79fcf9-a61a-499b-c186-29967b34559f"
   },
   "outputs": [
    {
     "name": "stdout",
     "output_type": "stream",
     "text": [
      "Before applying tip: 3.0517578125\n",
      "After: \n",
      "3.05\n",
      "3.052\n",
      "3.0518\n"
     ]
    }
   ],
   "source": [
    "# so we have our float and we need it to be printed with only 2 digits after dot (3.05 in this case). or 3? or 4?\n",
    "some_float_numb = 3.05175781250\n",
    "print(\"Before applying tip:\", some_float_numb)\n",
    "print(\"After: \")\n",
    "\n",
    "# how can we obtain \"2-3-4 dig. after dot\" precision? Via any of these ways:\n",
    "print(\"%.2f\" % some_float_numb)\n",
    "print(round(some_float_numb, 3))\n",
    "print(\"{:.4f}\".format(some_float_numb))"
   ]
  },
  {
   "cell_type": "markdown",
   "metadata": {
    "colab_type": "text",
    "id": "_OItqs6MPF2I"
   },
   "source": [
    "##Membership Operators"
   ]
  },
  {
   "cell_type": "markdown",
   "metadata": {
    "colab_type": "text",
    "id": "4mcH1x1wPHZ6"
   },
   "source": [
    "Membership operators in Python are used to test whether a value could be found within a sequence. For example, you can use them to test for the presence of a substring in a string.\n",
    "\n",
    "There are ***in*** and ***not in ***"
   ]
  },
  {
   "cell_type": "markdown",
   "metadata": {
    "colab_type": "text",
    "id": "FnfaNoDwP2GE"
   },
   "source": [
    "\"in\"-------------------------------------------------------------Evaluates to True if the value of the left operand appears in the sequence located in the right operand.\n",
    "\n",
    "\"not in\"-------------------------------------------------------Evaluates to True if the value of the left operand doesn`t appear in the sequence found in the right operand."
   ]
  },
  {
   "cell_type": "code",
   "execution_count": 9,
   "metadata": {
    "colab": {
     "autoexec": {
      "startup": false,
      "wait_interval": 0
     },
     "base_uri": "https://localhost:8080/",
     "height": 85
    },
    "colab_type": "code",
    "executionInfo": {
     "elapsed": 588,
     "status": "ok",
     "timestamp": 1530610517192,
     "user": {
      "displayName": "Олександр Валер'янович Орловський",
      "photoUrl": "//lh4.googleusercontent.com/-aNlpDuZUFYA/AAAAAAAAAAI/AAAAAAAAAAo/pMzStuOMp0s/s50-c-k-no/photo.jpg",
      "userId": "115227064507961374760"
     },
     "user_tz": -180
    },
    "id": "O--MsJM7Qqf_",
    "outputId": "ac682218-0cf6-4583-826c-3e3048cb50bb"
   },
   "outputs": [
    {
     "name": "stdout",
     "output_type": "stream",
     "text": [
      "a = [9, 8, 7, 6, 5, 4, 3, 2, 1]\n",
      "check number = 9\n",
      "-------------------------------\n",
      "check number is in this list\n"
     ]
    }
   ],
   "source": [
    "a = [9,8,7,6,5,4,3,2,1]\n",
    "check = 9\n",
    "print(\"a =\", a)\n",
    "print(\"check number =\", check)\n",
    "print(\"-------------------------------\")\n",
    "if(check in a):\n",
    "    print(\"check number is in this list\")\n",
    "else:\n",
    "    print(\"check number not in this list\")"
   ]
  },
  {
   "cell_type": "markdown",
   "metadata": {
    "colab_type": "text",
    "id": "g4kP5q_vY2Nv"
   },
   "source": [
    "##Identity Operators"
   ]
  },
  {
   "cell_type": "markdown",
   "metadata": {
    "colab_type": "text",
    "id": "8ks9BcYzY47z"
   },
   "source": [
    "In Python they are used to determine whether a value has a certain class or type. \n",
    "\n",
    "There are two examples with ***is*** and ***is not*** operators:"
   ]
  },
  {
   "cell_type": "code",
   "execution_count": 10,
   "metadata": {
    "colab": {
     "autoexec": {
      "startup": false,
      "wait_interval": 0
     },
     "base_uri": "https://localhost:8080/",
     "height": 136
    },
    "colab_type": "code",
    "executionInfo": {
     "elapsed": 540,
     "status": "ok",
     "timestamp": 1530610518510,
     "user": {
      "displayName": "Олександр Валер'янович Орловський",
      "photoUrl": "//lh4.googleusercontent.com/-aNlpDuZUFYA/AAAAAAAAAAI/AAAAAAAAAAo/pMzStuOMp0s/s50-c-k-no/photo.jpg",
      "userId": "115227064507961374760"
     },
     "user_tz": -180
    },
    "id": "D2Gl6NfDZ5ic",
    "outputId": "63a60e8b-b4c6-46ee-9d3b-d7a9587313e8"
   },
   "outputs": [
    {
     "name": "stdout",
     "output_type": "stream",
     "text": [
      "x = 100.9\n",
      "---------\n",
      "x is float\n",
      "\n",
      "x = 87\n",
      "---------\n",
      "x is not float\n"
     ]
    }
   ],
   "source": [
    "x = 100.9\n",
    "print(\"x =\", x)\n",
    "print(\"---------\")\n",
    "if (type(x) is float):\n",
    "    print (\"x is float\")\n",
    "else:\n",
    "    print (\"x is not float\")\n",
    "    \n",
    "print()\n",
    "    \n",
    "x = 87\n",
    "print(\"x =\", x)\n",
    "print(\"---------\")\n",
    "if (type(x) is not float):\n",
    "    print (\"x is not float\")\n",
    "else:\n",
    "    print (\"x is float\")"
   ]
  },
  {
   "cell_type": "markdown",
   "metadata": {
    "colab_type": "text",
    "id": "CdxM5tUDbNud"
   },
   "source": [
    "# Basic Data Types (21 min)\n"
   ]
  },
  {
   "cell_type": "markdown",
   "metadata": {
    "colab_type": "text",
    "id": "m0VMxPkobYqq"
   },
   "source": [
    "**Everything in Python is an object** and every object has an identity, a type, and a value. Python variables do not need explicit declaration to reserve memory space. It's good to know, that the declaration happens automatically when you assign a value to a variable. All data values in Python are encapsulated in relevant object classes. \n",
    "\n",
    "****You can check any variable type using type() function.***\n",
    "\n",
    "Feel free to discover explicitly about [Data Types in Python](https://bit.ly/PyDataTypes)!\n",
    "\n",
    "But here's also a quick overview, carefully gathered for you ^_*:\n"
   ]
  },
  {
   "cell_type": "markdown",
   "metadata": {
    "colab_type": "text",
    "id": "JBAcjZp6dF0U"
   },
   "source": [
    "##Number\n",
    "\n"
   ]
  },
  {
   "cell_type": "markdown",
   "metadata": {
    "colab_type": "text",
    "id": "mqjF5fz6iKJL"
   },
   "source": [
    "Number variables are created by the standard Python method:\n",
    "\n",
    ">`some_variable = 54`\n",
    "\n",
    "Python will automatically convert a number from one type to another if it needs.\n",
    "\n",
    "***There are 4 types of numbers in Python:***\n",
    "\n",
    "> int\n",
    "\n",
    "> long\n",
    "\n",
    "> float \n",
    "\n",
    "> complex \n",
    "\n",
    "k = 13------------------------------------------------int number example\n",
    "\n",
    "k = 567L -------------------------------------------long number example\n",
    "\n",
    "k = 221.34-----------------------------------------float number example\n",
    "\n",
    "k = 3.14J-------------------------------------------complex number example\n",
    "\n",
    "\n",
    "You can read more about numbers and their's functions [here](https://bit.ly/PyNumbersOveriq)."
   ]
  },
  {
   "cell_type": "code",
   "execution_count": 11,
   "metadata": {
    "colab": {
     "autoexec": {
      "startup": false,
      "wait_interval": 0
     },
     "base_uri": "https://localhost:8080/",
     "height": 68
    },
    "colab_type": "code",
    "executionInfo": {
     "elapsed": 523,
     "status": "ok",
     "timestamp": 1530610519984,
     "user": {
      "displayName": "Олександр Валер'янович Орловський",
      "photoUrl": "//lh4.googleusercontent.com/-aNlpDuZUFYA/AAAAAAAAAAI/AAAAAAAAAAo/pMzStuOMp0s/s50-c-k-no/photo.jpg",
      "userId": "115227064507961374760"
     },
     "user_tz": -180
    },
    "id": "er3Sykt5kTdN",
    "outputId": "6b8a9d66-ec94-4e4c-9e3f-695a34482120"
   },
   "outputs": [
    {
     "name": "stdout",
     "output_type": "stream",
     "text": [
      "var = 34.32\n",
      "-----------\n",
      "<class 'float'>\n"
     ]
    }
   ],
   "source": [
    "var = 34.32\n",
    "print(\"var =\", var)\n",
    "print(\"-----------\")\n",
    "print(type(var))\n",
    "\n",
    "# You can use this function with any class of numbers"
   ]
  },
  {
   "cell_type": "markdown",
   "metadata": {
    "colab_type": "text",
    "id": "I0CdtnmdkwRo"
   },
   "source": [
    "**There's an opportunity to use Python conversion functions (int(), long(), float(), complex()) to convert data from one type to another**.\n",
    "\n",
    "Just write int(), float(), long() or complex() function if you need type conversion.\n",
    "\n",
    "But pay attention: you might loose some precision while converting from float to int for example. Here's great arcticle, which explains a lot of tricky moments of [data type conversion in Python](https://bit.ly/PyDTConv)."
   ]
  },
  {
   "cell_type": "code",
   "execution_count": 12,
   "metadata": {
    "colab": {
     "autoexec": {
      "startup": false,
      "wait_interval": 0
     },
     "base_uri": "https://localhost:8080/",
     "height": 136
    },
    "colab_type": "code",
    "executionInfo": {
     "elapsed": 538,
     "status": "ok",
     "timestamp": 1530610521223,
     "user": {
      "displayName": "Олександр Валер'янович Орловський",
      "photoUrl": "//lh4.googleusercontent.com/-aNlpDuZUFYA/AAAAAAAAAAI/AAAAAAAAAAo/pMzStuOMp0s/s50-c-k-no/photo.jpg",
      "userId": "115227064507961374760"
     },
     "user_tz": -180
    },
    "id": "YAeqTpbqk3cb",
    "outputId": "070dece0-90ef-49df-9d28-8966a599a5dd"
   },
   "outputs": [
    {
     "name": "stdout",
     "output_type": "stream",
     "text": [
      "a = 2.23\n",
      "--------------\n",
      "<class 'float'>\n",
      "\n",
      "b = 2\n",
      "--------------\n",
      "<class 'int'>\n"
     ]
    }
   ],
   "source": [
    "a = 2.23\n",
    "print(\"a =\", a)\n",
    "print(\"--------------\")\n",
    "print(type(a))\n",
    "\n",
    "print()\n",
    "\n",
    "b = int(a)\n",
    "print(\"b =\", b)\n",
    "print(\"--------------\")\n",
    "print(type(b))"
   ]
  },
  {
   "cell_type": "markdown",
   "metadata": {
    "colab_type": "text",
    "id": "YNVj4lbklfYA"
   },
   "source": [
    "##String\n"
   ]
  },
  {
   "cell_type": "markdown",
   "metadata": {
    "colab_type": "text",
    "id": "NRY6_wrCqags"
   },
   "source": [
    "In Python, a [string type object](https://bit.ly/PyTextSeqType) is a sequence of characters. String starts and ends with single or double quotes.\n",
    "Example of declaring a string:\n",
    "\n",
    ">`string = \"Hello, world\"`\n",
    "\n",
    "Strings can be accessed as a whole string, or a substring using [slices](https://colab.research.google.com/drive/1VbdYPyP14As_IpNocXPNcJh2vHKfUusP#scrollTo=ONTLkNn36nGX)."
   ]
  },
  {
   "cell_type": "code",
   "execution_count": 13,
   "metadata": {
    "colab": {
     "autoexec": {
      "startup": false,
      "wait_interval": 0
     },
     "base_uri": "https://localhost:8080/",
     "height": 102
    },
    "colab_type": "code",
    "executionInfo": {
     "elapsed": 515,
     "status": "ok",
     "timestamp": 1530610523161,
     "user": {
      "displayName": "Олександр Валер'янович Орловський",
      "photoUrl": "//lh4.googleusercontent.com/-aNlpDuZUFYA/AAAAAAAAAAI/AAAAAAAAAAo/pMzStuOMp0s/s50-c-k-no/photo.jpg",
      "userId": "115227064507961374760"
     },
     "user_tz": -180
    },
    "id": "WnKMVKWir76L",
    "outputId": "abb311e0-1e2c-4044-c01e-2acc427086db"
   },
   "outputs": [
    {
     "name": "stdout",
     "output_type": "stream",
     "text": [
      "s = Strings are so interesting\n",
      "------------------------------\n",
      "n\n",
      "s are\n",
      "Strin\n"
     ]
    }
   ],
   "source": [
    "s = \"Strings are so interesting\"\n",
    "print(\"s =\", s)\n",
    "print(\"------------------------------\")\n",
    "print(s[4])\n",
    "# print 4-th element\n",
    "\n",
    "print(s[6:11])\n",
    "# print elements from 6 to 11\n",
    "\n",
    "print(s[:5])\n",
    "# print all elemets before 5\n"
   ]
  },
  {
   "cell_type": "markdown",
   "metadata": {
    "colab_type": "text",
    "id": "viTvsuHMuqFi"
   },
   "source": [
    "We have some examples using [basic string functions](https://bit.ly/PyStringMethods), like \n",
    "\n",
    " ***len(str)*** -- return string length \n",
    "\n",
    "***string.count(el)*** -- return number of elements, that == el\n",
    "\n",
    "***string.find(el)*** -- return index of el in string"
   ]
  },
  {
   "cell_type": "code",
   "execution_count": 14,
   "metadata": {
    "colab": {
     "autoexec": {
      "startup": false,
      "wait_interval": 0
     },
     "base_uri": "https://localhost:8080/",
     "height": 102
    },
    "colab_type": "code",
    "executionInfo": {
     "elapsed": 684,
     "status": "ok",
     "timestamp": 1530610524638,
     "user": {
      "displayName": "Олександр Валер'янович Орловський",
      "photoUrl": "//lh4.googleusercontent.com/-aNlpDuZUFYA/AAAAAAAAAAI/AAAAAAAAAAo/pMzStuOMp0s/s50-c-k-no/photo.jpg",
      "userId": "115227064507961374760"
     },
     "user_tz": -180
    },
    "id": "mElui7QBwowX",
    "outputId": "89ba9976-3c2c-48af-947d-93c4bcb07d7f"
   },
   "outputs": [
    {
     "name": "stdout",
     "output_type": "stream",
     "text": [
      "str = string\n",
      "------------\n",
      "1\n",
      "1\n",
      "6\n"
     ]
    }
   ],
   "source": [
    "str = \"string\"\n",
    "print(\"str =\", str)\n",
    "print(\"------------\")\n",
    "print(str.count('s'))\n",
    "print(str.count('i'))\n",
    "print(len(str))"
   ]
  },
  {
   "cell_type": "markdown",
   "metadata": {
    "colab_type": "text",
    "id": "vSIXf6Bhu_K7"
   },
   "source": [
    "If you want to see more detailed overview of strings, feel free to start from [this one](https://bit.ly/PyStingsTP)."
   ]
  },
  {
   "cell_type": "markdown",
   "metadata": {
    "colab_type": "text",
    "id": "oOhxXsy9x9ei"
   },
   "source": [
    "##List"
   ]
  },
  {
   "cell_type": "markdown",
   "metadata": {
    "colab_type": "text",
    "id": "XVSvwSenyBIL"
   },
   "source": [
    "[List](https://bit.ly/2Lwo12e) literals are written within square brackets [ ]. \n",
    "\n",
    "***Lists work similarly to strings*** -- use the len() function and square brackets [ ] to access data, with the first element at index 0.\n",
    "\n",
    "\n",
    "***Lists replace*** some data structures like*** array*** in another language\n",
    "\n",
    "You need to use slicing and indexing in lists too. \n",
    "\n",
    "More information about list [here](https://bit.ly/PyListsEffbot)."
   ]
  },
  {
   "cell_type": "code",
   "execution_count": 15,
   "metadata": {
    "colab": {
     "autoexec": {
      "startup": false,
      "wait_interval": 0
     },
     "base_uri": "https://localhost:8080/",
     "height": 85
    },
    "colab_type": "code",
    "executionInfo": {
     "elapsed": 820,
     "status": "ok",
     "timestamp": 1530610528108,
     "user": {
      "displayName": "Олександр Валер'янович Орловський",
      "photoUrl": "//lh4.googleusercontent.com/-aNlpDuZUFYA/AAAAAAAAAAI/AAAAAAAAAAo/pMzStuOMp0s/s50-c-k-no/photo.jpg",
      "userId": "115227064507961374760"
     },
     "user_tz": -180
    },
    "id": "eP9Lr7GnzuqX",
    "outputId": "cf350a80-9222-4672-bc6f-39e1d15a6167"
   },
   "outputs": [
    {
     "name": "stdout",
     "output_type": "stream",
     "text": [
      "A = []\n",
      "B = [1, 2, 'python']\n",
      "[1]\n",
      "Lucy is here!\n"
     ]
    }
   ],
   "source": [
    "A = [ ]\n",
    "print(\"A =\", A)\n",
    "# empty list\n",
    "\n",
    "B = [1, 2, 'python']\n",
    "print(\"B =\", B)\n",
    "# list. that contains different types of variable\n",
    "\n",
    "print(B[0:1])\n",
    "# slicing also works with lists\n",
    "\n",
    "my_list = ['Lucy', 'Marie', 'Jenny']\n",
    "if 'Lucy' in my_list:\n",
    "    print(\"Lucy is here!\")\n",
    "else:\n",
    "    print(\"Lucy is absent today\")\n",
    "# membership operators in work\n",
    "        "
   ]
  },
  {
   "cell_type": "markdown",
   "metadata": {
    "colab_type": "text",
    "id": "svmyMR3FlBkL"
   },
   "source": [
    "**Here are some other common list methods.**\n",
    "\n",
    "[About more lists methods](https://bit.ly/Py3ListsMethods)"
   ]
  },
  {
   "cell_type": "markdown",
   "metadata": {
    "colab_type": "text",
    "id": "V0aJTnTZlOXf"
   },
   "source": [
    "list.append(element) ------------------------------------------------------ adds an element to the end of the list\n",
    "\n",
    "list.insert(index, element) -----------------------------------------------inserts the element at the given index and shift elements to the right.\n",
    "\n",
    "list.extend(list2)---------------------------------------------------------------adds list2 elements to the end of the list (you can use +=)\n",
    "\n",
    "list.index(elem) ---------------------------------------------------------------searches for the given element from the start of the list and returns its index.\n",
    "\n",
    "list.remove(elem) ------------------------------------------------------------searches for the first instance of the given element and removes it.\n",
    "\n",
    "list.sort() -------------------------------------------------------------------------sorts the list in place.\n",
    "\n",
    "list.reverse() --------------------------------------------------------------------reverses the list in place.\n",
    "\n",
    "list.pop(index) -----------------------------------------------------------------removes and returns the element at the given index.\n"
   ]
  },
  {
   "cell_type": "code",
   "execution_count": 16,
   "metadata": {
    "colab": {
     "autoexec": {
      "startup": false,
      "wait_interval": 0
     },
     "base_uri": "https://localhost:8080/",
     "height": 187
    },
    "colab_type": "code",
    "executionInfo": {
     "elapsed": 534,
     "status": "ok",
     "timestamp": 1530610532612,
     "user": {
      "displayName": "Олександр Валер'янович Орловський",
      "photoUrl": "//lh4.googleusercontent.com/-aNlpDuZUFYA/AAAAAAAAAAI/AAAAAAAAAAo/pMzStuOMp0s/s50-c-k-no/photo.jpg",
      "userId": "115227064507961374760"
     },
     "user_tz": -180
    },
    "id": "_nNlIZpYmZHg",
    "outputId": "c5e0eaca-2c43-4c9b-f488-1ea0a811fb35"
   },
   "outputs": [
    {
     "name": "stdout",
     "output_type": "stream",
     "text": [
      "my_list = ['Lucy', 'Marie', 'Jenny']\n",
      "------------------------------------\n",
      "['Lucy', 'Marie', 'Jenny', 'Jackson']\n",
      "['Lucy', 'second name', 'Marie', 'Jenny', 'Jackson']\n",
      "['Lucy', 'second name', 'Marie', 'Jenny', 'Jackson', 'Christen', 'Zoe']\n",
      "['Lucy', 'second name', 'Jenny', 'Jackson', 'Christen', 'Zoe']\n",
      "['Christen', 'Jackson', 'Jenny', 'Lucy', 'Zoe', 'second name']\n",
      "['second name', 'Zoe', 'Lucy', 'Jenny', 'Jackson', 'Christen']\n",
      "['second name', 'Zoe', 'Lucy', 'Jenny', 'Christen']\n",
      "1\n"
     ]
    }
   ],
   "source": [
    "my_list = ['Lucy', 'Marie', 'Jenny']\n",
    "print(\"my_list =\", my_list)\n",
    "print(\"------------------------------------\")\n",
    "\n",
    "my_list.append('Jackson')\n",
    "print(my_list)\n",
    "\n",
    "my_list.insert(1,'second name')\n",
    "print(my_list)\n",
    "\n",
    "my_list.extend(['Christen', 'Zoe'])\n",
    "print(my_list)\n",
    "\n",
    "my_list.remove('Marie')\n",
    "print(my_list)\n",
    "\n",
    "my_list.sort()\n",
    "print(my_list)\n",
    "\n",
    "my_list.reverse()\n",
    "print(my_list)\n",
    "\n",
    "my_list.pop(4)\n",
    "print(my_list)\n",
    "\n",
    "print(my_list.index('Zoe'))"
   ]
  },
  {
   "cell_type": "markdown",
   "metadata": {
    "colab_type": "text",
    "id": "XFD3hzEp2EEs"
   },
   "source": [
    "###Multidimensional lists"
   ]
  },
  {
   "cell_type": "markdown",
   "metadata": {
    "colab_type": "text",
    "id": "-X3yr_UU2Q9J"
   },
   "source": [
    "What is a [list that holds lists](https://bit.ly/PyMDLists)? That's a two dimensional list. Let's examine it in details.\n",
    "\n",
    "This is [how you can create](https://bit.ly/PyMDListsEffbot) it:\n",
    "\n",
    ">```mult_list = [[1,2,3,4], [5,6,7,8]] ```\n",
    "\n",
    "To get sequences from list above, use:\n",
    "\n",
    ">``` mult_list[sequence number]```"
   ]
  },
  {
   "cell_type": "markdown",
   "metadata": {
    "colab_type": "text",
    "id": "okf7zdXj4Boj"
   },
   "source": [
    "\"There can be more than one additional dimension to lists. Keeping in mind that a list can hold other lists, that basic principle can be applied over and over\"\n",
    "([src](https://linuxconfig.org/python-multidimensional-lists))"
   ]
  },
  {
   "cell_type": "markdown",
   "metadata": {
    "colab_type": "text",
    "id": "Oek-D0BZAbfe"
   },
   "source": [
    "**Task**: return 0 if list has more negative numbers, and return 1, if vice versa.\n"
   ]
  },
  {
   "cell_type": "code",
   "execution_count": 1,
   "metadata": {
    "colab": {
     "autoexec": {
      "startup": false,
      "wait_interval": 0
     },
     "base_uri": "https://localhost:8080/",
     "height": 68
    },
    "colab_type": "code",
    "executionInfo": {
     "elapsed": 8836,
     "status": "ok",
     "timestamp": 1530972009275,
     "user": {
      "displayName": "Олександр Валер'янович Орловський",
      "photoUrl": "//lh4.googleusercontent.com/-aNlpDuZUFYA/AAAAAAAAAAI/AAAAAAAAAAo/pMzStuOMp0s/s50-c-k-no/photo.jpg",
      "userId": "115227064507961374760"
     },
     "user_tz": -180
    },
    "id": "KPN9171j35-8",
    "outputId": "0762bda7-e4ae-4251-aff6-8a4c97d6e4ae"
   },
   "outputs": [
    {
     "name": "stdout",
     "output_type": "stream",
     "text": [
      "n=3\n",
      "[[-9, -2, -8], [2, -5, -1], [2, -2, -10]]\n",
      "1\n"
     ]
    }
   ],
   "source": [
    "from random import randint\n",
    "\n",
    "n = int(input(\"n=\"))\n",
    "minus = 0\n",
    "plus = 0\n",
    "a = [[randint(-10, 7) for j in range(n)] for i in range(n)]  # here you can see application of \"list comrehension\" tech.\n",
    "print(a)\n",
    "for i in range(len(a)):\n",
    "    for j in range(len(a[i])):\n",
    "        if a[i][j] < 0:\n",
    "            minus += 1\n",
    "        elif a[i][j] >= 0:\n",
    "            plus += 1\n",
    "if minus > plus:\n",
    "    print( \"1\" ) \n",
    "elif minus < plus:\n",
    "    print( \"0\" )"
   ]
  },
  {
   "cell_type": "markdown",
   "metadata": {
    "colab_type": "text",
    "id": "jbMi79J2DHwa"
   },
   "source": [
    "Interesting in more details? There's nice place to [continue](https://bit.ly/Py2DListsEx) our discovery."
   ]
  },
  {
   "cell_type": "markdown",
   "metadata": {
    "colab_type": "text",
    "id": "I14SQg_HoYTQ"
   },
   "source": [
    "##Tuple\n"
   ]
  },
  {
   "cell_type": "markdown",
   "metadata": {
    "colab_type": "text",
    "id": "6D3JGW8eoaB5"
   },
   "source": [
    "Tuples are a group of values like a list and are manipulated in similar ways. \n",
    "\n",
    "But, tuples are fixed in size once they are assigned. \n",
    "\n",
    "***Tuples are defined by parenthesis ().***\n",
    "\n",
    "[More info about tuple](https://bit.ly/PyTuplesGFG)"
   ]
  },
  {
   "cell_type": "markdown",
   "metadata": {
    "colab_type": "text",
    "id": "aPrjnpoMotcL"
   },
   "source": [
    "***Tuple rules:***\n",
    "\n",
    "1. Tuple does not have append or extend method.\n",
    "2. Elements cannot be removed from a tuple.\n",
    "3. You can find elements in a tuple and this doesn’t change the tuple.\n",
    "You can also use the *in* operator (if an element exists).\n",
    "4. Tuples are faster than lists. If you’re defining a constant set of values and all you’re ever going to do with it is iterate through it, use a tuple instead of a list.\n",
    "5. It makes your code safer, nobode can change your tuple"
   ]
  },
  {
   "cell_type": "code",
   "execution_count": 17,
   "metadata": {
    "colab": {
     "autoexec": {
      "startup": false,
      "wait_interval": 0
     },
     "base_uri": "https://localhost:8080/",
     "height": 136
    },
    "colab_type": "code",
    "executionInfo": {
     "elapsed": 649,
     "status": "ok",
     "timestamp": 1530610534967,
     "user": {
      "displayName": "Олександр Валер'янович Орловський",
      "photoUrl": "//lh4.googleusercontent.com/-aNlpDuZUFYA/AAAAAAAAAAI/AAAAAAAAAAo/pMzStuOMp0s/s50-c-k-no/photo.jpg",
      "userId": "115227064507961374760"
     },
     "user_tz": -180
    },
    "id": "lKO7SEnCpf5L",
    "outputId": "0b96ae86-c54d-47f2-a5f8-d5f7bbfdef87"
   },
   "outputs": [
    {
     "name": "stdout",
     "output_type": "stream",
     "text": [
      "my_tuple = (1, 2, 3, 4)\n",
      "-----------------------\n",
      "element at 3 index = 2\n",
      "1\n",
      "2\n",
      "3\n",
      "4\n"
     ]
    }
   ],
   "source": [
    "my_tuple = (1, 2, 3, 4)\n",
    "print(\"my_tuple =\", my_tuple)\n",
    "print(\"-----------------------\")\n",
    "print(\"element at 3 index =\", my_tuple.index(3))\n",
    "\n",
    "for el in my_tuple:\n",
    "    print(el)\n",
    "\n",
    "# my_tuple.append('6')\n",
    "# AttributeError\n",
    "\n"
   ]
  },
  {
   "cell_type": "markdown",
   "metadata": {
    "colab_type": "text",
    "id": "GaQyNorAzdtA"
   },
   "source": [
    "##Dictionary"
   ]
  },
  {
   "cell_type": "markdown",
   "metadata": {
    "colab_type": "text",
    "id": "8xj97rH7zjtV"
   },
   "source": [
    "[Dictionaries](https://bit.ly/PyDicts) are lists of **Key:Value** pairs. \n",
    "\n",
    "**Dictionaries:**\n",
    "\n",
    "1.Use {} curly brackets to construct the dictionary, and [] square brackets to index it.\n",
    "\n",
    "2.The values that the keys point to can be any Python value. \n",
    "\n",
    "3.Dictionaries are unordered."
   ]
  },
  {
   "cell_type": "code",
   "execution_count": 18,
   "metadata": {
    "colab": {
     "autoexec": {
      "startup": false,
      "wait_interval": 0
     },
     "base_uri": "https://localhost:8080/",
     "height": 102
    },
    "colab_type": "code",
    "executionInfo": {
     "elapsed": 547,
     "status": "ok",
     "timestamp": 1530610536562,
     "user": {
      "displayName": "Олександр Валер'янович Орловський",
      "photoUrl": "//lh4.googleusercontent.com/-aNlpDuZUFYA/AAAAAAAAAAI/AAAAAAAAAAo/pMzStuOMp0s/s50-c-k-no/photo.jpg",
      "userId": "115227064507961374760"
     },
     "user_tz": -180
    },
    "id": "d3v2zMoP3LVz",
    "outputId": "93c2f3cf-593c-44b3-c643-3251523a371f"
   },
   "outputs": [
    {
     "name": "stdout",
     "output_type": "stream",
     "text": [
      "product_price = {'cucumber': 5, 'tomato': 4}\n",
      "--------------------------------------------\n",
      "4\n",
      "{'cucumber': 6, 'tomato': 4, 'rice': 7}\n",
      "True\n"
     ]
    }
   ],
   "source": [
    "product_price = {'cucumber': 5, 'tomato': 4}\n",
    "print(\"product_price =\", product_price)\n",
    "print(\"--------------------------------------------\")\n",
    "# creating new dictionary \n",
    "\n",
    "product_price['cucumber'] = 6\n",
    "# assigning new value for 'cucumber'-key\n",
    "\n",
    "print(product_price['tomato'])\n",
    "\n",
    "product_price['rice'] = 7\n",
    "print(product_price)\n",
    "# add new 'rice'-key and associated value\n",
    "\n",
    "print('rice' in product_price)\n",
    "# returns True if 'rice' is in 'product_price' dictionary\n"
   ]
  },
  {
   "cell_type": "markdown",
   "metadata": {
    "colab_type": "text",
    "id": "yNLtDfbwyG0k"
   },
   "source": [
    "### Lists - tuples - dictionaries: common and different"
   ]
  },
  {
   "cell_type": "markdown",
   "metadata": {
    "colab_type": "text",
    "id": "2YKv5w2VXjle"
   },
   "source": [
    "In common, **list** (type, whose objects are created with '[   ]') is a ***mutable*** type. It means that lists can be modified after they have been created. \n",
    "\n",
    "A **tuple** (type, whose objects are created with '(   )'  ) is similar to a list except it is*** immutable*** (you can't change its values).\n",
    "\n",
    "It was a pleasure to find such a great explanation of their difference: [Tuples have structure, lists have order](https://bit.ly/PyListsTuplesDiffs)! \n",
    "\n",
    "A dictionary (type, whose objects are created with '{   }') is a ***key-value store***. It is not ordered and it requires the keys to be hashable (for fast look-ups by key).\n",
    "\n",
    "\n",
    ">1.You can read and try to do something awesome from [this lesson](https://bit.ly/PyListsTuplesDicts), which contains information about the most frequently used functions.\n",
    "\n",
    "\n",
    ">2.If you want to know about all these types of data and their popular features in details, [this link](https://bit.ly/2K7KFbU) will help you to fill knowledge gaps.\n",
    "\n",
    ">3.Detailed description and performance of the basic operations over these types of data are shown [here](https://bit.ly/2K76lEI).\n",
    "\n",
    "\n",
    "\n",
    "\n"
   ]
  },
  {
   "cell_type": "markdown",
   "metadata": {
    "colab_type": "text",
    "id": "fvoCoaFHdxOe"
   },
   "source": [
    "##Bytes"
   ]
  },
  {
   "cell_type": "markdown",
   "metadata": {
    "colab_type": "text",
    "id": "p1Tjj_9uf0IR"
   },
   "source": [
    "The [bytes type](https://bit.ly/PyBytes) in Python is immutable and stores a sequence of values ranging from 0-255 (8-bits). "
   ]
  },
  {
   "cell_type": "code",
   "execution_count": 2,
   "metadata": {
    "colab": {
     "autoexec": {
      "startup": false,
      "wait_interval": 0
     },
     "base_uri": "https://localhost:8080/",
     "height": 34
    },
    "colab_type": "code",
    "executionInfo": {
     "elapsed": 769,
     "status": "ok",
     "timestamp": 1530972176432,
     "user": {
      "displayName": "Олександр Валер'янович Орловський",
      "photoUrl": "//lh4.googleusercontent.com/-aNlpDuZUFYA/AAAAAAAAAAI/AAAAAAAAAAo/pMzStuOMp0s/s50-c-k-no/photo.jpg",
      "userId": "115227064507961374760"
     },
     "user_tz": -180
    },
    "id": "koCVw6Sof8AS",
    "outputId": "04cc5dfc-c678-4055-d59c-1a1343c79c35"
   },
   "outputs": [
    {
     "name": "stdout",
     "output_type": "stream",
     "text": [
      "b'\\x00\\x00\\x00\\x00\\x00\\x00\\x00\\x00\\x00\\x00\\x00\\x00\\x00\\x00\\x00\\x00'\n"
     ]
    }
   ],
   "source": [
    "# create empty bytes\n",
    "empty = bytes(16)\n",
    "print(empty)"
   ]
  },
  {
   "cell_type": "markdown",
   "metadata": {
    "colab_type": "text",
    "id": "RQo0Qn70g9pJ"
   },
   "source": [
    "bytes() function:\n",
    "\n",
    "Return a new \"bytes\" object, print as ASCII characters when displayed."
   ]
  },
  {
   "cell_type": "code",
   "execution_count": 3,
   "metadata": {
    "colab": {
     "autoexec": {
      "startup": false,
      "wait_interval": 0
     },
     "base_uri": "https://localhost:8080/",
     "height": 136
    },
    "colab_type": "code",
    "executionInfo": {
     "elapsed": 813,
     "status": "ok",
     "timestamp": 1530972189674,
     "user": {
      "displayName": "Олександр Валер'янович Орловський",
      "photoUrl": "//lh4.googleusercontent.com/-aNlpDuZUFYA/AAAAAAAAAAI/AAAAAAAAAAo/pMzStuOMp0s/s50-c-k-no/photo.jpg",
      "userId": "115227064507961374760"
     },
     "user_tz": -180
    },
    "id": "7y-hRkVrhV4l",
    "outputId": "a3f70548-87c4-487b-cc12-16f8d2bed660"
   },
   "outputs": [
    {
     "name": "stdout",
     "output_type": "stream",
     "text": [
      "109\n",
      "105\n",
      "110\n",
      "117\n",
      "116\n",
      "101\n",
      "115\n"
     ]
    }
   ],
   "source": [
    "# b - base64 encoding\n",
    "data_to_convert1 = bytes(b\"minutes\")\n",
    "for element in data_to_convert1:\n",
    "    print(element)"
   ]
  },
  {
   "cell_type": "markdown",
   "metadata": {
    "colab_type": "text",
    "id": "PVO8Q6Mth9X4"
   },
   "source": [
    "If you want to create a mutable object you need to use the bytearray type. "
   ]
  },
  {
   "cell_type": "markdown",
   "metadata": {
    "colab_type": "text",
    "id": "MAYHiJrKiEzv"
   },
   "source": [
    "bytearray() function :\n",
    "\n",
    "Return a new [array of bytes](https://bit.ly/PyByteArray). "
   ]
  },
  {
   "cell_type": "code",
   "execution_count": 4,
   "metadata": {
    "colab": {
     "autoexec": {
      "startup": false,
      "wait_interval": 0
     },
     "base_uri": "https://localhost:8080/",
     "height": 34
    },
    "colab_type": "code",
    "executionInfo": {
     "elapsed": 672,
     "status": "ok",
     "timestamp": 1530972242082,
     "user": {
      "displayName": "Олександр Валер'янович Орловський",
      "photoUrl": "//lh4.googleusercontent.com/-aNlpDuZUFYA/AAAAAAAAAAI/AAAAAAAAAAo/pMzStuOMp0s/s50-c-k-no/photo.jpg",
      "userId": "115227064507961374760"
     },
     "user_tz": -180
    },
    "id": "UrXBmWZNiUk9",
    "outputId": "5cb8e44a-c365-4e7c-c9a2-76a76e489a5e"
   },
   "outputs": [
    {
     "name": "stdout",
     "output_type": "stream",
     "text": [
      "Element count: 5\n"
     ]
    }
   ],
   "source": [
    "new_array = bytearray([90, 80, 70, 60, 50])\n",
    "print(\"Element count:\", len(new_array))"
   ]
  },
  {
   "cell_type": "code",
   "execution_count": 1,
   "metadata": {
    "colab": {
     "autoexec": {
      "startup": false,
      "wait_interval": 0
     },
     "base_uri": "https://localhost:8080/",
     "height": 174
    },
    "colab_type": "code",
    "executionInfo": {
     "elapsed": 1720,
     "status": "ok",
     "timestamp": 1531052660068,
     "user": {
      "displayName": "Катерина В`ячеславівна Переверзева",
      "photoUrl": "//lh6.googleusercontent.com/-9dwrULxIzZI/AAAAAAAAAAI/AAAAAAAAAAs/X3ZeZ0JEvAw/s50-c-k-no/photo.jpg",
      "userId": "117674908900817098526"
     },
     "user_tz": -180
    },
    "id": "uo-IjOFIiknE",
    "outputId": "6d7f6f89-15cb-4cbd-e63e-f7b122bcebc1"
   },
   "outputs": [
    {
     "name": "stdout",
     "output_type": "stream",
     "text": [
      "109\n",
      "105\n",
      "110\n",
      "4\n",
      "116\n",
      "101\n",
      "115\n",
      "---\n",
      "minutes\n"
     ]
    }
   ],
   "source": [
    "data_to_convert2 = bytearray(b\"minutes\")\n",
    "data_to_convert2[3] = 4\n",
    "for element2 in data_to_convert2:\n",
    "    print(element2)\n",
    "   \n",
    "print('---')\n",
    "# if you want to decode bytearray for better readability\n",
    "print(b\"minutes\".decode(\"utf-8\"))"
   ]
  },
  {
   "cell_type": "markdown",
   "metadata": {
    "colab_type": "text",
    "id": "o_5OnIRYjN8E"
   },
   "source": [
    "According to example above, you can make sure that bytearray() is mutable ( user can change some data ), unlike the byte() sample.\n"
   ]
  },
  {
   "cell_type": "markdown",
   "metadata": {
    "colab_type": "text",
    "id": "-rXnPfZ0j4_4"
   },
   "source": [
    "We really recommend you to read [this article](https://bit.ly/PyBytesPerls) to make your knowledge about bytes even deeper 😌"
   ]
  },
  {
   "cell_type": "markdown",
   "metadata": {
    "colab_type": "text",
    "id": "gPui8-jpHZuJ"
   },
   "source": [
    "# Iterations (7 min)"
   ]
  },
  {
   "cell_type": "markdown",
   "metadata": {
    "colab_type": "text",
    "id": "ao3DyE1YHtU-"
   },
   "source": [
    "All programming languages need some way of doing similar things many times. This is called iteration.\n"
   ]
  },
  {
   "cell_type": "markdown",
   "metadata": {
    "colab_type": "text",
    "id": "JqYZRH7fH0Ag"
   },
   "source": [
    "##For loop"
   ]
  },
  {
   "cell_type": "markdown",
   "metadata": {
    "colab_type": "text",
    "id": "OX9Q9hrOH64P"
   },
   "source": [
    "The [for loop](https://bit.ly/PyFWLoops) is often distinguished by an explicit loop counter or loop variable.\n",
    "\n",
    "Constructions of for loop:\n",
    "```\n",
    "for x in range(0, 5):\n",
    "    print \"Hello\"\n",
    " ```\n",
    "  \n",
    "  For loop from 0 to 4, therefore running 5 times.\n",
    "\n",
    "\n",
    "\n"
   ]
  },
  {
   "cell_type": "code",
   "execution_count": 19,
   "metadata": {
    "colab": {
     "autoexec": {
      "startup": false,
      "wait_interval": 0
     },
     "base_uri": "https://localhost:8080/",
     "height": 425
    },
    "colab_type": "code",
    "executionInfo": {
     "elapsed": 556,
     "status": "ok",
     "timestamp": 1530610537876,
     "user": {
      "displayName": "Олександр Валер'янович Орловський",
      "photoUrl": "//lh4.googleusercontent.com/-aNlpDuZUFYA/AAAAAAAAAAI/AAAAAAAAAAo/pMzStuOMp0s/s50-c-k-no/photo.jpg",
      "userId": "115227064507961374760"
     },
     "user_tz": -180
    },
    "id": "z_ULo2NJItmc",
    "outputId": "5289a130-87c3-4a7a-c356-5971442a77de"
   },
   "outputs": [
    {
     "name": "stdout",
     "output_type": "stream",
     "text": [
      "string = Hello World\n",
      "print string using loop:\n",
      "H\n",
      "e\n",
      "l\n",
      "l\n",
      "o\n",
      " \n",
      "W\n",
      "o\n",
      "r\n",
      "l\n",
      "d\n",
      "list = ['Note', 5, 'look']\n",
      "print list using loop:\n",
      "Note\n",
      "5\n",
      "look\n",
      "print numbers using loop:\n",
      "\n",
      "1\n",
      "3\n",
      "5\n",
      "7\n"
     ]
    }
   ],
   "source": [
    "# Strings as an iterable\n",
    "string = \"Hello World\"\n",
    "print(\"string =\", string)\n",
    "print(\"print string using loop:\")\n",
    "for a in string:\n",
    "    print (a)\n",
    "    \n",
    "# Lists too\n",
    "list = ['Note', 5, 'look']\n",
    "print(\"list =\", list)\n",
    "print(\"print list using loop:\")\n",
    "for a in list:\n",
    "    print (a)\n",
    "    \n",
    "print(\"print numbers using loop:\")    \n",
    "# Print every second number from 1 to 8 \n",
    "print(\"\")\n",
    "for a in range(1, 8, 2):\n",
    "    print(a)"
   ]
  },
  {
   "cell_type": "markdown",
   "metadata": {
    "colab_type": "text",
    "id": "AVn2GMyBJhFj"
   },
   "source": [
    "##While loop"
   ]
  },
  {
   "cell_type": "markdown",
   "metadata": {
    "colab_type": "text",
    "id": "QN1pfc8mJjSl"
   },
   "source": [
    "[While loops](https://bit.ly/PyLoopsLP) repeat as long as statement is true."
   ]
  },
  {
   "cell_type": "code",
   "execution_count": 20,
   "metadata": {
    "colab": {
     "autoexec": {
      "startup": false,
      "wait_interval": 0
     },
     "base_uri": "https://localhost:8080/",
     "height": 119
    },
    "colab_type": "code",
    "executionInfo": {
     "elapsed": 572,
     "status": "ok",
     "timestamp": 1530610539162,
     "user": {
      "displayName": "Олександр Валер'янович Орловський",
      "photoUrl": "//lh4.googleusercontent.com/-aNlpDuZUFYA/AAAAAAAAAAI/AAAAAAAAAAo/pMzStuOMp0s/s50-c-k-no/photo.jpg",
      "userId": "115227064507961374760"
     },
     "user_tz": -180
    },
    "id": "Ixka44yRKGLS",
    "outputId": "2efdcf38-2f30-44cc-b460-9710339ce90a"
   },
   "outputs": [
    {
     "name": "stdout",
     "output_type": "stream",
     "text": [
      "counter = 1\n",
      "-----------\n",
      "1\n",
      "2\n",
      "3\n",
      "4\n"
     ]
    }
   ],
   "source": [
    "counter = 1\n",
    "print(\"counter =\", counter)\n",
    "print(\"-----------\")\n",
    "while counter < 8:\n",
    "    print(counter)\n",
    "    counter +=1\n",
    "    if counter == 5:\n",
    "        break"
   ]
  },
  {
   "cell_type": "markdown",
   "metadata": {
    "colab_type": "text",
    "id": "yR70PgXaLV_S"
   },
   "source": [
    "##Break, continue and pass operators \n"
   ]
  },
  {
   "cell_type": "markdown",
   "metadata": {
    "colab_type": "text",
    "id": "M5iEQ_SsLbOV"
   },
   "source": [
    "**While**: In Python, the [break](https://bit.ly/PyBreakContPassDO) statement provides you with the opportunity to exit out of a loop when an external condition is triggered. \n",
    "```\n",
    "number  = 0\n",
    "while number < 3\n",
    "    print(number)\n",
    "    number +=1\n",
    "        if number == 2\n",
    "            break\n",
    "```"
   ]
  },
  {
   "cell_type": "markdown",
   "metadata": {
    "colab_type": "text",
    "id": "im8ki4DDMNmX"
   },
   "source": [
    "**Continue**:. The [continue](https://bit.ly/PyOrgContinue) statement  continues with the next iteration of the loop:\n",
    "```\n",
    "for number in range(0, 10):\n",
    "    if number % 3 == 0:\n",
    "        print (\"Find!\", number)\n",
    "            continue\n",
    "    print (\"Hmm \", number)\n",
    "     ```\n",
    "     "
   ]
  },
  {
   "cell_type": "markdown",
   "metadata": {
    "colab_type": "text",
    "id": "Wknhxyz4Nbbe"
   },
   "source": [
    "**Pass**: The [pass](https://bit.ly/PyOrgContinue) statement does nothing. It can be used when a statement is required syntactically but the program requires no action:\n",
    "```\n",
    "while True:\n",
    "    pass\n",
    "```\n",
    "\n"
   ]
  },
  {
   "cell_type": "markdown",
   "metadata": {
    "colab_type": "text",
    "id": "V8iyArawmlac"
   },
   "source": [
    "# Decisions (3 min)\n"
   ]
  },
  {
   "cell_type": "markdown",
   "metadata": {
    "colab_type": "text",
    "id": "CBSxzLfUmsYP"
   },
   "source": [
    "The[ if/elif/else](https://bit.ly/PyIfElseProgramiz) statement is used in Python for decision making.\n",
    "\n",
    "\n",
    "An **else** statement contains the block of code that executes if the conditional expression in the **if** statement resolves to 0.\n",
    "\n",
    "The **[elif](https://bit.ly/PyIfElseTP)** statement allows you to check multiple expressions for TRUE and execute a block of code as soon as one of the conditions evaluates to TRUE.\n",
    "\n",
    "```\n",
    "if expression1:\n",
    "   statement(s)\n",
    "elif expression2:\n",
    "   statement(s)\n",
    "else:\n",
    "   statement(s)\n",
    "   ```\n"
   ]
  },
  {
   "cell_type": "code",
   "execution_count": 3,
   "metadata": {
    "colab": {
     "autoexec": {
      "startup": false,
      "wait_interval": 0
     },
     "base_uri": "https://localhost:8080/",
     "height": 85
    },
    "colab_type": "code",
    "executionInfo": {
     "elapsed": 1387,
     "status": "ok",
     "timestamp": 1531153284614,
     "user": {
      "displayName": "Олександр Валер'янович Орловський",
      "photoUrl": "//lh4.googleusercontent.com/-aNlpDuZUFYA/AAAAAAAAAAI/AAAAAAAAAAo/pMzStuOMp0s/s50-c-k-no/photo.jpg",
      "userId": "115227064507961374760"
     },
     "user_tz": -180
    },
    "id": "Wp3zli-GpK38",
    "outputId": "e1a046bb-39d4-478c-ad67-432eb7230dc2"
   },
   "outputs": [
    {
     "name": "stdout",
     "output_type": "stream",
     "text": [
      "number = -3\n",
      "----------\n",
      "number is less than zero\n",
      "number is less than zero\n"
     ]
    }
   ],
   "source": [
    "number = -3\n",
    "print(\"number =\", number)\n",
    "print(\"----------\")\n",
    "if number > 0:\n",
    "    print(\"number is greater than zero\")\n",
    "elif number == 0:\n",
    "    print(\"number is zero\")\n",
    "else:\n",
    "    print(\"number is less than zero\")\n",
    "    \n",
    "# or in one line mode:\n",
    "print(\"number is greater than zero\") if number > 0 else print(\"number is zero\") if number == 0 else print(\"number is less than zero\")"
   ]
  },
  {
   "cell_type": "markdown",
   "metadata": {
    "colab_type": "text",
    "id": "eRMvHgfSydiR"
   },
   "source": [
    "# Modules and packages (5 min)\n"
   ]
  },
  {
   "cell_type": "markdown",
   "metadata": {
    "colab_type": "text",
    "id": "niQAmI0wyhsg"
   },
   "source": [
    "What's module portrait - you may wonder. . . Let's take a look!\n",
    "\n",
    "As [tutorialspoint](https://bit.ly/PyModulesTP) says:\n",
    "\n",
    "> A module allows you to **logically organize your Python code**. Grouping related code into a module **makes the code easier to understand and use**. A module is a Python object with arbitrarily named attributes that you can bind and reference.\n",
    "\n",
    "> Simply, a module is a file consisting of Python code. A module can define functions, classes and variables. A module can also include runnable code.\n",
    "\n",
    "How's that represented in code ?\n",
    "\n",
    "> You can use any Python source file as a module by executing an import statement in some other Python source file.:\n",
    "```\n",
    "import module\n",
    "```\n",
    "Python's from statement lets you import specific attributes from a module into the current namespace:\n",
    " ```\n",
    "from module import function\n",
    "```\n",
    "\n",
    "Okay, okay, we've got it. But what is a package?\n",
    "\n",
    "As our well-known master - tutorialspoint says: \n",
    "> A package is a hierarchical file directory structure that defines a single Python application environment that consists of modules and subpackages and sub-subpackages, and so on.\n",
    "\n",
    "So, basically, **package - is a folder, which organizes modules**.\n",
    "\n",
    "📌 **Discovery** 📌: there's huge Python package base - [PyPi](https://bit.ly/PyPiOrg) with an incredible amount of packages for any purpose, which you can even imagine!\n",
    "\n",
    "We hope you'll get there real inspiration and some day create your own amazing useful package to make all pythonistas even stronger! 💪💪💪"
   ]
  },
  {
   "cell_type": "markdown",
   "metadata": {
    "colab_type": "text",
    "id": "vzxDUhl5zeDj"
   },
   "source": [
    "# Functions (5 min)\n",
    "\n"
   ]
  },
  {
   "cell_type": "markdown",
   "metadata": {
    "colab_type": "text",
    "id": "FyEpSGWG3yfG"
   },
   "source": [
    "##Simple functions"
   ]
  },
  {
   "cell_type": "markdown",
   "metadata": {
    "colab_type": "text",
    "id": "0Vy5NORSzhf6"
   },
   "source": [
    "Python [function](https://bit.ly/PyFuncW3S) is defined using the def keyword:\n",
    "```\n",
    " def function_name( parameters ):\n",
    "     do something \n",
    "     return\n",
    "  \n",
    "  ```"
   ]
  },
  {
   "cell_type": "code",
   "execution_count": 22,
   "metadata": {
    "colab": {
     "autoexec": {
      "startup": false,
      "wait_interval": 0
     },
     "base_uri": "https://localhost:8080/",
     "height": 68
    },
    "colab_type": "code",
    "executionInfo": {
     "elapsed": 552,
     "status": "ok",
     "timestamp": 1530610541831,
     "user": {
      "displayName": "Олександр Валер'янович Орловський",
      "photoUrl": "//lh4.googleusercontent.com/-aNlpDuZUFYA/AAAAAAAAAAI/AAAAAAAAAAo/pMzStuOMp0s/s50-c-k-no/photo.jpg",
      "userId": "115227064507961374760"
     },
     "user_tz": -180
    },
    "id": "zKdFesKr0j32",
    "outputId": "ecdf0fa7-6ccb-47bc-882e-f5966ec94aa3"
   },
   "outputs": [
    {
     "name": "stdout",
     "output_type": "stream",
     "text": [
      "a = 3 b = 5\n",
      "-----------\n"
     ]
    },
    {
     "data": {
      "text/plain": [
       "4.5"
      ]
     },
     "execution_count": 22,
     "metadata": {
      "tags": []
     },
     "output_type": "execute_result"
    }
   ],
   "source": [
    "def sum (a, b):\n",
    "    c = a + b\n",
    "    return c\n",
    "a = 3\n",
    "b = 5\n",
    "print(\"a =\", a, \"b =\", b)\n",
    "print(\"-----------\")\n",
    "\n",
    "# calling function\n",
    "sum(a, b)\n",
    "\n",
    "def division (a = 6):\n",
    "#     function with default parameter\n",
    "    result = a/2\n",
    "    return result\n",
    "\n",
    "a = 9\n",
    "division(a)\n",
    "\n",
    "#you can uncomment function below to see what happens when parameters - \n",
    "# are not set\n",
    "# division()"
   ]
  },
  {
   "cell_type": "markdown",
   "metadata": {
    "colab_type": "text",
    "id": "gUilHsKF3oDb"
   },
   "source": [
    "##Lambdas"
   ]
  },
  {
   "cell_type": "markdown",
   "metadata": {
    "colab_type": "text",
    "id": "BOsYqFuM32Ly"
   },
   "source": [
    "Python allows you to create [anonymous function](https://bit.ly/PyLambdasPyGuru) i.e function having no names using a facility called lambda function.\n",
    "\n",
    "\n",
    "To create a lambda function: write keyword lambda followed by one of more arguments separated by comma, followed by  ( : ), followed by  line expression."
   ]
  },
  {
   "cell_type": "code",
   "execution_count": 23,
   "metadata": {
    "colab": {
     "autoexec": {
      "startup": false,
      "wait_interval": 0
     },
     "base_uri": "https://localhost:8080/",
     "height": 68
    },
    "colab_type": "code",
    "executionInfo": {
     "elapsed": 531,
     "status": "ok",
     "timestamp": 1530610543064,
     "user": {
      "displayName": "Олександр Валер'янович Орловський",
      "photoUrl": "//lh4.googleusercontent.com/-aNlpDuZUFYA/AAAAAAAAAAI/AAAAAAAAAAo/pMzStuOMp0s/s50-c-k-no/photo.jpg",
      "userId": "115227064507961374760"
     },
     "user_tz": -180
    },
    "id": "z9zFZj0W4gwu",
    "outputId": "1f11d9c9-f4e9-44aa-c224-ab506974d201"
   },
   "outputs": [
    {
     "name": "stdout",
     "output_type": "stream",
     "text": [
      "b = 1 c = 5\n",
      "-----------\n"
     ]
    },
    {
     "data": {
      "text/plain": [
       "6"
      ]
     },
     "execution_count": 23,
     "metadata": {
      "tags": []
     },
     "output_type": "execute_result"
    }
   ],
   "source": [
    "b = 1\n",
    "c = 5\n",
    "print(\"b =\", b, \"c =\", c)\n",
    "print(\"-----------\")\n",
    "a = lambda b, c : b + c\n",
    "a(b, c)"
   ]
  },
  {
   "cell_type": "markdown",
   "metadata": {
    "colab_type": "text",
    "id": "zi4X-JWi446h"
   },
   "source": [
    "Why lambdas are so useful?\n",
    "(just 1 [click](https://bit.ly/PyWhyLambdasSoUsefulSO) to get in touch with a set of great answers)"
   ]
  },
  {
   "cell_type": "markdown",
   "metadata": {
    "colab_type": "text",
    "id": "Fp8vY8AE-TK1"
   },
   "source": [
    "# Files (2 min)\n"
   ]
  },
  {
   "cell_type": "markdown",
   "metadata": {
    "colab_type": "text",
    "id": "91TLG5xV-cJ4"
   },
   "source": [
    "[Files](https://bit.ly/PyFilesW3S) handling is an important part of huge amount of applications.\n",
    "\n",
    "Python has several functions for creating, reading, updating, and deleteing files.\n",
    "Common function in file processing is:\n",
    "```\n",
    "filename.open(mode)\n",
    "```\n",
    "There are four different modes for opening a file:\n",
    ">> \"r\" -------------------------------- read file \n",
    "\n",
    ">> \"a\" ------------------------------- append someting to file\n",
    "\n",
    ">> \"w\" ------------------------------ opens file for writing\n",
    "\n",
    ">> \"x\"-------------------------------- creates file\n",
    "\n",
    "There are a lot of file types (the most popular are: XML, JSON) in common usage. There are also a ton of interaction ways between them. So, we decide, that it should be overviewed in a separate colab notebook. If you're interesting in these details, feel free to [connect](https://colab.research.google.com/drive/1oFrYSfix1dVrZn8Ql3CRP6FrM6Ub7doG).\n"
   ]
  },
  {
   "cell_type": "markdown",
   "metadata": {
    "colab_type": "text",
    "id": "i__O4tLZb8NU"
   },
   "source": [
    "# Exceptions (5 min)\n",
    "\n",
    "**ET**: 5 min"
   ]
  },
  {
   "cell_type": "markdown",
   "metadata": {
    "colab_type": "text",
    "id": "ELrMEcLncGDq"
   },
   "source": [
    "A Python program terminates as soon as it encounters an error. Even if a statement or expression is syntactically correct, *it may cause an error when an attempt is made to execute it*. Errors detected during execution are called [exceptions](https://bit.ly/Py3ErrorsExceptions) and are not unconditionally fatal: we'll soon see how to handle them in Python programs. Most exceptions *are not handled by programs*, however, and result in error messages as shown here:\n",
    "\n",
    "```\n",
    ">>> 10 * (1/0)\n",
    "Traceback (most recent call last):\n",
    "  File \"<stdin>\", line 1, in <module>\n",
    "ZeroDivisionError: division by zero\n",
    "```\n",
    "\n",
    "As you see in this example - **ZeroDivisionError** occurs. Why? - Yeah, cuz we tried to perform unacceptable action: divide 1/0. This exception is a part of large Python built-in exceptions family. Here's good [list](https://bit.ly/PyExceptionsHandlingTP) of other parts, if you wonder 🤔\n",
    "\n",
    "\n",
    "\n"
   ]
  },
  {
   "cell_type": "markdown",
   "metadata": {
    "colab_type": "text",
    "id": "72o64tD5kEAf"
   },
   "source": [
    "But what if we need to catch some custom condition, which normally calmly passes all built-ins?\n",
    "\n",
    "Ye, ye, ye, yee. You're right 😌 Python allows us to create our own exception conditions via keyword **raise**. Let's discover it via example:\n"
   ]
  },
  {
   "cell_type": "code",
   "execution_count": null,
   "metadata": {
    "colab": {
     "autoexec": {
      "startup": false,
      "wait_interval": 0
     }
    },
    "colab_type": "code",
    "id": "Efa5Bi7gkysG"
   },
   "outputs": [],
   "source": [
    "age = -1\n",
    "if age > 60 or age < 16:\n",
    "    raise Exception('You should be 16-60 years old to obtain a work permit. The value, entered by you, is not suitable. It was: {}'.format(age))"
   ]
  },
  {
   "cell_type": "markdown",
   "metadata": {
    "colab_type": "text",
    "id": "jC2mc7Jep_4O"
   },
   "source": [
    "There's a lot more of interesting stuff, which is waiting to be passed by you! We highly reccomend to visit [this source](https://bit.ly/PyExceptionsRealPy), where you can find great explanation of try-except-else-finally block. It's so simple and beginner-friendly, that we decided not to create our own one example. Just visit that and you'll be impressed. We promise 😌"
   ]
  },
  {
   "cell_type": "markdown",
   "metadata": {
    "colab_type": "text",
    "id": "UAkl1PWM6_NN"
   },
   "source": [
    "# Epilogue"
   ]
  },
  {
   "cell_type": "markdown",
   "metadata": {
    "colab_type": "text",
    "id": "y9FnQUis7DTx"
   },
   "source": [
    "That's only beginning 😉"
   ]
  }
 ],
 "metadata": {
  "accelerator": "GPU",
  "colab": {
   "collapsed_sections": [],
   "default_view": {},
   "name": "02. 69 Minutes to Python 3",
   "provenance": [],
   "toc_visible": true,
   "version": "0.3.2",
   "views": {}
  },
  "kernelspec": {
   "display_name": "Python 3",
   "language": "python",
   "name": "python3"
  },
  "language_info": {
   "codemirror_mode": {
    "name": "ipython",
    "version": 3
   },
   "file_extension": ".py",
   "mimetype": "text/x-python",
   "name": "python",
   "nbconvert_exporter": "python",
   "pygments_lexer": "ipython3",
   "version": "3.6.6"
  }
 },
 "nbformat": 4,
 "nbformat_minor": 2
}
