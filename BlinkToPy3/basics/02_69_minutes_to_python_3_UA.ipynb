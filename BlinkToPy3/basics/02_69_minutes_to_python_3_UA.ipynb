{
 "cells": [
  {
   "cell_type": "markdown",
   "metadata": {
    "colab_type": "text",
    "id": "GsxJ4MzgDo4g"
   },
   "source": [
    "##### Copyright 2018 The BlinkToPy3 Authors: Alex Orlovskyi ([t.me](https://bit.ly/alex_orlovskyi_tg)) ([mail](mailto:orlovskyi.alex@gmail.com)), Kate Pereverzeva ([t.me](https://bit.ly/kate_pereverzeva_tg)) ([mail](mailto:katya.pereverzeva2109@gmail.com))\n",
    "\n",
    "Licensed under the Apache License, Version 2.0 (the \"License\").\n",
    "\n",
    "# 69 хвилин Python 3\n",
    "\n",
    "<table class=\"tfo-notebook-buttons\" align=\"left\">\n",
    "    <td>\n",
    "        <a target=\"_blank\"  href=\"https://bit.ly/69MinsToPy3\">\n",
    "            <img src=\"https://www.tensorflow.org/images/colab_logo_32px.png\" />Блокнот в Google Colab</a>  \n",
    "        </td>\n",
    "    <td>\n",
    "        <a target=\"_blank\"  href=\"https://bit.ly/69MinsToPy3Github\"><img width=32px src=\"https://www.tensorflow.org/images/GitHub-Mark-32px.png\" />Наші матеріали на GitHub</a>\n",
    "    </td>\n",
    "</table>"
   ]
  },
  {
   "cell_type": "markdown",
   "metadata": {
    "colab_type": "text",
    "id": "Tfywy0xM1A3O"
   },
   "source": [
    "В цьому блокноті ми будем досліджувати найпростіші речі, які допоможуть нам **зробити світ кращим** 😎\n",
    "\n",
    "Не забувай запускати усі клітинки коду, щоб побачити результат завдяки інструменту [Google Colab](https://bit.ly/69MinsToPy3). Важливо експериментувати та модифікувати код, створюючи власні приклади **в ігровому режимі** (playground mode) для покращення власних навичок.\n",
    "\n",
    "Отож, розпочнемо!\n",
    "\n",
    "---\n",
    "\n",
    "**Приблизний час освоєння матеріалу**: 69 хвилин\n"
   ]
  },
  {
   "cell_type": "markdown",
   "metadata": {
    "colab_type": "text",
    "id": "AsyDaRqkltO2"
   },
   "source": [
    "# Дзен Python, PEP (10 хв)\n"
   ]
  },
  {
   "cell_type": "markdown",
   "metadata": {
    "colab_type": "text",
    "id": "3mdZ7vEPmFsM"
   },
   "source": [
    "Коли ми починаємо досліджувати цей світ, незалежно від того, в якому напрямку рухаємся, ми так чи інакше зустрічаємо на своєму шляху деяку філософію. Так само і в світі Python - він має свою філософію, що зветься \"**Zen of Python**\".\n",
    "\n",
    "Як пише у [Вікіпедії](http://bit.ly/zenOfPy): Дзен Python - це збірка 20 програмних принципів, які описують стиль написання коду. Її текст видається інтерпретатором Python по команді import this (працює один раз за сесію), або можете ознайомитись з даними принципами тут: [official Python website](http://bit.ly/PyPEP20)"
   ]
  },
  {
   "cell_type": "code",
   "execution_count": null,
   "metadata": {
    "colab": {
     "autoexec": {
      "startup": false,
      "wait_interval": 0.0
     },
     "base_uri": "https://localhost:8080/",
     "height": 384.0
    },
    "colab_type": "code",
    "executionInfo": {
     "elapsed": 2943.0,
     "status": "ok",
     "timestamp": 1.531154843579E12,
     "user": {
      "displayName": "Катерина В`ячеславівна Переверзева",
      "photoUrl": "//lh6.googleusercontent.com/-9dwrULxIzZI/AAAAAAAAAAI/AAAAAAAAAAs/X3ZeZ0JEvAw/s50-c-k-no/photo.jpg",
      "userId": "117674908900817098526"
     },
     "user_tz": -180.0
    },
    "id": "QWn54mvnmGQM",
    "outputId": "96a10319-2523-4cd8-b8d3-a4e3201a678a"
   },
   "outputs": [
    {
     "name": "stdout",
     "output_type": "stream",
     "text": [
      "The Zen of Python, by Tim Peters\n",
      "\n",
      "Beautiful is better than ugly.\n",
      "Explicit is better than implicit.\n",
      "Simple is better than complex.\n",
      "Complex is better than complicated.\n",
      "Flat is better than nested.\n",
      "Sparse is better than dense.\n",
      "Readability counts.\n",
      "Special cases aren't special enough to break the rules.\n",
      "Although practicality beats purity.\n",
      "Errors should never pass silently.\n",
      "Unless explicitly silenced.\n",
      "In the face of ambiguity, refuse the temptation to guess.\n",
      "There should be one-- and preferably only one --obvious way to do it.\n",
      "Although that way may not be obvious at first unless you're Dutch.\n",
      "Now is better than never.\n",
      "Although never is often better than *right* now.\n",
      "If the implementation is hard to explain, it's a bad idea.\n",
      "If the implementation is easy to explain, it may be a good idea.\n",
      "Namespaces are one honking great idea -- let's do more of those!\n"
     ]
    }
   ],
   "source": [
    "import this"
   ]
  },
  {
   "cell_type": "markdown",
   "metadata": {
    "colab_type": "text",
    "id": "8JXUC5iDpbI9"
   },
   "source": [
    "Що й казати, якщо ці принципи об'єднують **основне бачення** розробки програмного забезпечення, завдяки чому Python отримав чимало прихильників. Це й пояснює величезну кількість чудових проектів, створених саме з Py."
   ]
  },
  {
   "cell_type": "markdown",
   "metadata": {
    "colab_type": "text",
    "id": "tNFiGF1aq_-k"
   },
   "source": [
    "Час біжить незворотньо, прогрес готує нам все більше нових складних завдань і постійно потрібно швидко опановувати та вдосконалювати нові інструменти. Це правдиво і для Python. Нові функції та вдосконалення тепер проходять через реєстр [**PEP**](https://bit.ly/PyPEPsOfficial). Наприклад [docstring conventions](https://bit.ly/PyPEPDocstringConv).\n",
    "\n",
    "Якщо ти хочеш стати справжнім **гуру Пайтона**, твоїм вправним помічником має стати **PEP8** - стиль написання коду для Python. Ось декілька посилань для ознайомлення, щоб стати ще ближче до створення неймовірних речей: \n",
    "\n",
    "*   [PEP 8 — the Style Guide for Python Code](https://bit.ly/PEP8Org) [EN]\n",
    "*   [PEP 8 — стиль кода в языке Python](https://bit.ly/PEP8ru) [RU]\n",
    "\n"
   ]
  },
  {
   "cell_type": "markdown",
   "metadata": {
    "colab_type": "text",
    "id": "oNs5er3L4RY2"
   },
   "source": [
    "# Python змінні (4 хв)\n"
   ]
  },
  {
   "cell_type": "markdown",
   "metadata": {
    "colab_type": "text",
    "id": "0RG150ISBWPf"
   },
   "source": [
    "Декларація змінної відбувається автоматично, коли ви надаєте значення змінній."
   ]
  },
  {
   "cell_type": "code",
   "execution_count": null,
   "metadata": {
    "colab": {
     "autoexec": {
      "startup": false,
      "wait_interval": 0.0
     }
    },
    "colab_type": "code",
    "id": "j-jnbrGpB7Hy"
   },
   "outputs": [],
   "source": [
    "a = 1"
   ]
  },
  {
   "cell_type": "markdown",
   "metadata": {
    "colab_type": "text",
    "id": "rus5bV-hB6XO"
   },
   "source": [
    "Python дозволяє одночасно привласнювати одне значення багатьом змінним "
   ]
  },
  {
   "cell_type": "code",
   "execution_count": null,
   "metadata": {
    "colab": {
     "autoexec": {
      "startup": false,
      "wait_interval": 0.0
     }
    },
    "colab_type": "code",
    "id": "Ga3UCogACTdm"
   },
   "outputs": [],
   "source": [
    "a = b = c = 45"
   ]
  },
  {
   "cell_type": "markdown",
   "metadata": {
    "colab_type": "text",
    "id": "_3NOU7apCdJd"
   },
   "source": [
    "Також в 1 строчку коду ти можеш надати різного значення послідовно багатьом змінним:"
   ]
  },
  {
   "cell_type": "code",
   "execution_count": 2,
   "metadata": {
    "colab": {
     "autoexec": {
      "startup": false,
      "wait_interval": 0.0
     },
     "base_uri": "https://localhost:8080/",
     "height": 68.0
    },
    "colab_type": "code",
    "executionInfo": {
     "elapsed": 995.0,
     "status": "ok",
     "timestamp": 1.530610509707E12,
     "user": {
      "displayName": "Олександр Валер'янович Орловський",
      "photoUrl": "//lh4.googleusercontent.com/-aNlpDuZUFYA/AAAAAAAAAAI/AAAAAAAAAAo/pMzStuOMp0s/s50-c-k-no/photo.jpg",
      "userId": "115227064507961374760"
     },
     "user_tz": -180.0
    },
    "id": "58dXkv8kCjpA",
    "outputId": "8d94cb2f-96c9-4c11-e26c-e0677efa5fbc"
   },
   "outputs": [
    {
     "name": "stdout",
     "output_type": "stream",
     "text": [
      "a = 3\n",
      "b = python\n",
      "c = ['string', 3]\n"
     ]
    }
   ],
   "source": [
    "a, b, c = 3, \"python\", ['string', 3]\n",
    "print('a =', a)\n",
    "print('b =', b)\n",
    "print('c =', c)"
   ]
  },
  {
   "cell_type": "markdown",
   "metadata": {
    "colab_type": "text",
    "id": "I5tQMVMYnZEZ"
   },
   "source": [
    "Python - мова з [динамічною типізацією](https://bit.ly/PyProgLang). Тому не потрібно вказувати тип на стадії описування змінної (в порівнянні з C/C++/Java). \n",
    "\n",
    "Поглянемо на типи змінних, які ми ініціалізували раніше:"
   ]
  },
  {
   "cell_type": "code",
   "execution_count": 4,
   "metadata": {
    "colab": {
     "autoexec": {
      "startup": false,
      "wait_interval": 0.0
     },
     "base_uri": "https://localhost:8080/",
     "height": 68.0
    },
    "colab_type": "code",
    "executionInfo": {
     "elapsed": 595.0,
     "status": "ok",
     "timestamp": 1.530610510998E12,
     "user": {
      "displayName": "Олександр Валер'янович Орловський",
      "photoUrl": "//lh4.googleusercontent.com/-aNlpDuZUFYA/AAAAAAAAAAI/AAAAAAAAAAo/pMzStuOMp0s/s50-c-k-no/photo.jpg",
      "userId": "115227064507961374760"
     },
     "user_tz": -180.0
    },
    "id": "MYx4tYNBnK4C",
    "outputId": "cec5203e-2f35-4009-ea47-407e592c50a5"
   },
   "outputs": [
    {
     "name": "stdout",
     "output_type": "stream",
     "text": [
      "<class 'int'>\n",
      "<class 'str'>\n",
      "<class 'list'>\n"
     ]
    }
   ],
   "source": [
    "print(type(a))\n",
    "print(type(b))\n",
    "print(type(c))"
   ]
  },
  {
   "cell_type": "markdown",
   "metadata": {
    "colab_type": "text",
    "id": "ABGF0wJY8A0q"
   },
   "source": [
    "#### Обмін значень двох змінних"
   ]
  },
  {
   "cell_type": "markdown",
   "metadata": {
    "colab_type": "text",
    "id": "S0FUMJmleDH7"
   },
   "source": [
    "Для того щоб поміняти значення двох зміних, традиційно застосовується третя змінна,впевнений в також таким займались 😀\n",
    "\n",
    "Перший метод: застосовуючи базові арифметичні операції:"
   ]
  },
  {
   "cell_type": "code",
   "execution_count": null,
   "metadata": {
    "colab": {
     "autoexec": {
      "startup": false,
      "wait_interval": 0.0
     }
    },
    "colab_type": "code",
    "id": "7iOdWGCmeiWm"
   },
   "outputs": [],
   "source": [
    "print (\"starter values:\")\n",
    "a = int(input(\"a = \"))\n",
    "b = int(input(\"b = \"))\n",
    "# swap, using arithmetic operations\n",
    "a = a + b\n",
    "b = a - b\n",
    "a = a - b\n",
    "print (\"swapping . . .\")\n",
    "print (\"new values:\")\n",
    "print (\"a = \", a)\n",
    "print (\"b = \", b)"
   ]
  },
  {
   "cell_type": "markdown",
   "metadata": {
    "colab_type": "text",
    "id": "UGHJtHb1fdXC"
   },
   "source": [
    "Другий метод простіший, аніж перший і ефективніший, оскільки працює з усіма типами даних в Python.\n",
    "\n",
    "Даний спосіб називається \"паралельне призначення\" або parallel assignment:\n",
    "\n"
   ]
  },
  {
   "cell_type": "code",
   "execution_count": null,
   "metadata": {
    "colab": {
     "autoexec": {
      "startup": false,
      "wait_interval": 0.0
     }
    },
    "colab_type": "code",
    "id": "_uBjmXyLhejM"
   },
   "outputs": [],
   "source": [
    "print(\"starter values:\")\n",
    "x = int(input(\"x = \"))\n",
    "y = int(input(\"y = \"))\n",
    "# swap\n",
    "x, y = y, x\n",
    "print (\"swapping . . .\")\n",
    "print(\"new values:\")\n",
    "print (\"x = \", x)\n",
    "print (\"y = \", y)"
   ]
  },
  {
   "cell_type": "markdown",
   "metadata": {
    "colab_type": "text",
    "id": "VwBeqBrgiGjg"
   },
   "source": [
    "Хочеш стати справжнім хакером?😏 [Є й інші варіанти](https://bit.ly/PySwap2Variables), які можуть тебе також зацікавити."
   ]
  },
  {
   "cell_type": "markdown",
   "metadata": {
    "colab_type": "text",
    "id": "fxhMPZUuJyCV"
   },
   "source": [
    "# Оператори (6 хв)\n"
   ]
  },
  {
   "cell_type": "markdown",
   "metadata": {
    "colab_type": "text",
    "id": "_lVGejnrKCFN"
   },
   "source": [
    "## Арифметичні оператори"
   ]
  },
  {
   "cell_type": "markdown",
   "metadata": {
    "colab_type": "text",
    "id": "qobsC4aJKKz_"
   },
   "source": [
    "Дані [оператори](https://bit.ly/PyBasicOperatorsTutPoint) використовуються для виконання простих матератичних операцій, таких як:\n",
    "\n",
    "1.  \"+\" унарний плюс\n",
    "2.  \"-\" унарний мінус\n",
    "3.   \"*\" множення двох операндів\n",
    "4.   \"/\" ділення лівого операнда на правий ( результатом є змінна типу float)\n",
    "5.  \"%\" модуль - залишок від ділення\n",
    "6. \"//\" цілочисельне ділення\n",
    "7.  \"**\" експонента\n",
    "\n",
    "\n",
    "\n",
    "Не забувай переглядати та запускати найпростіші [приклади](https://bit.ly/PyBasicOperatorsGFG) нижче:"
   ]
  },
  {
   "cell_type": "code",
   "execution_count": 17,
   "metadata": {
    "colab": {
     "autoexec": {
      "startup": false,
      "wait_interval": 0.0
     },
     "base_uri": "https://localhost:8080/",
     "height": 174.0
    },
    "colab_type": "code",
    "executionInfo": {
     "elapsed": 519.0,
     "status": "ok",
     "timestamp": 1.530820564612E12,
     "user": {
      "displayName": "Катерина В`ячеславівна Переверзева",
      "photoUrl": "//lh6.googleusercontent.com/-9dwrULxIzZI/AAAAAAAAAAI/AAAAAAAAAAs/X3ZeZ0JEvAw/s50-c-k-no/photo.jpg",
      "userId": "117674908900817098526"
     },
     "user_tz": -180.0
    },
    "id": "DlQOvpLkbdMC",
    "outputId": "7c017668-2831-4f24-e0d7-b539e6047fb9"
   },
   "outputs": [
    {
     "name": "stdout",
     "output_type": "stream",
     "text": [
      "q = 3 w = 10\n",
      "------------\n",
      "q + w = 13\n",
      "q - w = -7\n",
      "q * w = 30\n",
      "q / w = 0.3\n",
      "q % w = 3\n",
      "w // q = 3\n",
      "q ** w = 59049\n"
     ]
    }
   ],
   "source": [
    "q = 3\n",
    "w = 10\n",
    "print('q =', q, 'w =', w)\n",
    "print('------------')\n",
    "print('q + w =', q + w)\n",
    "print('q - w =', q - w)\n",
    "print('q * w =', q * w)\n",
    "print('q / w =', q / w)\n",
    "print('q % w =', q % w)\n",
    "print('w // q =', w // q)\n",
    "print('q ** w =', q ** w)"
   ]
  },
  {
   "cell_type": "markdown",
   "metadata": {
    "colab_type": "text",
    "id": "FB-0VVI9dV80"
   },
   "source": [
    "## Оператори порівняння та логічні"
   ]
  },
  {
   "cell_type": "markdown",
   "metadata": {
    "colab_type": "text",
    "id": "NIOXzJFsda9F"
   },
   "source": [
    "Оператори порівняння повертають ***True*** або ***False***, залежно від порівнюваних значень.\n",
    "1. \">\" більше ніж ------------------------------------------------ True якщо лівий операнд більший ніж правий\t\n",
    "2. \"<\"\tменше ніж ------------------------------------------------- True якщо лівий операнд менший ніж правий\t\n",
    "3. \"==\" дорівнює ------------------------------------------------- True якщо операнди рівні\t\n",
    "4. \"!=\"\tне дорівнює -----------------------------------------------True якщо операнди не рівні\t\n",
    "5. \">=\"\tбільше або дорівнює ----------------------------------True якщо лівий операнд більший або дорівнює правому\t\n",
    "6. \"<=\"\tменше або дорівнює ---------------------------------- True якщо лівий операнд менший або дорівнює правому\t"
   ]
  },
  {
   "cell_type": "code",
   "execution_count": 24,
   "metadata": {
    "colab": {
     "autoexec": {
      "startup": false,
      "wait_interval": 0.0
     },
     "base_uri": "https://localhost:8080/",
     "height": 153.0
    },
    "colab_type": "code",
    "executionInfo": {
     "elapsed": 639.0,
     "status": "ok",
     "timestamp": 1.530613515342E12,
     "user": {
      "displayName": "Олександр Валер'янович Орловський",
      "photoUrl": "//lh4.googleusercontent.com/-aNlpDuZUFYA/AAAAAAAAAAI/AAAAAAAAAAo/pMzStuOMp0s/s50-c-k-no/photo.jpg",
      "userId": "115227064507961374760"
     },
     "user_tz": -180.0
    },
    "id": "2Vgpgokyfnud",
    "outputId": "6b016c4c-0dd0-4923-cb69-3e0d0a30e207"
   },
   "outputs": [
    {
     "name": "stdout",
     "output_type": "stream",
     "text": [
      " r = 10 t = 12\n",
      " -------------\n",
      " Is r > t ? False\n",
      " Is r < t ? True\n",
      " Is r == t ? False\n",
      " Is r != t ? True\n",
      " Is r >= t ? False\n",
      " Is r <= t ? True\n"
     ]
    }
   ],
   "source": [
    "r = 10\n",
    "t = 12\n",
    "print(\" r =\", r, \"t =\", t)\n",
    "print(' -------------')\n",
    "\n",
    "print(' Is r > t ?', r > t)\n",
    "print(' Is r < t ?', r < t)\n",
    "print(' Is r == t ?', r == t)\n",
    "print(' Is r != t ?', r != t)\n",
    "print(' Is r >= t ?', r >= t)\n",
    "print(' Is r <= t ?', r <= t)"
   ]
  },
  {
   "cell_type": "markdown",
   "metadata": {
    "colab_type": "text",
    "id": "R3bflrQXi3x7"
   },
   "source": [
    "Логічні оператори 'and', 'or', 'not'\n",
    "\n",
    "\n",
    "1. 'and' - повертає True якщо обидва ствердження вірні (True)\n",
    "2. 'or' - повертає True якщо хочаб одне ствердження є вірним (True)\n",
    "3. 'not' - даний оператор доповнює операнд\n"
   ]
  },
  {
   "cell_type": "code",
   "execution_count": 25,
   "metadata": {
    "colab": {
     "autoexec": {
      "startup": false,
      "wait_interval": 0.0
     },
     "base_uri": "https://localhost:8080/",
     "height": 102.0
    },
    "colab_type": "code",
    "executionInfo": {
     "elapsed": 623.0,
     "status": "ok",
     "timestamp": 1.53061354901E12,
     "user": {
      "displayName": "Олександр Валер'янович Орловський",
      "photoUrl": "//lh4.googleusercontent.com/-aNlpDuZUFYA/AAAAAAAAAAI/AAAAAAAAAAo/pMzStuOMp0s/s50-c-k-no/photo.jpg",
      "userId": "115227064507961374760"
     },
     "user_tz": -180.0
    },
    "id": "U02oNG0hj7mH",
    "outputId": "9b2a64b4-12ff-42ea-fea7-140a43700084"
   },
   "outputs": [
    {
     "name": "stdout",
     "output_type": "stream",
     "text": [
      "me = True you = False\n",
      "---------------------\n",
      "If me = True and you = False. We`ll be False\n",
      "If me = True or you = False. We`ll be True\n",
      "If you`ll be changed, you`ll become True\n"
     ]
    }
   ],
   "source": [
    "me = True\n",
    "you = False\n",
    "print(\"me =\", me, \"you =\", you)\n",
    "print(\"---------------------\")\n",
    "\n",
    "print('If me = True and you = False. We`ll be', me and you)\n",
    "print('If me = True or you = False. We`ll be', me or you)\n",
    "print('If you`ll be changed, you`ll become', not you)"
   ]
  },
  {
   "cell_type": "markdown",
   "metadata": {
    "colab_type": "text",
    "id": "fPOf-4b0K8rQ"
   },
   "source": [
    "## Оператори присвоєння"
   ]
  },
  {
   "cell_type": "markdown",
   "metadata": {
    "colab_type": "text",
    "id": "8wQYLeyoLIGy"
   },
   "source": [
    "1. \"=\"--------------------------------------------------------------------------------------оператор присвоєння\n",
    "2. \"+=\"------------------------------------------------------------------------------------присвоює суму операндів лівому операнду\n",
    "3. \"-= \"------------------------------------------------------------------------------------присвоює різницю між операндами лівому операнду\n",
    "4. \"*=\"-------------------------------------------------------------------------------------присвоює результат множення  операндів лівому операнду\n",
    "5. \"/= \"-------------------------------------------------------------------------------------присвоює результат ділення  операндів лівому операнду\n",
    "6. \"%=\"------------------------------------------------------------------------------------присвоює залишок від ділення лівому операнду\n",
    "7. \"**= \"-----------------------------------------------------------------------------------присвоює лівому операнду результат піднесення правого до степеня лівого операнда\n",
    "8. \"//=\"------------------------------------------------------------------------------------присвоює результат цілочисельного ділення лівому операнду."
   ]
  },
  {
   "cell_type": "code",
   "execution_count": 8,
   "metadata": {
    "colab": {
     "autoexec": {
      "startup": false,
      "wait_interval": 0.0
     },
     "base_uri": "https://localhost:8080/",
     "height": 170.0
    },
    "colab_type": "code",
    "executionInfo": {
     "elapsed": 623.0,
     "status": "ok",
     "timestamp": 1.530610516027E12,
     "user": {
      "displayName": "Олександр Валер'янович Орловський",
      "photoUrl": "//lh4.googleusercontent.com/-aNlpDuZUFYA/AAAAAAAAAAI/AAAAAAAAAAo/pMzStuOMp0s/s50-c-k-no/photo.jpg",
      "userId": "115227064507961374760"
     },
     "user_tz": -180.0
    },
    "id": "aux0jMmeN4Uu",
    "outputId": "f15d9cd4-c846-4418-dcda-ecfe6109b66d"
   },
   "outputs": [
    {
     "name": "stdout",
     "output_type": "stream",
     "text": [
      "a = 10 b = 5\n",
      "------------\n",
      "a += b: 15\n",
      "b -= a: -10\n",
      "a *= b: -150\n",
      "a /= b: 15.0\n",
      "b %= a: 5.0\n",
      "b **= a: 30517578125.0\n",
      "a = b: 30517578125.0\n"
     ]
    }
   ],
   "source": [
    "a = 10\n",
    "b = 5\n",
    "print(\"a =\", a, \"b =\", b)\n",
    "print('------------')\n",
    "\n",
    "a += b\n",
    "print(\"a += b:\", a)\n",
    "\n",
    "b -= a \n",
    "print(\"b -= a:\", b)\n",
    "\n",
    "a *= b \n",
    "print(\"a *= b:\", a)\n",
    "\n",
    "a /= b \n",
    "print(\"a /= b:\", a)\n",
    "\n",
    "b %= a \n",
    "print(\"b %= a:\", b)\n",
    "\n",
    "b **= a \n",
    "print(\"b **= a:\", b)\n",
    "\n",
    "a = b\n",
    "print(\"a = b:\", a)"
   ]
  },
  {
   "cell_type": "markdown",
   "metadata": {
    "colab_type": "text",
    "id": "e6szihcz188x"
   },
   "source": [
    "☝️**Підказка**: якщо потрібно надрукувати значення змінної з деякою точністю, можна застосувати дані дії:"
   ]
  },
  {
   "cell_type": "code",
   "execution_count": 3,
   "metadata": {
    "colab": {
     "autoexec": {
      "startup": false,
      "wait_interval": 0.0
     },
     "base_uri": "https://localhost:8080/",
     "height": 102.0
    },
    "colab_type": "code",
    "executionInfo": {
     "elapsed": 586.0,
     "status": "ok",
     "timestamp": 1.531086898077E12,
     "user": {
      "displayName": "Олександр Валер'янович Орловський",
      "photoUrl": "//lh4.googleusercontent.com/-aNlpDuZUFYA/AAAAAAAAAAI/AAAAAAAAAAo/pMzStuOMp0s/s50-c-k-no/photo.jpg",
      "userId": "115227064507961374760"
     },
     "user_tz": -180.0
    },
    "id": "1fjS49-H2Q-M",
    "outputId": "0d79fcf9-a61a-499b-c186-29967b34559f"
   },
   "outputs": [
    {
     "name": "stdout",
     "output_type": "stream",
     "text": [
      "Before applying tip: 3.0517578125\n",
      "After: \n",
      "3.05\n",
      "3.052\n",
      "3.0518\n"
     ]
    }
   ],
   "source": [
    "some_float_numb = 3.05175781250\n",
    "print(\"Before applying tip:\", some_float_numb)\n",
    "print(\"After: \")\n",
    "\n",
    "# округлити до 2 чисел після коми\n",
    "print(\"%.2f\" % some_float_numb)\n",
    "# округлити до 3 чисел після коми\n",
    "print(round(some_float_numb, 3))\n",
    "# округлити до 4 чисел після коми\n",
    "print(\"{:.4f}\".format(some_float_numb))"
   ]
  },
  {
   "cell_type": "markdown",
   "metadata": {
    "colab_type": "text",
    "id": "_OItqs6MPF2I"
   },
   "source": [
    "## Оператори членства"
   ]
  },
  {
   "cell_type": "markdown",
   "metadata": {
    "colab_type": "text",
    "id": "4mcH1x1wPHZ6"
   },
   "source": [
    "Оператори членства використовуються, щоб побачити чи деяке значення або змінна належить до певної послідовності. Наприклад, за допомогою даних операторів в нас є можливість перевірити чи належить слово до строки😉.\n",
    "\n",
    "Є всього 2 оператори даного типу і це: ***in*** та ***not in***"
   ]
  },
  {
   "cell_type": "markdown",
   "metadata": {
    "colab_type": "text",
    "id": "FnfaNoDwP2GE"
   },
   "source": [
    "\"in\"---------------------------------------------------------------Дає оцінку \"True\", якщо значення лівого операнда знайдено в послідовності правого.\n",
    "\n",
    "\"not in\"----------------------------------------------------------Дає оцінку \"True\", якщо значення лівого операнда не вдалось виявити в послідовності правого."
   ]
  },
  {
   "cell_type": "code",
   "execution_count": 9,
   "metadata": {
    "colab": {
     "autoexec": {
      "startup": false,
      "wait_interval": 0.0
     },
     "base_uri": "https://localhost:8080/",
     "height": 85.0
    },
    "colab_type": "code",
    "executionInfo": {
     "elapsed": 588.0,
     "status": "ok",
     "timestamp": 1.530610517192E12,
     "user": {
      "displayName": "Олександр Валер'янович Орловський",
      "photoUrl": "//lh4.googleusercontent.com/-aNlpDuZUFYA/AAAAAAAAAAI/AAAAAAAAAAo/pMzStuOMp0s/s50-c-k-no/photo.jpg",
      "userId": "115227064507961374760"
     },
     "user_tz": -180.0
    },
    "id": "O--MsJM7Qqf_",
    "outputId": "ac682218-0cf6-4583-826c-3e3048cb50bb"
   },
   "outputs": [
    {
     "name": "stdout",
     "output_type": "stream",
     "text": [
      "a = [9, 8, 7, 6, 5, 4, 3, 2, 1]\n",
      "check number = 9\n",
      "-------------------------------\n",
      "check number is in this list\n"
     ]
    }
   ],
   "source": [
    "a = [9,8,7,6,5,4,3,2,1]\n",
    "check = 9\n",
    "print(\"a =\", a)\n",
    "print(\"check number =\", check)\n",
    "print(\"-------------------------------\")\n",
    "if(check in a):\n",
    "    print(\"check number is in this list\")\n",
    "else:\n",
    "    print(\"check number not in this list\")"
   ]
  },
  {
   "cell_type": "markdown",
   "metadata": {
    "colab_type": "text",
    "id": "g4kP5q_vY2Nv"
   },
   "source": [
    "## Оператори тотожності"
   ]
  },
  {
   "cell_type": "markdown",
   "metadata": {
    "colab_type": "text",
    "id": "8ks9BcYzY47z"
   },
   "source": [
    "Оператори тотожності використовуються щоб визначити чи належить значення змінної до певного класу або типу.\n",
    "\n",
    "Існує два оператори тотожності: ***is*** та ***is not***"
   ]
  },
  {
   "cell_type": "code",
   "execution_count": 10,
   "metadata": {
    "colab": {
     "autoexec": {
      "startup": false,
      "wait_interval": 0.0
     },
     "base_uri": "https://localhost:8080/",
     "height": 136.0
    },
    "colab_type": "code",
    "executionInfo": {
     "elapsed": 540.0,
     "status": "ok",
     "timestamp": 1.53061051851E12,
     "user": {
      "displayName": "Олександр Валер'янович Орловський",
      "photoUrl": "//lh4.googleusercontent.com/-aNlpDuZUFYA/AAAAAAAAAAI/AAAAAAAAAAo/pMzStuOMp0s/s50-c-k-no/photo.jpg",
      "userId": "115227064507961374760"
     },
     "user_tz": -180.0
    },
    "id": "D2Gl6NfDZ5ic",
    "outputId": "63a60e8b-b4c6-46ee-9d3b-d7a9587313e8"
   },
   "outputs": [
    {
     "name": "stdout",
     "output_type": "stream",
     "text": [
      "x = 100.9\n",
      "---------\n",
      "x is float\n",
      "\n",
      "x = 87\n",
      "---------\n",
      "x is not float\n"
     ]
    }
   ],
   "source": [
    "x = 100.9\n",
    "print(\"x =\", x)\n",
    "print(\"---------\")\n",
    "if (type(x) is float):\n",
    "    print (\"x is float\")\n",
    "else:\n",
    "    print (\"x is not float\")\n",
    "    \n",
    "print()\n",
    "    \n",
    "x = 87\n",
    "print(\"x =\", x)\n",
    "print(\"---------\")\n",
    "if (type(x) is not float):\n",
    "    print (\"x is not float\")\n",
    "else:\n",
    "    print (\"x is float\")"
   ]
  },
  {
   "cell_type": "markdown",
   "metadata": {
    "colab_type": "text",
    "id": "CdxM5tUDbNud"
   },
   "source": [
    "# Основні типи даних (21 min)\n"
   ]
  },
  {
   "cell_type": "markdown",
   "metadata": {
    "colab_type": "text",
    "id": "m0VMxPkobYqq"
   },
   "source": [
    "Важливо знати, що ***в світі Python все є об'єктами***, і пам'ятати, що незалежно від того, який це за об'єкт, він має свій тип і значення. Нагадаємо також, що оголошення змінної відбувається в момент присвоєння їй певного значення.\n",
    "\n",
    "Всі значення даних в Python інкапсулюються у відповідні класи об'єктів.\n",
    "\n",
    "***За допомогою фунції type() ми можемо легко перевірити тип змінних***\n",
    "\n",
    "Зацікавило😀? Вся інформація про базові типи даних знаходиться ось тут: [Data Types in Python](https://bit.ly/PyDataTypes)\n",
    "\n",
    "Проте, спеціально для тебе, ми зробили найшвидший огляд цієї теми й не пропустили нічого важливого☺️\n"
   ]
  },
  {
   "cell_type": "markdown",
   "metadata": {
    "colab_type": "text",
    "id": "JBAcjZp6dF0U"
   },
   "source": [
    "## Числа\n",
    "\n"
   ]
  },
  {
   "cell_type": "markdown",
   "metadata": {
    "colab_type": "text",
    "id": "mqjF5fz6iKJL"
   },
   "source": [
    "Числові змінні створюються стандартним методом:\n",
    ">`some_variable = 54`\n",
    "\n",
    "Оскільки Python не прив'язаний до типів даних, він може автоматично конвертувати число з одного типу в інший, якщо це потрібно.\n",
    "\n",
    "\n",
    "***Існує 4 типи чисел в Python:***\n",
    "\n",
    "> int\n",
    "\n",
    "> long\n",
    "\n",
    "> float \n",
    "\n",
    "> complex \n",
    "\n",
    "k = 13------------------------------------------------приклад числа типу int (ціле число)\n",
    "\n",
    "k = 567L -------------------------------------------приклад числа типу long (великі числа)\n",
    "\n",
    "k = 221.34-----------------------------------------приклад числа типу float (число з плаваючою комою)\n",
    "\n",
    "k = 3.14J-------------------------------------------приклад числа типу complex (комплексне число)\n",
    "\n",
    "Детальніше про числа та їхні функції, можеш дізнатись за [посиланням](https://bit.ly/PyNumbersOveriq)."
   ]
  },
  {
   "cell_type": "code",
   "execution_count": 7,
   "metadata": {
    "colab": {
     "autoexec": {
      "startup": false,
      "wait_interval": 0.0
     },
     "base_uri": "https://localhost:8080/",
     "height": 68.0
    },
    "colab_type": "code",
    "executionInfo": {
     "elapsed": 523.0,
     "status": "ok",
     "timestamp": 1.530610519984E12,
     "user": {
      "displayName": "Олександр Валер'янович Орловський",
      "photoUrl": "//lh4.googleusercontent.com/-aNlpDuZUFYA/AAAAAAAAAAI/AAAAAAAAAAo/pMzStuOMp0s/s50-c-k-no/photo.jpg",
      "userId": "115227064507961374760"
     },
     "user_tz": -180.0
    },
    "id": "er3Sykt5kTdN",
    "outputId": "6b8a9d66-ec94-4e4c-9e3f-695a34482120"
   },
   "outputs": [
    {
     "name": "stdout",
     "output_type": "stream",
     "text": [
      "var = 34.32\n",
      "-----------\n",
      "<class 'float'>\n"
     ]
    }
   ],
   "source": [
    "var = 34.32\n",
    "print(\"var =\", var)\n",
    "print(\"-----------\")\n",
    "print(type(var))\n",
    "\n",
    "# Дану функцію можна застосовувати з будь-яким типом чисел і не тільки чисел"
   ]
  },
  {
   "cell_type": "markdown",
   "metadata": {
    "colab_type": "text",
    "id": "I0CdtnmdkwRo"
   },
   "source": [
    "***В Python є чудова можливість конвертувати числа з одного типу в інший, застосувавши відповідну функцію:int(), long(), float() або complex()***\n",
    "\n",
    "Май на увазі, що при конвертації числа типу float в int, можлива втрата точності. Але є вихід, адже таких підступних моментів є безліч, і багато із них описані в корисній статті [data type conversion in Python](https://bit.ly/PyDTConv)\n"
   ]
  },
  {
   "cell_type": "code",
   "execution_count": 12,
   "metadata": {
    "colab": {
     "autoexec": {
      "startup": false,
      "wait_interval": 0.0
     },
     "base_uri": "https://localhost:8080/",
     "height": 136.0
    },
    "colab_type": "code",
    "executionInfo": {
     "elapsed": 538.0,
     "status": "ok",
     "timestamp": 1.530610521223E12,
     "user": {
      "displayName": "Олександр Валер'янович Орловський",
      "photoUrl": "//lh4.googleusercontent.com/-aNlpDuZUFYA/AAAAAAAAAAI/AAAAAAAAAAo/pMzStuOMp0s/s50-c-k-no/photo.jpg",
      "userId": "115227064507961374760"
     },
     "user_tz": -180.0
    },
    "id": "YAeqTpbqk3cb",
    "outputId": "070dece0-90ef-49df-9d28-8966a599a5dd"
   },
   "outputs": [
    {
     "name": "stdout",
     "output_type": "stream",
     "text": [
      "a = 2.23\n",
      "--------------\n",
      "<class 'float'>\n",
      "\n",
      "b = 2\n",
      "--------------\n",
      "<class 'int'>\n"
     ]
    }
   ],
   "source": [
    "a = 2.23\n",
    "print(\"a =\", a)\n",
    "print(\"--------------\")\n",
    "print(type(a))\n",
    "\n",
    "print()\n",
    "\n",
    "b = int(a)\n",
    "print(\"b =\", b)\n",
    "print(\"--------------\")\n",
    "print(type(b))"
   ]
  },
  {
   "cell_type": "markdown",
   "metadata": {
    "colab_type": "text",
    "id": "YNVj4lbklfYA"
   },
   "source": [
    "## Строки \n",
    "\n"
   ]
  },
  {
   "cell_type": "markdown",
   "metadata": {
    "colab_type": "text",
    "id": "NRY6_wrCqags"
   },
   "source": [
    "[Строки в Python](https://bit.ly/PyTextSeqType) це послідовність знаків. Характерно, що строка розпочинається та закінчується одинарними або подвійними лапками, на ваш вибір😉\n",
    ">`string = \"Hello, world\"`\n",
    "\n",
    "В Python є надзвичайно зручна можливість отримати лише певну частину строки, з якою вам в деякий момент часу треба буде працювати. Цією особливістю є слайси або [slices](https://colab.research.google.com/drive/1VbdYPyP14As_IpNocXPNcJh2vHKfUusP#scrollTo=ONTLkNn36nGX).\n"
   ]
  },
  {
   "cell_type": "code",
   "execution_count": 13,
   "metadata": {
    "colab": {
     "autoexec": {
      "startup": false,
      "wait_interval": 0.0
     },
     "base_uri": "https://localhost:8080/",
     "height": 102.0
    },
    "colab_type": "code",
    "executionInfo": {
     "elapsed": 515.0,
     "status": "ok",
     "timestamp": 1.530610523161E12,
     "user": {
      "displayName": "Олександр Валер'янович Орловський",
      "photoUrl": "//lh4.googleusercontent.com/-aNlpDuZUFYA/AAAAAAAAAAI/AAAAAAAAAAo/pMzStuOMp0s/s50-c-k-no/photo.jpg",
      "userId": "115227064507961374760"
     },
     "user_tz": -180.0
    },
    "id": "WnKMVKWir76L",
    "outputId": "abb311e0-1e2c-4044-c01e-2acc427086db"
   },
   "outputs": [
    {
     "name": "stdout",
     "output_type": "stream",
     "text": [
      "s = Strings are so interesting\n",
      "------------------------------\n",
      "n\n",
      "s are\n",
      "Strin\n"
     ]
    }
   ],
   "source": [
    "s = \"Strings are so interesting\"\n",
    "print(\"s =\", s)\n",
    "print(\"------------------------------\")\n",
    "print(s[4])\n",
    "# print 4-th element\n",
    "\n",
    "print(s[6:11])\n",
    "# print elements from 6 to 11\n",
    "\n",
    "print(s[:5])\n",
    "# print all elemets before 5\n"
   ]
  },
  {
   "cell_type": "markdown",
   "metadata": {
    "colab_type": "text",
    "id": "viTvsuHMuqFi"
   },
   "source": [
    "А ось і декілька прикладів [простих функцій строк](https://bit.ly/PyStringMethods), таких як:\n",
    "\n",
    " ***len(str)*** -- повертає довжину строки \n",
    "\n",
    "***string.count(el)*** -- повертає кількість заданих елементів, що були знайдені в строці\n",
    "\n",
    "***string.find(el)*** -- повертає індекс елемента строки"
   ]
  },
  {
   "cell_type": "code",
   "execution_count": 14,
   "metadata": {
    "colab": {
     "autoexec": {
      "startup": false,
      "wait_interval": 0.0
     },
     "base_uri": "https://localhost:8080/",
     "height": 102.0
    },
    "colab_type": "code",
    "executionInfo": {
     "elapsed": 684.0,
     "status": "ok",
     "timestamp": 1.530610524638E12,
     "user": {
      "displayName": "Олександр Валер'янович Орловський",
      "photoUrl": "//lh4.googleusercontent.com/-aNlpDuZUFYA/AAAAAAAAAAI/AAAAAAAAAAo/pMzStuOMp0s/s50-c-k-no/photo.jpg",
      "userId": "115227064507961374760"
     },
     "user_tz": -180.0
    },
    "id": "mElui7QBwowX",
    "outputId": "89ba9976-3c2c-48af-947d-93c4bcb07d7f"
   },
   "outputs": [
    {
     "name": "stdout",
     "output_type": "stream",
     "text": [
      "str = string\n",
      "------------\n",
      "1\n",
      "1\n",
      "6\n"
     ]
    }
   ],
   "source": [
    "str = \"string\"\n",
    "print(\"str =\", str)\n",
    "print(\"------------\")\n",
    "print(str.count('s'))\n",
    "print(str.count('i'))\n",
    "print(len(str))"
   ]
  },
  {
   "cell_type": "markdown",
   "metadata": {
    "colab_type": "text",
    "id": "vSIXf6Bhu_K7"
   },
   "source": [
    "Строки - невід'ємна частина основ програмування, тому пропонуємо вам ознайомитись з даною темою [глибше](https://bit.ly/PyStingsTP).😌"
   ]
  },
  {
   "cell_type": "markdown",
   "metadata": {
    "colab_type": "text",
    "id": "oOhxXsy9x9ei"
   },
   "source": [
    "## Cписки"
   ]
  },
  {
   "cell_type": "markdown",
   "metadata": {
    "colab_type": "text",
    "id": "XVSvwSenyBIL"
   },
   "source": [
    "Вмістиме [списків](https://bit.ly/2Lwo12e) записується між квадратними дужками [ ].\n",
    "***Також, списки спрацьовують так само як строки*** -- ти можеш застосовувати знання про строки й тут! Використовуй функцію len(), щоб дізнатись довжину послідовності та квадратні дужки [ ], щоб отримати потрібне вмістиме списка.\n",
    "\n",
    "***Важливо!*** Списки в Python заміняють такі структури даних як ***масив*** в інших мовах програмування.\n",
    "\n",
    "Використання слайсів та індексація, для отримання частини даних з послідовності дозволено і в списках.\n",
    "Більше інформації про списки [тут](https://bit.ly/PyListsEffbot)."
   ]
  },
  {
   "cell_type": "code",
   "execution_count": 15,
   "metadata": {
    "colab": {
     "autoexec": {
      "startup": false,
      "wait_interval": 0.0
     },
     "base_uri": "https://localhost:8080/",
     "height": 85.0
    },
    "colab_type": "code",
    "executionInfo": {
     "elapsed": 820.0,
     "status": "ok",
     "timestamp": 1.530610528108E12,
     "user": {
      "displayName": "Олександр Валер'янович Орловський",
      "photoUrl": "//lh4.googleusercontent.com/-aNlpDuZUFYA/AAAAAAAAAAI/AAAAAAAAAAo/pMzStuOMp0s/s50-c-k-no/photo.jpg",
      "userId": "115227064507961374760"
     },
     "user_tz": -180.0
    },
    "id": "eP9Lr7GnzuqX",
    "outputId": "cf350a80-9222-4672-bc6f-39e1d15a6167"
   },
   "outputs": [
    {
     "name": "stdout",
     "output_type": "stream",
     "text": [
      "A = []\n",
      "B = [1, 2, 'python']\n",
      "[1]\n",
      "Lucy is here!\n"
     ]
    }
   ],
   "source": [
    "A = [ ]\n",
    "print(\"A =\", A)\n",
    "# пустий список \n",
    "\n",
    "B = [1, 2, 'python']\n",
    "print(\"B =\", B)\n",
    "# список що вміщає в собі змінні різних типів даних\n",
    "\n",
    "print(B[0:1])\n",
    "# використання слайсів в списках\n",
    "\n",
    "my_list = ['Lucy', 'Marie', 'Jenny']\n",
    "if 'Lucy' in my_list:\n",
    "    print(\"Lucy is here!\")\n",
    "else:\n",
    "    print(\"Lucy is absent today\")\n",
    "# оператори членства в дії з списками\n",
    "        "
   ]
  },
  {
   "cell_type": "markdown",
   "metadata": {
    "colab_type": "text",
    "id": "svmyMR3FlBkL"
   },
   "source": [
    "**Існують і інші методи та функції списків**\n",
    "\n",
    "[функції списків](https://bit.ly/Py3ListsMethods)"
   ]
  },
  {
   "cell_type": "markdown",
   "metadata": {
    "colab_type": "text",
    "id": "V0aJTnTZlOXf"
   },
   "source": [
    "list.append(element) ------------------------------------------------------ додає елемент в кінець списку\n",
    "\n",
    "list.insert(index, element) -------------------------------------------------додає елемент в вказане місце в списку та подвигає всі інші вправо\n",
    "\n",
    "list.extend(list2)---------------------------------------------------------------додає всі елементи списку list2 в кінець списку list (можна застосувати +=)\n",
    "\n",
    "list.index(elem) ---------------------------------------------------------------шукає елемент в списку, починаючи від 0 індексу і повертає місцезнаходження даного елемента\n",
    "\n",
    "list.remove(elem) ------------------------------------------------------------шукає найперше входження елемента в список і видаляє його\n",
    "\n",
    "list.sort() ------------------------------------------------------------------------сортує список\n",
    "\n",
    "list.reverse() -------------------------------------------------------------------перевертає список.\n",
    "\n",
    "list.pop(index) -----------------------------------------------------------------видаляє та повертає елемент з даного списку\n"
   ]
  },
  {
   "cell_type": "code",
   "execution_count": 16,
   "metadata": {
    "colab": {
     "autoexec": {
      "startup": false,
      "wait_interval": 0.0
     },
     "base_uri": "https://localhost:8080/",
     "height": 187.0
    },
    "colab_type": "code",
    "executionInfo": {
     "elapsed": 534.0,
     "status": "ok",
     "timestamp": 1.530610532612E12,
     "user": {
      "displayName": "Олександр Валер'янович Орловський",
      "photoUrl": "//lh4.googleusercontent.com/-aNlpDuZUFYA/AAAAAAAAAAI/AAAAAAAAAAo/pMzStuOMp0s/s50-c-k-no/photo.jpg",
      "userId": "115227064507961374760"
     },
     "user_tz": -180.0
    },
    "id": "_nNlIZpYmZHg",
    "outputId": "c5e0eaca-2c43-4c9b-f488-1ea0a811fb35"
   },
   "outputs": [
    {
     "name": "stdout",
     "output_type": "stream",
     "text": [
      "my_list = ['Lucy', 'Marie', 'Jenny']\n",
      "------------------------------------\n",
      "['Lucy', 'Marie', 'Jenny', 'Jackson']\n",
      "['Lucy', 'second name', 'Marie', 'Jenny', 'Jackson']\n",
      "['Lucy', 'second name', 'Marie', 'Jenny', 'Jackson', 'Christen', 'Zoe']\n",
      "['Lucy', 'second name', 'Jenny', 'Jackson', 'Christen', 'Zoe']\n",
      "['Christen', 'Jackson', 'Jenny', 'Lucy', 'Zoe', 'second name']\n",
      "['second name', 'Zoe', 'Lucy', 'Jenny', 'Jackson', 'Christen']\n",
      "['second name', 'Zoe', 'Lucy', 'Jenny', 'Christen']\n",
      "1\n"
     ]
    }
   ],
   "source": [
    "my_list = ['Lucy', 'Marie', 'Jenny']\n",
    "print(\"my_list =\", my_list)\n",
    "print(\"------------------------------------\")\n",
    "\n",
    "my_list.append('Jackson')\n",
    "print(my_list)\n",
    "\n",
    "my_list.insert(1,'second name')\n",
    "print(my_list)\n",
    "\n",
    "my_list.extend(['Christen', 'Zoe'])\n",
    "print(my_list)\n",
    "\n",
    "my_list.remove('Marie')\n",
    "print(my_list)\n",
    "\n",
    "my_list.sort()\n",
    "print(my_list)\n",
    "\n",
    "my_list.reverse()\n",
    "print(my_list)\n",
    "\n",
    "my_list.pop(4)\n",
    "print(my_list)\n",
    "\n",
    "print(my_list.index('Zoe'))"
   ]
  },
  {
   "cell_type": "markdown",
   "metadata": {
    "colab_type": "text",
    "id": "XFD3hzEp2EEs"
   },
   "source": [
    "### Багатовимірні списки"
   ]
  },
  {
   "cell_type": "markdown",
   "metadata": {
    "colab_type": "text",
    "id": "-X3yr_UU2Q9J"
   },
   "source": [
    "Ви колись чули про [список, що містить список](https://bit.ly/PyMDLists)? І назва цьому явищу \"багатовимірний список\". Давайте розглянемо в деталях.\n",
    "\n",
    "Ось так [можна його створити](https://bit.ly/PyMDListsEffbot) :\n",
    "\n",
    ">```mult_list = [[1,2,3,4], [5,6,7,8]] ```\n",
    "\n",
    "Для того щоб дістати певну послідовність з списку, наведеного як приклад вище,застосовується:\n",
    "\n",
    ">``` mult_list[sequence number]```"
   ]
  },
  {
   "cell_type": "markdown",
   "metadata": {
    "colab_type": "text",
    "id": "okf7zdXj4Boj"
   },
   "source": [
    "\"Звичайно може бути більше вимірів списках. Запам'ятай, що список, що містить список, це базовий принцип, що може бути застосовний знову і знову\".\n",
    "([джерело](https://linuxconfig.org/python-multidimensional-lists))"
   ]
  },
  {
   "cell_type": "markdown",
   "metadata": {
    "colab_type": "text",
    "id": "Oek-D0BZAbfe"
   },
   "source": [
    "**Завдання**: поверни 0, якщо список складається в більшості з від'ємних чисел, і 1, якщо навпаки. \n"
   ]
  },
  {
   "cell_type": "code",
   "execution_count": 1,
   "metadata": {
    "colab": {
     "autoexec": {
      "startup": false,
      "wait_interval": 0.0
     },
     "base_uri": "https://localhost:8080/",
     "height": 68.0
    },
    "colab_type": "code",
    "executionInfo": {
     "elapsed": 8836.0,
     "status": "ok",
     "timestamp": 1.530972009275E12,
     "user": {
      "displayName": "Олександр Валер'янович Орловський",
      "photoUrl": "//lh4.googleusercontent.com/-aNlpDuZUFYA/AAAAAAAAAAI/AAAAAAAAAAo/pMzStuOMp0s/s50-c-k-no/photo.jpg",
      "userId": "115227064507961374760"
     },
     "user_tz": -180.0
    },
    "id": "KPN9171j35-8",
    "outputId": "0762bda7-e4ae-4251-aff6-8a4c97d6e4ae"
   },
   "outputs": [
    {
     "name": "stdout",
     "output_type": "stream",
     "text": [
      "n=3\n",
      "[[-9, -2, -8], [2, -5, -1], [2, -2, -10]]\n",
      "1\n"
     ]
    }
   ],
   "source": [
    "from random import randint\n",
    "\n",
    "n = int(input(\"n=\"))\n",
    "minus = 0\n",
    "plus = 0\n",
    "a = [[randint(-10, 7) for j in range(n)] for i in range(n)]  # застосовано техніку list comrehension\n",
    "print(a)\n",
    "for i in range(len(a)):\n",
    "    for j in range(len(a[i])):\n",
    "        if a[i][j] < 0:\n",
    "            minus += 1\n",
    "        elif a[i][j] >= 0:\n",
    "            plus += 1\n",
    "if minus > plus:\n",
    "    print( \"1\" ) \n",
    "elif minus < plus:\n",
    "    print( \"0\" )"
   ]
  },
  {
   "cell_type": "markdown",
   "metadata": {
    "colab_type": "text",
    "id": "jbMi79J2DHwa"
   },
   "source": [
    "Зацікавлений в деталях😄? Продовжуй поринати в світ списків [ось тут](https://bit.ly/Py2DListsEx), щоб досягти рівня гуру😏"
   ]
  },
  {
   "cell_type": "markdown",
   "metadata": {
    "colab_type": "text",
    "id": "I14SQg_HoYTQ"
   },
   "source": [
    "## Кортежі\n"
   ]
  },
  {
   "cell_type": "markdown",
   "metadata": {
    "colab_type": "text",
    "id": "6D3JGW8eoaB5"
   },
   "source": [
    "Кортежі це група зібраних разом значень. Загалом вони схожі на списки, та маніпуляції над ними ідентичні. Проте є одна важлива відмінність, яка є основною властивістю кортежів: неможливість змінити послідовність. \n",
    "\n",
    "Він описується один раз, і таким залишається назавжди.\n",
    "\n",
    "***Кортежі визначаються такими дужками: ().***\n",
    "\n",
    "[Цікавинки про кортежі](https://bit.ly/PyTuplesGFG)"
   ]
  },
  {
   "cell_type": "markdown",
   "metadata": {
    "colab_type": "text",
    "id": "aPrjnpoMotcL"
   },
   "source": [
    "***Правила кортежів:***\n",
    "\n",
    "1. Кортежі не мають методів розширення чи додавання елементів\n",
    "2. Видалити елемент з кортежа неможливо.\n",
    "3. Ти можеш знаходити елементи в кортежах і це не буде змінювати його вмістиме.\n",
    "Також можна застосувати оператор членства **in** (якщо елемент взагалі існує).\n",
    "4. Кортежі працюють скоріше, ніж списки, завдяки своїй статичності.\n",
    "5. Кортеж створює деяку недоторканість коду."
   ]
  },
  {
   "cell_type": "code",
   "execution_count": 17,
   "metadata": {
    "colab": {
     "autoexec": {
      "startup": false,
      "wait_interval": 0.0
     },
     "base_uri": "https://localhost:8080/",
     "height": 136.0
    },
    "colab_type": "code",
    "executionInfo": {
     "elapsed": 649.0,
     "status": "ok",
     "timestamp": 1.530610534967E12,
     "user": {
      "displayName": "Олександр Валер'янович Орловський",
      "photoUrl": "//lh4.googleusercontent.com/-aNlpDuZUFYA/AAAAAAAAAAI/AAAAAAAAAAo/pMzStuOMp0s/s50-c-k-no/photo.jpg",
      "userId": "115227064507961374760"
     },
     "user_tz": -180.0
    },
    "id": "lKO7SEnCpf5L",
    "outputId": "0b96ae86-c54d-47f2-a5f8-d5f7bbfdef87"
   },
   "outputs": [
    {
     "name": "stdout",
     "output_type": "stream",
     "text": [
      "my_tuple = (1, 2, 3, 4)\n",
      "-----------------------\n",
      "element at 3 index = 2\n",
      "1\n",
      "2\n",
      "3\n",
      "4\n"
     ]
    }
   ],
   "source": [
    "my_tuple = (1, 2, 3, 4)\n",
    "print(\"my_tuple =\", my_tuple)\n",
    "print(\"-----------------------\")\n",
    "print(\"element at 3 index =\", my_tuple.index(3))\n",
    "\n",
    "for el in my_tuple:\n",
    "    print(el)\n",
    "\n",
    "# my_tuple.append('6')\n",
    "# AttributeError\n",
    "\n"
   ]
  },
  {
   "cell_type": "markdown",
   "metadata": {
    "colab_type": "text",
    "id": "GaQyNorAzdtA"
   },
   "source": [
    "## Словники"
   ]
  },
  {
   "cell_type": "markdown",
   "metadata": {
    "colab_type": "text",
    "id": "8xj97rH7zjtV"
   },
   "source": [
    "[Словник](https://bit.ly/PyDicts) це підвид списку створений з пар **Ключ:Значення**. \n",
    "\n",
    "**Правила словників:**\n",
    "\n",
    "1.Використовуй {} фігурні дужки щоб сконструювати словник, та [] дужки для знаходження елемента по індексу.\n",
    "\n",
    "2.Значення певного ключа може бути будь-яким типом даних. \n",
    "\n",
    "3.Словники - це невпорядкований тип даних."
   ]
  },
  {
   "cell_type": "code",
   "execution_count": 18,
   "metadata": {
    "colab": {
     "autoexec": {
      "startup": false,
      "wait_interval": 0.0
     },
     "base_uri": "https://localhost:8080/",
     "height": 102.0
    },
    "colab_type": "code",
    "executionInfo": {
     "elapsed": 547.0,
     "status": "ok",
     "timestamp": 1.530610536562E12,
     "user": {
      "displayName": "Олександр Валер'янович Орловський",
      "photoUrl": "//lh4.googleusercontent.com/-aNlpDuZUFYA/AAAAAAAAAAI/AAAAAAAAAAo/pMzStuOMp0s/s50-c-k-no/photo.jpg",
      "userId": "115227064507961374760"
     },
     "user_tz": -180.0
    },
    "id": "d3v2zMoP3LVz",
    "outputId": "93c2f3cf-593c-44b3-c643-3251523a371f"
   },
   "outputs": [
    {
     "name": "stdout",
     "output_type": "stream",
     "text": [
      "product_price = {'cucumber': 5, 'tomato': 4}\n",
      "--------------------------------------------\n",
      "4\n",
      "{'cucumber': 6, 'tomato': 4, 'rice': 7}\n",
      "True\n"
     ]
    }
   ],
   "source": [
    "product_price = {'cucumber': 5, 'tomato': 4}\n",
    "print(\"product_price =\", product_price)\n",
    "print(\"--------------------------------------------\")\n",
    "# створюєм новий словник\n",
    "\n",
    "product_price['cucumber'] = 6\n",
    "# створюєм нову пару ключ-значення\n",
    "\n",
    "print(product_price['tomato'])\n",
    "\n",
    "product_price['rice'] = 7\n",
    "print(product_price)\n",
    "# додаємо до пари `rice`-value певне значення\n",
    "\n",
    "print('rice' in product_price)\n",
    "# повертає True якщо 'rice' знаходиться в словнику 'product_price'\n"
   ]
  },
  {
   "cell_type": "markdown",
   "metadata": {
    "colab_type": "text",
    "id": "yNLtDfbwyG0k"
   },
   "source": [
    "### Списки - кортежі - словники: спільне та відмінне\n"
   ]
  },
  {
   "cell_type": "markdown",
   "metadata": {
    "colab_type": "text",
    "id": "2YKv5w2VXjle"
   },
   "source": [
    "В загальному, список - це змінний тип даних. Список можна модифікувати після його створення.\n",
    "\n",
    "А кортеж є типом даних, що не змінюється. Після створення він назавжди залишається в своєму первісному стані.\n",
    "\n",
    "Найкраще пояснення різниці між списками та кортежами спеціально для вас: [кортеж вирізняється структурою, список - порядком](https://bit.ly/PyListsTuplesDiffs)! \n",
    "\n",
    "Словник - склад, де зберігаються пари ключ-значення. Словник не є впорядкованим, але правила списку вимагають щоб ключі були хешувальними, для швидкого пошуку по ключам.\n",
    "\n",
    "\n",
    ">1.Спробуй дещо цікаве з [цієї лекції](https://bit.ly/PyListsTuplesDicts), про найбільш потрібні і вживані функції в програмуванні списків, кортежів та словників.\n",
    "\n",
    "\n",
    ">2.Якщо не вистачає загальних знань про вищезгадані типи даних, поглянь на дану [статтю](https://bit.ly/2K7KFbU), яка допоможе усунути прогалини в знаннях.\n",
    "\n",
    ">3.Детальний опис та виконання базових операцій над даними типами даних показані [тут](https://bit.ly/2K76lEI).\n",
    "\n",
    "Не лінуйтесь дізнаватись більше😇\n",
    "\n"
   ]
  },
  {
   "cell_type": "markdown",
   "metadata": {
    "colab_type": "text",
    "id": "fvoCoaFHdxOe"
   },
   "source": [
    "## Байти"
   ]
  },
  {
   "cell_type": "markdown",
   "metadata": {
    "colab_type": "text",
    "id": "p1Tjj_9uf0IR"
   },
   "source": [
    "[Байтових тип даних](https://bit.ly/PyBytes) є незмінним та може містити в собі послідовності значень від 0-255 (8 біт)"
   ]
  },
  {
   "cell_type": "code",
   "execution_count": 5,
   "metadata": {
    "colab": {
     "autoexec": {
      "startup": false,
      "wait_interval": 0.0
     },
     "base_uri": "https://localhost:8080/",
     "height": 34.0
    },
    "colab_type": "code",
    "executionInfo": {
     "elapsed": 769.0,
     "status": "ok",
     "timestamp": 1.530972176432E12,
     "user": {
      "displayName": "Олександр Валер'янович Орловський",
      "photoUrl": "//lh4.googleusercontent.com/-aNlpDuZUFYA/AAAAAAAAAAI/AAAAAAAAAAo/pMzStuOMp0s/s50-c-k-no/photo.jpg",
      "userId": "115227064507961374760"
     },
     "user_tz": -180.0
    },
    "id": "koCVw6Sof8AS",
    "outputId": "04cc5dfc-c678-4055-d59c-1a1343c79c35"
   },
   "outputs": [
    {
     "name": "stdout",
     "output_type": "stream",
     "text": [
      "b'\\x00\\x00\\x00\\x00\\x00\\x00\\x00\\x00\\x00\\x00\\x00\\x00\\x00\\x00\\x00\\x00'\n"
     ]
    }
   ],
   "source": [
    "# створюємо пустий байт\n",
    "empty = bytes(16)\n",
    "print(empty)"
   ]
  },
  {
   "cell_type": "markdown",
   "metadata": {
    "colab_type": "text",
    "id": "RQo0Qn70g9pJ"
   },
   "source": [
    "метод bytes():\n",
    "\n",
    "повертає новий байтовий об'єкт, що при виведені є ASCII знаком."
   ]
  },
  {
   "cell_type": "code",
   "execution_count": 3,
   "metadata": {
    "colab": {
     "autoexec": {
      "startup": false,
      "wait_interval": 0.0
     },
     "base_uri": "https://localhost:8080/",
     "height": 136.0
    },
    "colab_type": "code",
    "executionInfo": {
     "elapsed": 813.0,
     "status": "ok",
     "timestamp": 1.530972189674E12,
     "user": {
      "displayName": "Олександр Валер'янович Орловський",
      "photoUrl": "//lh4.googleusercontent.com/-aNlpDuZUFYA/AAAAAAAAAAI/AAAAAAAAAAo/pMzStuOMp0s/s50-c-k-no/photo.jpg",
      "userId": "115227064507961374760"
     },
     "user_tz": -180.0
    },
    "id": "7y-hRkVrhV4l",
    "outputId": "a3f70548-87c4-487b-cc12-16f8d2bed660"
   },
   "outputs": [
    {
     "name": "stdout",
     "output_type": "stream",
     "text": [
      "109\n",
      "105\n",
      "110\n",
      "117\n",
      "116\n",
      "101\n",
      "115\n"
     ]
    }
   ],
   "source": [
    "# b - base64 encoding\n",
    "data_to_convert1 = bytes(b\"minutes\")\n",
    "for element in data_to_convert1:\n",
    "    print(element)"
   ]
  },
  {
   "cell_type": "markdown",
   "metadata": {
    "colab_type": "text",
    "id": "PVO8Q6Mth9X4"
   },
   "source": [
    "Створення байтового масиву дозволяє нам отримати змінний тип даних."
   ]
  },
  {
   "cell_type": "markdown",
   "metadata": {
    "colab_type": "text",
    "id": "MAYHiJrKiEzv"
   },
   "source": [
    "метод bytearray() :\n",
    "\n",
    "повертає новий [масив байтів](https://bit.ly/PyByteArray). "
   ]
  },
  {
   "cell_type": "code",
   "execution_count": 4,
   "metadata": {
    "colab": {
     "autoexec": {
      "startup": false,
      "wait_interval": 0.0
     },
     "base_uri": "https://localhost:8080/",
     "height": 34.0
    },
    "colab_type": "code",
    "executionInfo": {
     "elapsed": 672.0,
     "status": "ok",
     "timestamp": 1.530972242082E12,
     "user": {
      "displayName": "Олександр Валер'янович Орловський",
      "photoUrl": "//lh4.googleusercontent.com/-aNlpDuZUFYA/AAAAAAAAAAI/AAAAAAAAAAo/pMzStuOMp0s/s50-c-k-no/photo.jpg",
      "userId": "115227064507961374760"
     },
     "user_tz": -180.0
    },
    "id": "UrXBmWZNiUk9",
    "outputId": "5cb8e44a-c365-4e7c-c9a2-76a76e489a5e"
   },
   "outputs": [
    {
     "name": "stdout",
     "output_type": "stream",
     "text": [
      "Element count: 5\n"
     ]
    }
   ],
   "source": [
    "new_array = bytearray([90, 80, 70, 60, 50])\n",
    "print(\"Element count:\", len(new_array))"
   ]
  },
  {
   "cell_type": "code",
   "execution_count": 6,
   "metadata": {
    "colab": {
     "autoexec": {
      "startup": false,
      "wait_interval": 0.0
     },
     "base_uri": "https://localhost:8080/",
     "height": 174.0
    },
    "colab_type": "code",
    "executionInfo": {
     "elapsed": 1720.0,
     "status": "ok",
     "timestamp": 1.531052660068E12,
     "user": {
      "displayName": "Катерина В`ячеславівна Переверзева",
      "photoUrl": "//lh6.googleusercontent.com/-9dwrULxIzZI/AAAAAAAAAAI/AAAAAAAAAAs/X3ZeZ0JEvAw/s50-c-k-no/photo.jpg",
      "userId": "117674908900817098526"
     },
     "user_tz": -180.0
    },
    "id": "uo-IjOFIiknE",
    "outputId": "6d7f6f89-15cb-4cbd-e63e-f7b122bcebc1"
   },
   "outputs": [
    {
     "name": "stdout",
     "output_type": "stream",
     "text": [
      "109\n",
      "105\n",
      "110\n",
      "4\n",
      "116\n",
      "101\n",
      "115\n",
      "---\n",
      "minutes\n"
     ]
    }
   ],
   "source": [
    "data_to_convert2 = bytearray(b\"minutes\")\n",
    "data_to_convert2[3] = 4\n",
    "for element2 in data_to_convert2:\n",
    "    print(element2)\n",
    "   \n",
    "print('---')\n",
    "# якщо треба декодувати байтовий масив задля кращої читабельності\n",
    "print(b\"minutes\".decode(\"utf-8\"))"
   ]
  },
  {
   "cell_type": "markdown",
   "metadata": {
    "colab_type": "text",
    "id": "o_5OnIRYjN8E"
   },
   "source": [
    "Згідно з вищенаведених прикладів, ми впевнелись що bytearray() є змінним типом даних і користувач може змінити вмістиме, на відміну від byte() прикладів."
   ]
  },
  {
   "cell_type": "markdown",
   "metadata": {
    "colab_type": "text",
    "id": "-rXnPfZ0j4_4"
   },
   "source": [
    "\n",
    "Ми дійсно рекомендуємо вам ознайомитись з цією [статтею](https://bit.ly/PyBytesPerls), щоб поглибити знання про байти, які вам точно знадобляться😌"
   ]
  },
  {
   "cell_type": "markdown",
   "metadata": {
    "colab_type": "text",
    "id": "gPui8-jpHZuJ"
   },
   "source": [
    "# Цикли (7 хв)"
   ]
  },
  {
   "cell_type": "markdown",
   "metadata": {
    "colab_type": "text",
    "id": "ao3DyE1YHtU-"
   },
   "source": [
    "Усі мови програмування повинні мати спосіб робити деякі схожі речі автоматично. Цю нішу зайняли цикли."
   ]
  },
  {
   "cell_type": "markdown",
   "metadata": {
    "colab_type": "text",
    "id": "JqYZRH7fH0Ag"
   },
   "source": [
    "## Цикл for"
   ]
  },
  {
   "cell_type": "markdown",
   "metadata": {
    "colab_type": "text",
    "id": "OX9Q9hrOH64P"
   },
   "source": [
    "Цикл [for ](https://bit.ly/PyFWLoops)позиціонує себе як розширений цикл.\n",
    "Конструкція даного циклу:\n",
    "```\n",
    "for x in range(0, 5):\n",
    "    print \"Hello\"\n",
    " ```\n",
    "  \n",
    "  Це цикл від 0 до 4, тому він спрацював 5 разів.\n",
    "\n",
    "\n"
   ]
  },
  {
   "cell_type": "code",
   "execution_count": 19,
   "metadata": {
    "colab": {
     "autoexec": {
      "startup": false,
      "wait_interval": 0.0
     },
     "base_uri": "https://localhost:8080/",
     "height": 425.0
    },
    "colab_type": "code",
    "executionInfo": {
     "elapsed": 556.0,
     "status": "ok",
     "timestamp": 1.530610537876E12,
     "user": {
      "displayName": "Олександр Валер'янович Орловський",
      "photoUrl": "//lh4.googleusercontent.com/-aNlpDuZUFYA/AAAAAAAAAAI/AAAAAAAAAAo/pMzStuOMp0s/s50-c-k-no/photo.jpg",
      "userId": "115227064507961374760"
     },
     "user_tz": -180.0
    },
    "id": "z_ULo2NJItmc",
    "outputId": "5289a130-87c3-4a7a-c356-5971442a77de"
   },
   "outputs": [
    {
     "name": "stdout",
     "output_type": "stream",
     "text": [
      "string = Hello World\n",
      "print string using loop:\n",
      "H\n",
      "e\n",
      "l\n",
      "l\n",
      "o\n",
      " \n",
      "W\n",
      "o\n",
      "r\n",
      "l\n",
      "d\n",
      "list = ['Note', 5, 'look']\n",
      "print list using loop:\n",
      "Note\n",
      "5\n",
      "look\n",
      "print numbers using loop:\n",
      "\n",
      "1\n",
      "3\n",
      "5\n",
      "7\n"
     ]
    }
   ],
   "source": [
    "# Strings as an iterable\n",
    "string = \"Hello World\"\n",
    "print(\"string =\", string)\n",
    "print(\"print string using loop:\")\n",
    "for a in string:\n",
    "    print (a)\n",
    "    \n",
    "# Lists too\n",
    "list = ['Note', 5, 'look']\n",
    "print(\"list =\", list)\n",
    "print(\"print list using loop:\")\n",
    "for a in list:\n",
    "    print (a)\n",
    "    \n",
    "print(\"print numbers using loop:\")    \n",
    "# роздрукує кожну другу цифру від 1 до 8 \n",
    "print(\"\")\n",
    "for a in range(1, 8, 2):\n",
    "    print(a)"
   ]
  },
  {
   "cell_type": "markdown",
   "metadata": {
    "colab_type": "text",
    "id": "AVn2GMyBJhFj"
   },
   "source": [
    "## Цикл while"
   ]
  },
  {
   "cell_type": "markdown",
   "metadata": {
    "colab_type": "text",
    "id": "QN1pfc8mJjSl"
   },
   "source": [
    "[Цикл while](https://bit.ly/PyLoopsLP) повторюється поки задане ствердження є правдивим."
   ]
  },
  {
   "cell_type": "code",
   "execution_count": 20,
   "metadata": {
    "colab": {
     "autoexec": {
      "startup": false,
      "wait_interval": 0.0
     },
     "base_uri": "https://localhost:8080/",
     "height": 119.0
    },
    "colab_type": "code",
    "executionInfo": {
     "elapsed": 572.0,
     "status": "ok",
     "timestamp": 1.530610539162E12,
     "user": {
      "displayName": "Олександр Валер'янович Орловський",
      "photoUrl": "//lh4.googleusercontent.com/-aNlpDuZUFYA/AAAAAAAAAAI/AAAAAAAAAAo/pMzStuOMp0s/s50-c-k-no/photo.jpg",
      "userId": "115227064507961374760"
     },
     "user_tz": -180.0
    },
    "id": "Ixka44yRKGLS",
    "outputId": "2efdcf38-2f30-44cc-b460-9710339ce90a"
   },
   "outputs": [
    {
     "name": "stdout",
     "output_type": "stream",
     "text": [
      "counter = 1\n",
      "-----------\n",
      "1\n",
      "2\n",
      "3\n",
      "4\n"
     ]
    }
   ],
   "source": [
    "counter = 1\n",
    "print(\"counter =\", counter)\n",
    "print(\"-----------\")\n",
    "while counter < 8:\n",
    "    print(counter)\n",
    "    counter +=1\n",
    "    if counter == 5:\n",
    "        break"
   ]
  },
  {
   "cell_type": "markdown",
   "metadata": {
    "colab_type": "text",
    "id": "yR70PgXaLV_S"
   },
   "source": [
    "## Оператори break, continue, pass \n"
   ]
  },
  {
   "cell_type": "markdown",
   "metadata": {
    "colab_type": "text",
    "id": "M5iEQ_SsLbOV"
   },
   "source": [
    "**Break**: В Python, оператор [break](https://bit.ly/PyBreakContPassDO) надає можливість вийти із циклу, коли спрацює певна умова. \n",
    "```\n",
    "number  = 0\n",
    "while number < 3\n",
    "    print(number)\n",
    "    number +=1\n",
    "        if number == 2\n",
    "            break\n",
    "```"
   ]
  },
  {
   "cell_type": "markdown",
   "metadata": {
    "colab_type": "text",
    "id": "im8ki4DDMNmX"
   },
   "source": [
    "**Continue**: Оператор [continue](https://bit.ly/PyOrgContinue) виконує пропуск частини коду тіла циклу, що залишилася і переходить на наступну ітерацію:\n",
    "```\n",
    "for number in range(0, 10):\n",
    "    if number % 3 == 0:\n",
    "        print (\"Find!\", number)\n",
    "            continue\n",
    "    print (\"Hmm \", number)\n",
    "     ```\n",
    "     "
   ]
  },
  {
   "cell_type": "markdown",
   "metadata": {
    "colab_type": "text",
    "id": "Wknhxyz4Nbbe"
   },
   "source": [
    "**Pass**: Оператор [pass](https://bit.ly/PyOrgContinue) не робить нічого, буквально. Дякуючи оператору pass, програма продовжує обробляти цикл і ігнорує умову, на якій pass спрацьовує:\n",
    "```\n",
    "while True:\n",
    "    pass\n",
    "```\n",
    "\n"
   ]
  },
  {
   "cell_type": "markdown",
   "metadata": {
    "colab_type": "text",
    "id": "V8iyArawmlac"
   },
   "source": [
    "# Умовні оператори  (3 хв)\n"
   ]
  },
  {
   "cell_type": "markdown",
   "metadata": {
    "colab_type": "text",
    "id": "CBSxzLfUmsYP"
   },
   "source": [
    "Оператори [if/elif/else](https://bit.ly/PyIfElseProgramiz) використовуються для перевірки деяких умов і виконання супроводжуючих до них дій.\n",
    "\n",
    "Оператор **else** спрацьовує коли попередні перевірки на правильність та правдивість умов не виконуються.\n",
    "\n",
    "Оператор **[elif](https://bit.ly/PyIfElseTP)** спрацьовує коли попередні перевірки **if** не виконались і треба перевірити наступну чітко визначену умову. (elif == else + if)\n",
    "\n",
    "\n",
    "\n",
    "```\n",
    "if expression1:\n",
    "   statement(s)\n",
    "elif expression2:\n",
    "   statement(s)\n",
    "else:\n",
    "   statement(s)\n",
    "   ```\n"
   ]
  },
  {
   "cell_type": "code",
   "execution_count": 8,
   "metadata": {
    "colab": {
     "autoexec": {
      "startup": false,
      "wait_interval": 0.0
     },
     "base_uri": "https://localhost:8080/",
     "height": 85.0
    },
    "colab_type": "code",
    "executionInfo": {
     "elapsed": 1387.0,
     "status": "ok",
     "timestamp": 1.531153284614E12,
     "user": {
      "displayName": "Олександр Валер'янович Орловський",
      "photoUrl": "//lh4.googleusercontent.com/-aNlpDuZUFYA/AAAAAAAAAAI/AAAAAAAAAAo/pMzStuOMp0s/s50-c-k-no/photo.jpg",
      "userId": "115227064507961374760"
     },
     "user_tz": -180.0
    },
    "id": "Wp3zli-GpK38",
    "outputId": "e1a046bb-39d4-478c-ad67-432eb7230dc2"
   },
   "outputs": [
    {
     "name": "stdout",
     "output_type": "stream",
     "text": [
      "number = -3\n",
      "----------\n",
      "number is less than zero\n",
      "number is less than zero\n"
     ]
    }
   ],
   "source": [
    "number = -3\n",
    "print(\"number =\", number)\n",
    "print(\"----------\")\n",
    "if number > 0:\n",
    "    print(\"number is greater than zero\")\n",
    "elif number == 0:\n",
    "    print(\"number is zero\")\n",
    "else:\n",
    "    print(\"number is less than zero\")\n",
    "    \n",
    "# або ж в 1 строчку коду:\n",
    "print(\"number is greater than zero\") if number > 0 else print(\"number is zero\") if number == 0 else print(\"number is less than zero\")"
   ]
  },
  {
   "cell_type": "markdown",
   "metadata": {
    "colab_type": "text",
    "id": "eRMvHgfSydiR"
   },
   "source": [
    "# Модулі і пакети (5 хв)\n"
   ]
  },
  {
   "cell_type": "markdown",
   "metadata": {
    "colab_type": "text",
    "id": "niQAmI0wyhsg"
   },
   "source": [
    "\n",
    "[tutorialspoint](https://bit.ly/PyModulesTP) каже:\n",
    "\n",
    "> Модуь дозволяє **логічно організувати наш Python код**. Збираючи разом споріднений код в модуль , ми отримаємо ***ясне розуміння написаного коду***. \n",
    "\n",
    "> Модулі визначають функції, класи, змінні. Також модуль може включати в себе код, що можна запустити.\n",
    "\n",
    "А як це відтворюється в коді?\n",
    "\n",
    "> Ви можете використовувати будь-який вихідний файл Python як модуль, виконавши операцію імпорту в іншому робочому файлі Python:\n",
    "```\n",
    "import module\n",
    "```\n",
    "Python дозволяє з певного модуля імпортувати специфічні атрибути прямо в поточний namespace:\n",
    " ```\n",
    "from module import function\n",
    "```\n",
    "\n",
    "А що ж таке пакет?\n",
    "\n",
    "Наш вірий друг - tutorialspoint каже: \n",
    "> Пакет являє собою ієрархічну структуру каталогу файлів, що визначає єдине середовище застосування Python, що складається з модулів, підпакетів та під-підпакетів тощо.\n",
    "\n",
    "Коротко кажучи, **пакет - це папка, що організовує на місцях модулі**.\n",
    "\n",
    "📌 **Підказка** 📌: ділимось з вами величезною базою Python пакетів - [PyPi](https://bit.ly/PyPiOrg), де ви знайдете все що вам потрібно для пришвидшення роботи!😀\n",
    "\n"
   ]
  },
  {
   "cell_type": "markdown",
   "metadata": {
    "colab_type": "text",
    "id": "vzxDUhl5zeDj"
   },
   "source": [
    "# Функції (5 хв)\n",
    "\n"
   ]
  },
  {
   "cell_type": "markdown",
   "metadata": {
    "colab_type": "text",
    "id": "FyEpSGWG3yfG"
   },
   "source": [
    "## Прості функції"
   ]
  },
  {
   "cell_type": "markdown",
   "metadata": {
    "colab_type": "text",
    "id": "0Vy5NORSzhf6"
   },
   "source": [
    "В Python [функція](https://bit.ly/PyFuncW3S) визначається, використовуючи спеціальне слово def:\n",
    "```\n",
    " def function_name( parameters ):\n",
    "     do something \n",
    "     return\n",
    "  \n",
    "  ```"
   ]
  },
  {
   "cell_type": "code",
   "execution_count": 10,
   "metadata": {
    "colab": {
     "autoexec": {
      "startup": false,
      "wait_interval": 0.0
     },
     "base_uri": "https://localhost:8080/",
     "height": 68.0
    },
    "colab_type": "code",
    "executionInfo": {
     "elapsed": 552.0,
     "status": "ok",
     "timestamp": 1.530610541831E12,
     "user": {
      "displayName": "Олександр Валер'янович Орловський",
      "photoUrl": "//lh4.googleusercontent.com/-aNlpDuZUFYA/AAAAAAAAAAI/AAAAAAAAAAo/pMzStuOMp0s/s50-c-k-no/photo.jpg",
      "userId": "115227064507961374760"
     },
     "user_tz": -180.0
    },
    "id": "zKdFesKr0j32",
    "outputId": "ecdf0fa7-6ccb-47bc-882e-f5966ec94aa3"
   },
   "outputs": [
    {
     "name": "stdout",
     "output_type": "stream",
     "text": [
      "a = 3 b = 5\n",
      "-----------\n"
     ]
    },
    {
     "data": {
      "text/plain": [
       "4.5"
      ]
     },
     "execution_count": 10,
     "metadata": {},
     "output_type": "execute_result"
    }
   ],
   "source": [
    "def sum (a, b):\n",
    "    c = a + b\n",
    "    return c\n",
    "a = 3\n",
    "b = 5\n",
    "print(\"a =\", a, \"b =\", b)\n",
    "print(\"-----------\")\n",
    "\n",
    "# ф-ція для виклику\n",
    "sum(a, b)\n",
    "\n",
    "def division (a = 6):\n",
    "#     функція без дефолтних параметрів\n",
    "    result = a/2\n",
    "    return result\n",
    "\n",
    "a = 9\n",
    "division(a)\n",
    "\n",
    "#розкоментуй функцію нижче, щоб побачити що відбудеться коли параметри не встановлені - \n",
    "# division()"
   ]
  },
  {
   "cell_type": "markdown",
   "metadata": {
    "colab_type": "text",
    "id": "gUilHsKF3oDb"
   },
   "source": [
    "## Лямбда-функції"
   ]
  },
  {
   "cell_type": "markdown",
   "metadata": {
    "colab_type": "text",
    "id": "BOsYqFuM32Ly"
   },
   "source": [
    "Python дозволяє нам створювати [анонімні функції](https://bit.ly/PyLambdasPyGuru) - функції без імен, названі лямбда фукціями.\n",
    "\n",
    "Для створення лямбда-функції: пропишіть слово lambda з одним або декількома аргументами після нього, та подвійною крапкою : з кодом, для виконання\n"
   ]
  },
  {
   "cell_type": "code",
   "execution_count": 23,
   "metadata": {
    "colab": {
     "autoexec": {
      "startup": false,
      "wait_interval": 0.0
     },
     "base_uri": "https://localhost:8080/",
     "height": 68.0
    },
    "colab_type": "code",
    "executionInfo": {
     "elapsed": 531.0,
     "status": "ok",
     "timestamp": 1.530610543064E12,
     "user": {
      "displayName": "Олександр Валер'янович Орловський",
      "photoUrl": "//lh4.googleusercontent.com/-aNlpDuZUFYA/AAAAAAAAAAI/AAAAAAAAAAo/pMzStuOMp0s/s50-c-k-no/photo.jpg",
      "userId": "115227064507961374760"
     },
     "user_tz": -180.0
    },
    "id": "z9zFZj0W4gwu",
    "outputId": "1f11d9c9-f4e9-44aa-c224-ab506974d201"
   },
   "outputs": [
    {
     "name": "stdout",
     "output_type": "stream",
     "text": [
      "b = 1 c = 5\n",
      "-----------\n"
     ]
    },
    {
     "data": {
      "text/plain": [
       "6"
      ]
     },
     "execution_count": 23,
     "metadata": {
      "tags": []
     },
     "output_type": "execute_result"
    }
   ],
   "source": [
    "b = 1\n",
    "c = 5\n",
    "print(\"b =\", b, \"c =\", c)\n",
    "print(\"-----------\")\n",
    "a = lambda b, c : b + c\n",
    "a(b, c)"
   ]
  },
  {
   "cell_type": "markdown",
   "metadata": {
    "colab_type": "text",
    "id": "zi4X-JWi446h"
   },
   "source": [
    "Чому лямбди є справді корисними?\n",
    "(лише 1 [клік](https://bit.ly/PyWhyLambdasSoUsefulSO) дасть вам відповіді на всі питання по лямбда-функціям🙂)"
   ]
  },
  {
   "cell_type": "markdown",
   "metadata": {
    "colab_type": "text",
    "id": "Fp8vY8AE-TK1"
   },
   "source": [
    "# Файли (2 хв)\n"
   ]
  },
  {
   "cell_type": "markdown",
   "metadata": {
    "colab_type": "text",
    "id": "91TLG5xV-cJ4"
   },
   "source": [
    "Обробка [файлів](https://bit.ly/PyFilesW3S) є важливою частиною величезної кількості додатків.\n",
    "\n",
    "Python має чимало функцій для створення, читання, оновлення та видалення файлів.\n",
    "Загальними і основними функціями є:\n",
    "```\n",
    "filename.open(mode)\n",
    "```\n",
    "4 основні функції для відкриття файлів:\n",
    ">> \"r\" -------------------------------- читати файл \n",
    "\n",
    ">> \"a\" ------------------------------- додати щось до файлу\n",
    "\n",
    ">> \"w\" ------------------------------ відкрити файл для запису\n",
    "\n",
    ">> \"x\"-------------------------------- створити файл\n",
    "\n",
    "\n",
    "Існує безліч типів файлів (найпопулярнішими є XML, JSON) для загального використання. Існує також тонна способів взаємодії між ними. Отже, ми вирішили, що цю тему слід розглянути в окремому colab ноутбуці. [Приєднуйся](https://colab.research.google.com/drive/1oFrYSfix1dVrZn8Ql3CRP6FrM6Ub7doG) 😏\n"
   ]
  },
  {
   "cell_type": "markdown",
   "metadata": {
    "colab_type": "text",
    "id": "i__O4tLZb8NU"
   },
   "source": [
    "# Виключення (5 хв)\n",
    "\n"
   ]
  },
  {
   "cell_type": "markdown",
   "metadata": {
    "colab_type": "text",
    "id": "ELrMEcLncGDq"
   },
   "source": [
    "Python програма завершує свою роботу, як тільки вона виявляє помилку. Навіть якщо твердження чи вираз синтаксично правильне, ***це може призвести до помилки під час спроби її виконання***.\n",
    "Помилки, виявлені під час виконання, називаються [винятками](https://bit.ly/Py3ErrorsExceptions), проте вони не є фатальними: згодом ми розглянемо, як їх обробляти в програмах Python.\n",
    "\n",
    "Тим не менше, більшість винятків не обробляються програмами, і вони призводять до появи повідомлень про помилку, як показано тут:\n",
    "\n",
    "```\n",
    ">>> 10 * (1/0)\n",
    "Traceback (most recent call last):\n",
    "  File \"<stdin>\", line 1, in <module>\n",
    "ZeroDivisionError: division by zero\n",
    "```\n",
    "\n",
    "Як видно на прикладі - з'явилась **ZeroDivisionError** помилка. Чому? - Тому що ми намагались зробити заборонену дію: поділили 1/0. Цей виняток є частиною вбудованих винятків Python. А ось і [список](https://bit.ly/PyExceptionsHandlingTP) інших частин, якщо ви зацікавились 🤔\n",
    "\n",
    "\n",
    "\n"
   ]
  },
  {
   "cell_type": "markdown",
   "metadata": {
    "colab_type": "text",
    "id": "72o64tD5kEAf"
   },
   "source": [
    "Але що робити, якщо нам потрібно зловити якийсь спеціальний стан, який спокійно проходить через всі вбудовані вийнятки?\n",
    "\n",
    "Python, як і зазвичай, надає нам можливість все зробити власноруч 😌 та створити власне виключення, використовуючи ключове слово **raise**:\n"
   ]
  },
  {
   "cell_type": "code",
   "execution_count": 11,
   "metadata": {
    "colab": {
     "autoexec": {
      "startup": false,
      "wait_interval": 0.0
     }
    },
    "colab_type": "code",
    "id": "Efa5Bi7gkysG"
   },
   "outputs": [
    {
     "ename": "Exception",
     "evalue": "Тобі має бути від 16 до 60 років, щоб отримати роботу. Введене значення є невірним. Значення: -1",
     "traceback": [
      "\u001b[0;31m---------------------------------------------------------------------------\u001b[0m",
      "\u001b[0;31mException\u001b[0m                                 Traceback (most recent call last)",
      "\u001b[0;32m<ipython-input-11-f6e404d1ad10>\u001b[0m in \u001b[0;36m<module>\u001b[0;34m()\u001b[0m\n\u001b[1;32m      1\u001b[0m \u001b[0mage\u001b[0m \u001b[0;34m=\u001b[0m \u001b[0;34m-\u001b[0m\u001b[0;36m1\u001b[0m\u001b[0;34m\u001b[0m\u001b[0m\n\u001b[1;32m      2\u001b[0m \u001b[0;32mif\u001b[0m \u001b[0mage\u001b[0m \u001b[0;34m>\u001b[0m \u001b[0;36m60\u001b[0m \u001b[0;32mor\u001b[0m \u001b[0mage\u001b[0m \u001b[0;34m<\u001b[0m \u001b[0;36m16\u001b[0m\u001b[0;34m:\u001b[0m\u001b[0;34m\u001b[0m\u001b[0m\n\u001b[0;32m----> 3\u001b[0;31m     \u001b[0;32mraise\u001b[0m \u001b[0mException\u001b[0m\u001b[0;34m(\u001b[0m\u001b[0;34m'Тобі має бути від 16 до 60 років, щоб отримати роботу. Введене значення є невірним. Значення: {}'\u001b[0m\u001b[0;34m.\u001b[0m\u001b[0mformat\u001b[0m\u001b[0;34m(\u001b[0m\u001b[0mage\u001b[0m\u001b[0;34m)\u001b[0m\u001b[0;34m)\u001b[0m\u001b[0;34m\u001b[0m\u001b[0m\n\u001b[0m",
      "\u001b[0;31mException\u001b[0m: Тобі має бути від 16 до 60 років, щоб отримати роботу. Введене значення є невірним. Значення: -1"
     ],
     "output_type": "error"
    }
   ],
   "source": [
    "age = -1\n",
    "if age > 60 or age < 16:\n",
    "    raise Exception('Тобі має бути від 16 до 60 років, щоб отримати роботу. Введене значення є невірним. Значення: {}'.format(age))"
   ]
  },
  {
   "cell_type": "markdown",
   "metadata": {
    "colab_type": "text",
    "id": "jC2mc7Jep_4O"
   },
   "source": [
    "Ми рекомендуємо ознайомитись з даним [джерелом](https://bit.ly/PyExceptionsRealPy), тут ти знайдеш найкращі пояснення try-except-else-finally блоків. Ця тема настільки проста навіть для початківців, що ми надаємо вам можливість створити приклад самими . Не прогавте можливість написання власного коду😌"
   ]
  },
  {
   "cell_type": "markdown",
   "metadata": {
    "colab_type": "text",
    "id": "UAkl1PWM6_NN"
   },
   "source": [
    "# Епілог"
   ]
  },
  {
   "cell_type": "markdown",
   "metadata": {
    "colab_type": "text",
    "id": "y9FnQUis7DTx"
   },
   "source": [
    "Це лише початок 😉"
   ]
  }
 ],
 "metadata": {
  "accelerator": "GPU",
  "colab": {
   "collapsed_sections": [],
   "default_view": {},
   "name": "02. 69 Minutes to Python 3",
   "provenance": [],
   "toc_visible": true,
   "version": "0.3.2",
   "views": {}
  },
  "kernelspec": {
   "display_name": "Python 3",
   "language": "python",
   "name": "python3"
  },
  "language_info": {
   "codemirror_mode": {
    "name": "ipython",
    "version": 3
   },
   "file_extension": ".py",
   "mimetype": "text/x-python",
   "name": "python",
   "nbconvert_exporter": "python",
   "pygments_lexer": "ipython3",
   "version": "3.6.6"
  }
 },
 "nbformat": 4,
 "nbformat_minor": 2
}
